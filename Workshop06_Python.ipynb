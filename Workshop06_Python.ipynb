{
 "cells": [
  {
   "cell_type": "markdown",
   "metadata": {},
   "source": [
    "# STAT2005 Computer Simulation - Workshop 6\n",
    "## VaR for Portfolio\n",
    "\n",
    "In this workshop, you will be evaluating various VaR forecast methods on a portfolio and assessing their sensitivities to different assets allocations. \n",
    "\n",
    "Let $r_t = \\left (r_{1t}, \\ldots, r_{Kt} \\right )'$ be a $K\\times 1$ vector of $K$ asset returns. Let $\\mu = \\left ( \\mu_1, \\ldots, \\mu_K \\right )'$ and $\\Omega = \\{ \\sigma^2_{ij} \\}$ such that $\\mu_i = \\mathbb{E} (r_{it})$, $\\sigma^2_{ij} = \\mathbb{E} \\left [ \\left ( r_{it} - \\mu_i \\right ) \\left ( r_{jt} - \\mu_j \\right ) \\right ]$ for $i,j=1,\\ldots, K$.\n",
    "\n",
    "Let $w = \\left (w_1, \\ldots, w_K \\right )'$ be the vector weights for each of the $K$ assets, such that $\\mathbf{i}'w=1$ where $\\mathbf{i}$ is a vector of 1s. Let $r_{pt}$ be the portfolio return at time $t$ then $ \\mathbb{E} \\left ( r_{pt} \\right ) = w'\\mu$ and the variance of the portfolio is $\\sigma^2_p = w' \\Omega w$. \n",
    "\n",
    "For risk-averse investors, they may wish to select the weights to minimize their investment risk. In such case, they can select the weight by solving the following minimization problem:\n",
    "\n",
    "$$\n",
    "    \\begin{align} \n",
    "        w^* =& \\underset{w}{\\arg\\min}\\; w'\\Omega w \\\\\n",
    "        \\text{s.t.} \\qquad& \\mathbf{i}'w = 1.\n",
    "    \\end{align}\n",
    "$$"
   ]
  },
  {
   "cell_type": "markdown",
   "metadata": {},
   "source": [
    "<div style=\"background-color:rgb(255,200,200)\">\n",
    "**Task 1** Show that the weight vector that minimizes the variance of the portfolio is \n",
    "$$ w^* =  \\Omega^{-1} \\mathbf{i} \\left (  \\mathbf{i}' \\Omega^{-1}  \\mathbf{i} \\right )^{-1} $$ \n",
    "</div>"
   ]
  },
  {
   "cell_type": "code",
   "execution_count": null,
   "metadata": {},
   "outputs": [],
   "source": []
  },
  {
   "cell_type": "markdown",
   "metadata": {},
   "source": [
    "<div style=\"background-color:rgb(255,200,200)\">\n",
    "<p>**Task 2** Write a function to estimate the expected return and variance of a portfolio from the returns of $K$ assets and a weight vector. </p>\n",
    "\n",
    "<p>**Hint** Also allow your function to return the estimated mean vector and the variance-covariance matrix of the asset returns. </p> \n",
    "</div>"
   ]
  },
  {
   "cell_type": "code",
   "execution_count": null,
   "metadata": {},
   "outputs": [],
   "source": []
  },
  {
   "cell_type": "markdown",
   "metadata": {},
   "source": [
    "<div style=\"background-color:rgb(255,200,200)\">\n",
    "**Task 3** Import the data from 'stock201801-Sem1.csv' as a pandas dataframe. Assuming your client would like to invest in these four stocks but he is risk averse. What would be your advice, i.e. what would be your recommended allocation (weights), based on the first 252 observations?  \n",
    "\n",
    "What are the expected return and risk of the portfolio? \n",
    "</div>"
   ]
  },
  {
   "cell_type": "code",
   "execution_count": null,
   "metadata": {},
   "outputs": [],
   "source": []
  },
  {
   "cell_type": "markdown",
   "metadata": {},
   "source": [
    "<div style=\"background-color:rgb(255,200,200)\">\n",
    "<p>**Task 4** Given the risk aversion of your client, he would like to know the worse case scenario assuming he is going to allocate his investment following your advice. Using historical simulation, calculate the 1% VaR for the remaining sample given the optimal weight vector. </p>\n",
    "\n",
    "<p>How well do the VaR based on historical simulation perform? </p>\n",
    "</div>"
   ]
  },
  {
   "cell_type": "code",
   "execution_count": null,
   "metadata": {},
   "outputs": [],
   "source": []
  }
 ],
 "metadata": {
  "kernelspec": {
   "display_name": "Python 3",
   "language": "python",
   "name": "python3"
  },
  "language_info": {
   "codemirror_mode": {
    "name": "ipython",
    "version": 3
   },
   "file_extension": ".py",
   "mimetype": "text/x-python",
   "name": "python",
   "nbconvert_exporter": "python",
   "pygments_lexer": "ipython3",
   "version": "3.5.5"
  },
  "toc": {
   "nav_menu": {},
   "number_sections": true,
   "sideBar": true,
   "skip_h1_title": true,
   "title_cell": "Table of Contents",
   "title_sidebar": "Contents",
   "toc_cell": false,
   "toc_position": {},
   "toc_section_display": true,
   "toc_window_display": false
  }
 },
 "nbformat": 4,
 "nbformat_minor": 2
}
