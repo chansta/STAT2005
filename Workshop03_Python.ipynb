{
 "cells": [
  {
   "cell_type": "markdown",
   "metadata": {},
   "source": [
    "# STAT2005 Computer Simulation - Workshop 3\n",
    "\n",
    "## Simulating normal distribution using Cauchy distribution\n",
    "\n",
    "This workshop will demonstrate how to simulate a normal random variable using the Cauchy distribution as the proposal. It first uses the inversion method to simulate a Cauchy random variable, which can then be used as the proposal to simulate normal random variable by the accept-reject algorithm. \n",
    "\n",
    "The idea here is to demonstrate the fact that these techniques are often used together to simulate different random variables rather than being used in isolation. \n",
    "\n",
    "### Task 1: Simulate the Cauchy random variable \n",
    "\n",
    "<div style=\"background-color:rgb(255,200,200)\">\n",
    "The Cauchy distribution with parameter $\\alpha$ has PDF\n",
    "\n",
    "$$ f(x) = \\frac{\\alpha}{\\pi (\\alpha^2+x^2)} \\qquad x\\in \\mathbb{R}.$$\n",
    "\n",
    "Show that the CDF of Cauchy is \n",
    "\n",
    "$$F(x) = \\frac{1}{\\pi} \\arctan \\frac{x}{\\alpha} + \\frac{1}{2}.$$\n",
    "\n",
    "**Hint** Recall \n",
    "\n",
    "$$ \\int \\frac{1}{a^2+x^2} dx = \\frac{1}{a}\\arctan \\frac{x}{a} + c$$\n",
    "\n",
    "where $c$ is some arbitrary constant and $y=\\arctan(x) \\equiv x=\\tan (y)$. \n",
    "</div>"
   ]
  },
  {
   "cell_type": "code",
   "execution_count": null,
   "metadata": {},
   "outputs": [],
   "source": []
  },
  {
   "cell_type": "markdown",
   "metadata": {},
   "source": [
    "<div style=\"background-color:rgb(255,200,200)\">\n",
    "Simulate the Cauchy random variable using the inversion method. \n",
    "    </div>"
   ]
  },
  {
   "cell_type": "code",
   "execution_count": null,
   "metadata": {},
   "outputs": [],
   "source": []
  },
  {
   "cell_type": "markdown",
   "metadata": {},
   "source": [
    "### Task 2: Find the minimum rejection rate"
   ]
  },
  {
   "cell_type": "markdown",
   "metadata": {},
   "source": [
    "<div style=\"background-color:rgb(255,200,200)\">\n",
    "Let $c$ be a positive real number such that $cf(x;\\alpha) \\geq \\phi(x)$ where $\\phi(x)$ denotes the PDF of the standard normal distribution. Show that \n",
    "\n",
    "$$c \\geq \\begin{cases} \\alpha \\sqrt{\\frac{\\pi}{2}} \\quad& \\text{if } \\alpha \\geq \\sqrt{2} \\\\ \\frac{\\sqrt{2\\pi}}{\\alpha} \\exp \\left (\\frac{\\alpha^2-2}{2} \\right ) \\quad& \\text{if } \\alpha < \\sqrt{2}. \\end{cases} $$  \n",
    "</div>"
   ]
  },
  {
   "cell_type": "code",
   "execution_count": null,
   "metadata": {},
   "outputs": [],
   "source": []
  },
  {
   "cell_type": "markdown",
   "metadata": {},
   "source": [
    "<div style=\"background-color:rgb(255,200,200)\">\n",
    "Show that $\\alpha=1$ gives the minimum $c$. \n",
    "</div>"
   ]
  },
  {
   "cell_type": "code",
   "execution_count": null,
   "metadata": {},
   "outputs": [],
   "source": []
  },
  {
   "cell_type": "markdown",
   "metadata": {},
   "source": [
    "### Task 3: Implement the Accept-reject algorithm \n",
    "\n",
    "<div style=\"background-color:rgb(255,200,200)\">\n",
    "    The result above suggests that we should choose the Cauchy distribution with $\\alpha=1$ and $c=\\sqrt{2\\pi} \\exp(-0.5)$ because this gives the minimum rejection rate. \n",
    "\n",
    "Implement an Accept-reject algorithm to simulate a standard normal random variable using this Cauchy distribution as the proposal. \n",
    "</div>"
   ]
  },
  {
   "cell_type": "code",
   "execution_count": null,
   "metadata": {},
   "outputs": [],
   "source": []
  }
 ],
 "metadata": {
  "kernelspec": {
   "display_name": "Python 3",
   "language": "python",
   "name": "python3"
  },
  "language_info": {
   "codemirror_mode": {
    "name": "ipython",
    "version": 3
   },
   "file_extension": ".py",
   "mimetype": "text/x-python",
   "name": "python",
   "nbconvert_exporter": "python",
   "pygments_lexer": "ipython3",
   "version": "3.5.5"
  },
  "toc": {
   "nav_menu": {},
   "number_sections": true,
   "sideBar": true,
   "skip_h1_title": true,
   "title_cell": "Table of Contents",
   "title_sidebar": "Contents",
   "toc_cell": false,
   "toc_position": {},
   "toc_section_display": true,
   "toc_window_display": false
  }
 },
 "nbformat": 4,
 "nbformat_minor": 2
}
