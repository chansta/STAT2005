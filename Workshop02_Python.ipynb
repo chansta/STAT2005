{
 "cells": [
  {
   "cell_type": "markdown",
   "metadata": {},
   "source": [
    "# STAT2005 Computer Simulation - Workshop 2\n"
   ]
  },
  {
   "cell_type": "markdown",
   "metadata": {},
   "source": [
    "We are going to examine two issues in this workshop. First we are going to explore the problems with the Linear Congruential Generator, specifically, the Multiplicative Congruential Generator, for purposes of generating pseudo random number. Second, we are going to construct functions that simulate different random variables. \n",
    "\n",
    "To begin we need to import a few libraries and setup our Jupyter notebook enviironment. \n",
    "\n",
    "## Import Libraries and Other Settings\n",
    "\n",
    "Similar to [R], the power of [Python] hinges on the extensive collection of libraries (modules). In terms of scientific computing, three libraries are very useful, namely, [Numpy], [Scipy] and [Matplotlib]. In this workshop, we will be going through some of the features of these modules in order to complete our tasks. \n",
    "\n",
    "[Numpy] defines the basic structure of multi-dimensional arrays as well as functions and operators for these arrays. This includes objects such as vector and matrix as well as their operations. \n",
    "\n",
    "[Scipy] is an extensive modules for scientific computing. It is based on [Numpy] and uses [Numpy] objects extensively. It also contains routines for statistical analysis, including simulation of random variables as well as routines on optimisation. \n",
    "\n",
    "[Matplotlib] is a plotting module that contain sophisticated plotting routines. \n",
    "\n",
    "Please do visit the website of these modules by following their hyperlinks. They contains very useful information as well as detailed documentation of these modules. \n",
    "\n",
    "First we will import these modules:\n",
    "\n",
    "[R]: http://cran.r-project.org\n",
    "[Python]: http://www.python.org\n",
    "[Numpy]: http://www.numpy.org\n",
    "[Scipy]: http://www.scipy.org\n",
    "[Matplotlib]: http://www.matplotlib.org"
   ]
  },
  {
   "cell_type": "code",
   "execution_count": 1,
   "metadata": {},
   "outputs": [],
   "source": [
    "import numpy as np\n",
    "import scipy.stats as sps\n",
    "import scipy.special as spsp\n",
    "import matplotlib.pyplot as plt"
   ]
  },
  {
   "cell_type": "markdown",
   "metadata": {},
   "source": [
    "It is always a good practice to import them with a designated name rather than doing something like \n",
    "\n",
    "**from numpy import * **\n",
    "\n",
    "or just \n",
    "\n",
    "**import numpy**. \n",
    "\n",
    "This is to avoid the confusion that may arise when different modules define different functions with the same name! \n",
    "\n",
    "Within [Jupyter notebook], we can execute some *[magic]* as well as other configurations to ensure our notebook perform the way we want. \n",
    "\n",
    "Two configurations are useful in this workshop. First we will execute the magic for [Matplotlib] so that all the plots show up on the notebook and second, we will configure the plot size to suit our need. \n",
    "\n",
    "[Jupyter notebook]: http://jupyter.org\n",
    "[magic]: http://ipython.readthedocs.io/en/stable/interactive/magics.html\n",
    "[Matplotlib]: http://www.matplotlib.org"
   ]
  },
  {
   "cell_type": "code",
   "execution_count": 2,
   "metadata": {},
   "outputs": [],
   "source": [
    "%matplotlib inline\n",
    "plt.rcParams['figure.figsize'] = [12,9]"
   ]
  },
  {
   "cell_type": "markdown",
   "metadata": {},
   "source": [
    "\n"
   ]
  },
  {
   "cell_type": "markdown",
   "metadata": {},
   "source": [
    "## Linear Congruential Generator\n",
    "\n",
    "Recall a LCG is defined by the following recurrence relation:\n",
    "\n",
    "$$ y_{t+1} = Ay_t + B \\; (\\text{mod } m). $$\n",
    "\n",
    "When $B=0$, it becomes the *multiplicative Congruential Generator*. \n",
    "\n",
    "Write a function similar to the one presented in the lecture to generate a sequence of $N$ pseudo random numbers by \n",
    "LCG. $A,B$ and $m$ should be treated as inputs to this function. \n",
    "\n",
    "**Hint** Recall $A\\%B$ defines the modulo operator in [Python](http://www.python.org). \n"
   ]
  },
  {
   "cell_type": "code",
   "execution_count": null,
   "metadata": {},
   "outputs": [],
   "source": []
  },
  {
   "cell_type": "markdown",
   "metadata": {},
   "source": [
    "## Two Dimensional Random Draws with LCG\n",
    "\n",
    "Consider the problem of generating a set of random points on a rectangle, that is, we want to generate a set of $N$ pairs of random numbers $(x_i, y_i)$ where $x_i, y_i \\in [0,1]$ for $i=1,\\ldots, N$. \n",
    "\n",
    "One way to do this is to utilise our LCG function and generate $N+1$ pseudo random numbers, $\\{u_1, \\ldots, u_{N+1}\\}$, then our $N$ random points can be constructed as $(u_1,u_2), (u_2,u_3), (u_3, u_4), \\ldots, (u_N, u_{N+1})$. \n",
    "\n",
    "Construct a set of 50 random points by following this algoirthm. Use $A=127$, $B=0$, $m=511$, $y_0=1$. \n",
    "\n",
    "**Hint:** You may wish to construct a function to return a two dimensional random generator using LCG, as we will be using this algorithm repeatedly. \n",
    "\n",
    "Use **plt.scatter** to draw a scatter plot of the random points from this algorithm"
   ]
  },
  {
   "cell_type": "code",
   "execution_count": null,
   "metadata": {},
   "outputs": [],
   "source": []
  },
  {
   "cell_type": "markdown",
   "metadata": {},
   "source": [
    "Now set $N=2000$ with the same set of $A,B$ and $m$. Repeat the draw and construct a scatter plot again. What do you see and what do you think is happening? "
   ]
  },
  {
   "cell_type": "code",
   "execution_count": null,
   "metadata": {},
   "outputs": [],
   "source": []
  },
  {
   "cell_type": "markdown",
   "metadata": {},
   "source": [
    "Now change $m=2^{16}$ and repeat the above. What do you see now? "
   ]
  },
  {
   "cell_type": "code",
   "execution_count": null,
   "metadata": {},
   "outputs": [],
   "source": []
  },
  {
   "cell_type": "markdown",
   "metadata": {},
   "source": [
    "Let's repeat one more time but use $m=2^{11}-1$. "
   ]
  },
  {
   "cell_type": "code",
   "execution_count": null,
   "metadata": {},
   "outputs": [],
   "source": []
  },
  {
   "cell_type": "markdown",
   "metadata": {},
   "source": [
    "Does this setting looks better? What happen when you increase $N$ to 20000?"
   ]
  },
  {
   "cell_type": "code",
   "execution_count": null,
   "metadata": {},
   "outputs": [],
   "source": []
  },
  {
   "cell_type": "markdown",
   "metadata": {},
   "source": [
    "What can you say about LCG given the two essential criteria of a good pseudo random generator? Recall the two essential criteria are:\n",
    "\n",
    "1. Long period. \n",
    "2. Ability to reach as many numbers within the interval as possible. "
   ]
  },
  {
   "cell_type": "markdown",
   "metadata": {},
   "source": [
    "## Discrete Random Numbers (Bernoulli Trial)\n",
    "\n",
    "Construct a function that will return a sequence of $N$ indpendent (Bernoulli) trails given success probability, $p$. \n"
   ]
  },
  {
   "cell_type": "code",
   "execution_count": null,
   "metadata": {},
   "outputs": [],
   "source": []
  },
  {
   "cell_type": "markdown",
   "metadata": {},
   "source": [
    "## Discrete Random Numbers (Poisson)\n",
    "\n",
    "Recall the PMF for a Poisson random varibale is $X\\sim Poi(\\lambda)$\n",
    "    $$ p(x; \\lambda) = \\frac{\\exp (-\\lambda) \\lambda^x}{x!}, \\qquad x=0,1,2,\\ldots $$\n",
    "    \n",
    "Construct a function that will take $\\lambda$ and the number of random draws as inputs and return a $(N,)$ numpy array containing random number following the Poisson distribution. \n",
    "\n",
    "**Hint** Use scipy.special.factorial() for calculating $x!$ and use numpy.power() to calculate $\\lambda^x$. "
   ]
  },
  {
   "cell_type": "code",
   "execution_count": null,
   "metadata": {},
   "outputs": [],
   "source": []
  },
  {
   "cell_type": "markdown",
   "metadata": {},
   "source": [
    "The code above utilises the algorithm as is but it is not the most efficient. We can improve efficiency by considering the following.  "
   ]
  },
  {
   "cell_type": "code",
   "execution_count": null,
   "metadata": {},
   "outputs": [],
   "source": []
  }
 ],
 "metadata": {
  "kernelspec": {
   "display_name": "Python 3",
   "language": "python",
   "name": "python3"
  },
  "language_info": {
   "codemirror_mode": {
    "name": "ipython",
    "version": 3
   },
   "file_extension": ".py",
   "mimetype": "text/x-python",
   "name": "python",
   "nbconvert_exporter": "python",
   "pygments_lexer": "ipython3",
   "version": "3.5.5"
  },
  "toc": {
   "nav_menu": {},
   "number_sections": true,
   "sideBar": true,
   "skip_h1_title": false,
   "title_cell": "Table of Contents",
   "title_sidebar": "Contents",
   "toc_cell": false,
   "toc_position": {},
   "toc_section_display": true,
   "toc_window_display": false
  }
 },
 "nbformat": 4,
 "nbformat_minor": 2
}
