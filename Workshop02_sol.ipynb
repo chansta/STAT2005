{
 "cells": [
  {
   "cell_type": "markdown",
   "metadata": {},
   "source": [
    "# STAT2005 Computer Simulation - Workshop 2\n"
   ]
  },
  {
   "cell_type": "markdown",
   "metadata": {},
   "source": [
    "We are going to examine two issues in this workshop. First we are going to explore the problems with the Linear Congruential Generator, specifically, the Multiplicative Congruential Generator, for purposes of generating pseudo random number. Second, we are going to construct functions that simulate different random variables. \n",
    "\n",
    "To begin we need to import a few libraries and setup our Jupyter notebook enviironment. \n",
    "\n",
    "## Import Libraries and Other Settings\n",
    "\n",
    "Similar to [R], the power of [Python] hinges on the extensive collection of libraries (modules). In terms of scientific computing, three libraries are very useful, namely, [Numpy], [Scipy] and [Matplotlib]. In this workshop, we will be going through some of the features of these modules in order to complete our tasks. \n",
    "\n",
    "[Numpy] defines the basic structure of multi-dimensional arrays as well as functions and operators for these arrays. This includes objects such as vector and matrix as well as their operations. \n",
    "\n",
    "[Scipy] is an extensive modules for scientific computing. It is based on [Numpy] and uses [Numpy] objects extensively. It also contains routines for statistical analysis, including simulation of random variables as well as routines on optimisation. \n",
    "\n",
    "[Matplotlib] is a plotting module that contain sophisticated plotting routines. \n",
    "\n",
    "Please do visit the website of these modules by following their hyperlinks. They contains very useful information as well as detailed documentation of these modules. \n",
    "\n",
    "First we will import these modules:\n",
    "\n",
    "[R]: http://cran.r-project.org\n",
    "[Python]: http://www.python.org\n",
    "[Numpy]: http://www.numpy.org\n",
    "[Scipy]: http://www.scipy.org\n",
    "[Matplotlib]: http://www.matplotlib.org"
   ]
  },
  {
   "cell_type": "code",
   "execution_count": 50,
   "metadata": {},
   "outputs": [],
   "source": [
    "import numpy as np\n",
    "import scipy.stats as sps\n",
    "import scipy.special as spsp\n",
    "import matplotlib.pyplot as plt"
   ]
  },
  {
   "cell_type": "markdown",
   "metadata": {},
   "source": [
    "It is always a good practice to import them with a designated name rather than doing something like \n",
    "\n",
    "**from numpy import * **\n",
    "\n",
    "or just \n",
    "\n",
    "**import numpy**. \n",
    "\n",
    "This is to avoid the confusion that may arise when different modules define different functions with the same name! \n",
    "\n",
    "Within [Jupyter notebook], we can execute some *[magic]* as well as other configurations to ensure our notebook perform the way we want. \n",
    "\n",
    "Two configurations are useful in this workshop. First we will execute the magic for [Matplotlib] so that all the plots show up on the notebook and second, we will configure the plot size to suit our need. \n",
    "\n",
    "[Jupyter notebook]: http://jupyter.org\n",
    "[magic]: http://ipython.readthedocs.io/en/stable/interactive/magics.html\n",
    "[Matplotlib]: http://www.matplotlib.org"
   ]
  },
  {
   "cell_type": "code",
   "execution_count": 11,
   "metadata": {},
   "outputs": [],
   "source": [
    "%matplotlib inline\n",
    "plt.rcParams['figure.figsize'] = [12,9]"
   ]
  },
  {
   "cell_type": "markdown",
   "metadata": {},
   "source": [
    "\n"
   ]
  },
  {
   "cell_type": "markdown",
   "metadata": {},
   "source": [
    "## Linear Congruential Generator\n",
    "\n",
    "Recall a LCG is defined by the following recurrence relation:\n",
    "\n",
    "$$ y_{t+1} = Ay_t + B \\; (\\text{mod } m). $$\n",
    "\n",
    "When $B=0$, it becomes the *multiplicative Congruential Generator*. \n",
    "\n",
    "Write a function similar to the one presented in the lecture to generate a sequence of $N$ pseudo random numbers by the LCG. $A,B$ and $m$ should be treated as inputs to this function. \n",
    "\n",
    "**Hint** Recall $A\\%B$ defines the modulo operator in [Python](http://www.python.org). "
   ]
  },
  {
   "cell_type": "code",
   "execution_count": 12,
   "metadata": {},
   "outputs": [],
   "source": [
    "def LCG(N, A, B, m, y0):\n",
    "    \"\"\"\n",
    "    An implementation of the linear congruential generator. \n",
    "    Inputs:\n",
    "        N: int. The number of pseudo number generator. \n",
    "        A: int. The multipler.\n",
    "        B: int. The increment.\n",
    "        m: int. Modulus. \n",
    "        y0: int in [0, m-1]. The initial value. \n",
    "    Output:\n",
    "        y: (N,) numpy array. \n",
    "    \"\"\"\n",
    "    \n",
    "    if (y0 <0)|(y0>=m):\n",
    "        print(\"The initial value cannot be negative or greater than the modulus.\") \n",
    "    elif (A>=m)|(A<0):\n",
    "        print(\"The multiplier cannot be negative or greater than the modulus.\")\n",
    "    elif (B>=m)|(B<0):\n",
    "        print(\"The increment cannot be negative or greater than the modulus.\")\n",
    "    else:\n",
    "        y = np.zeros(N+1)\n",
    "        y[0] = y0\n",
    "        for t in np.arange(N):\n",
    "            y[t+1] = (A*y[t]+B)%m\n",
    "    return y[1:N+1]/m"
   ]
  },
  {
   "cell_type": "markdown",
   "metadata": {},
   "source": [
    "## Two Dimensional Random Draws with LCG\n",
    "\n",
    "Consider the problem of generating a set of random points on a rectangle, that is, we want to generate set of $N$ pairs of random numbers $(x_i, y_i)$ where $x_i, y_i \\in [0,1]$ for $i=1,\\ldots, N$. \n",
    "\n",
    "One way to do this is to utilise our LCG function and generate $N+1$ pseudo random numbers, $\\{u_1, \\ldots, u_{N+1}\\}$, then our $N$ random points can be constructed as $(u_1,u_2), (u_2,u_3), (u_3, u_4), \\ldots, (u_N, u_{N+1})$. \n",
    "\n",
    "Construct a set of 50 random points by following this algoirthm. Use $A=127$, $B=0$, $m=511$, $y_0=1$. \n",
    "\n",
    "**Hint:** You may wish to construct a function to return a two dimensional random generator using LCG, as we will be using this algorithm repeatedly. \n",
    "\n",
    "Use **plt.scatter** to draw a scatter plot of the random points from this algorithm"
   ]
  },
  {
   "cell_type": "code",
   "execution_count": 20,
   "metadata": {},
   "outputs": [],
   "source": [
    "def LCG_2dim(N,A,B,m,y0):\n",
    "    \"\"\"\n",
    "    Generate two dimensional random points using LCG. \n",
    "    Inputs:\n",
    "        N: Positive int. Number of draws. \n",
    "        A: Positive int. Multiplier in the LCG. \n",
    "        B: Positive int. Shift in the LCG\n",
    "        m: Positive int. Modulo \n",
    "        y0: int in [0,...m-1] initial values. \n",
    "    Output:\n",
    "        y: (N,2) numpy array. \n",
    "    \"\"\"\n",
    "    \n",
    "    U = LCG(N,A,B,m,y0)\n",
    "    y = np.c_[U[0:N-1], U[1:N]]\n",
    "    return y"
   ]
  },
  {
   "cell_type": "code",
   "execution_count": 35,
   "metadata": {},
   "outputs": [
    {
     "data": {
      "text/plain": [
       "<matplotlib.collections.PathCollection at 0x10cdd7358>"
      ]
     },
     "execution_count": 35,
     "metadata": {},
     "output_type": "execute_result"
    },
    {
     "data": {
      "image/png": "[encoded data removed]",
      "text/plain": [
       "<matplotlib.figure.Figure at 0x10cc16b38>"
      ]
     },
     "metadata": {},
     "output_type": "display_data"
    }
   ],
   "source": [
    "N = 50\n",
    "A = 127\n",
    "B = 0\n",
    "m = 511\n",
    "y0 = 1\n",
    "y = LCG_2dim(N,A,B,m,y0).transpose()\n",
    "plt.scatter(y[0], y[1])"
   ]
  },
  {
   "cell_type": "markdown",
   "metadata": {},
   "source": [
    "Now set $N=2000$ with the same set of $A,B$ and $m$. Repeat the draw and construct a scatter plot again. What do you see and what do you think is happening? "
   ]
  },
  {
   "cell_type": "code",
   "execution_count": 36,
   "metadata": {},
   "outputs": [
    {
     "data": {
      "text/plain": [
       "<matplotlib.collections.PathCollection at 0x10d0e7eb8>"
      ]
     },
     "execution_count": 36,
     "metadata": {},
     "output_type": "execute_result"
    },
    {
     "data": {
      "image/png": "[encoded data removed]",
      "text/plain": [
       "<matplotlib.figure.Figure at 0x10cc50c50>"
      ]
     },
     "metadata": {},
     "output_type": "display_data"
    }
   ],
   "source": [
    "N = 2000\n",
    "A = 127\n",
    "B = 0\n",
    "m = 511\n",
    "y0 = 1\n",
    "y = LCG_2dim(N,A,B,m,y0).transpose()\n",
    "plt.scatter(y[0], y[1])"
   ]
  },
  {
   "cell_type": "markdown",
   "metadata": {},
   "source": [
    "Now change $m=2^{16}$ and repeat the above. What do you see now? "
   ]
  },
  {
   "cell_type": "code",
   "execution_count": 43,
   "metadata": {},
   "outputs": [
    {
     "data": {
      "text/plain": [
       "<matplotlib.collections.PathCollection at 0x10dac70f0>"
      ]
     },
     "execution_count": 43,
     "metadata": {},
     "output_type": "execute_result"
    },
    {
     "data": {
      "image/png": "[encoded data removed]",
      "text/plain": [
       "<matplotlib.figure.Figure at 0x10da21b38>"
      ]
     },
     "metadata": {},
     "output_type": "display_data"
    }
   ],
   "source": [
    "N = 2000\n",
    "A = 127\n",
    "B = 0\n",
    "m = 2**16\n",
    "y0 = 1\n",
    "y = LCG_2dim(N,A,B,m,y0).transpose()\n",
    "plt.scatter(y[0], y[1])"
   ]
  },
  {
   "cell_type": "markdown",
   "metadata": {},
   "source": [
    "Let's repeat one more time but use $m=2^{11}-1$. "
   ]
  },
  {
   "cell_type": "code",
   "execution_count": 46,
   "metadata": {},
   "outputs": [
    {
     "data": {
      "text/plain": [
       "<matplotlib.collections.PathCollection at 0x10e203c88>"
      ]
     },
     "execution_count": 46,
     "metadata": {},
     "output_type": "execute_result"
    },
    {
     "data": {
      "image/png": "[encoded data removed]",
      "text/plain": [
       "<matplotlib.figure.Figure at 0x10db23f98>"
      ]
     },
     "metadata": {},
     "output_type": "display_data"
    }
   ],
   "source": [
    "N = 2000\n",
    "A = 127\n",
    "B = 0\n",
    "m = 2**11-1\n",
    "y0 = 1\n",
    "y = LCG_2dim(N,A,B,m,y0).transpose()\n",
    "plt.scatter(y[0], y[1])"
   ]
  },
  {
   "cell_type": "markdown",
   "metadata": {},
   "source": [
    "Does this setting looks better? What happen when you increase $N$ to 20000?"
   ]
  },
  {
   "cell_type": "code",
   "execution_count": 47,
   "metadata": {},
   "outputs": [
    {
     "data": {
      "text/plain": [
       "<matplotlib.collections.PathCollection at 0x10e3ac860>"
      ]
     },
     "execution_count": 47,
     "metadata": {},
     "output_type": "execute_result"
    },
    {
     "data": {
      "image/png": "[encoded data removed]",
      "text/plain": [
       "<matplotlib.figure.Figure at 0x10e20f710>"
      ]
     },
     "metadata": {},
     "output_type": "display_data"
    }
   ],
   "source": [
    "N = 2000\n",
    "A = 127\n",
    "B = 0\n",
    "m = 2**11-1\n",
    "y0 = 1\n",
    "y = LCG_2dim(N,A,B,m,y0).transpose()\n",
    "plt.scatter(y[0], y[1])"
   ]
  },
  {
   "cell_type": "markdown",
   "metadata": {},
   "source": [
    "**Comment** You don't see 20000 points in the plot above. This means the period of this setting is very low. "
   ]
  },
  {
   "cell_type": "markdown",
   "metadata": {},
   "source": [
    "What can you say about LCG given the two essential criteria of a good pseudo random generator? Recall the two essential criteria are:\n",
    "\n",
    "1. Long period. \n",
    "2. Ability to reach as many numbers within the interval as possible. "
   ]
  },
  {
   "cell_type": "markdown",
   "metadata": {},
   "source": [
    "## Discrete Random Numbers (Bernoulli Trial)\n",
    "\n",
    "Construct a function that will return a sequence of N indpendent (Bernoulli) trails with given success probability, $p$. \n"
   ]
  },
  {
   "cell_type": "code",
   "execution_count": 101,
   "metadata": {},
   "outputs": [],
   "source": [
    "def RV_Bernoulli(N,p):\n",
    "    \"\"\"\n",
    "    Simulate a sequence of N independent Bernoulli trails with success probability p. \n",
    "    Inputs:\n",
    "        N: Positive int. The number of trails to simulate. \n",
    "        p: [0,1]. Probability of success\n",
    "    Output:\n",
    "        y: (N,) numpy array of 0 and 1. \n",
    "    \n",
    "    \"\"\"\n",
    "    U = sps.uniform.rvs(0,1,size=N)\n",
    "    y = np.zeros(N)\n",
    "    y[U<p] = 1\n",
    "    return y"
   ]
  },
  {
   "cell_type": "code",
   "execution_count": 103,
   "metadata": {},
   "outputs": [
    {
     "data": {
      "text/plain": [
       "(array([10.,  0.,  0.,  0.,  0.,  0.,  0.,  0.,  0., 40.]),\n",
       " array([0. , 0.1, 0.2, 0.3, 0.4, 0.5, 0.6, 0.7, 0.8, 0.9, 1. ]),\n",
       " <a list of 10 Patch objects>)"
      ]
     },
     "execution_count": 103,
     "metadata": {},
     "output_type": "execute_result"
    },
    {
     "data": {
      "image/png": "[encoded data removed]",
      "text/plain": [
       "<matplotlib.figure.Figure at 0x10f69a390>"
      ]
     },
     "metadata": {},
     "output_type": "display_data"
    }
   ],
   "source": [
    "N = 50\n",
    "p = 0.8\n",
    "B = RV_Bernoulli(N,p)\n",
    "plt.hist(B)"
   ]
  },
  {
   "cell_type": "markdown",
   "metadata": {},
   "source": [
    "## Discrete Random Numbers (Poisson)\n",
    "\n",
    "Recall the PMF for a Poisson random varibale is $X\\sim Poi(\\lambda)$\n",
    "    $$ p(x; \\lambda) = \\frac{\\exp (-\\lambda) \\lambda^x}{x!}, \\qquad x=0,1,2,\\ldots $$\n",
    "    \n",
    "Construct a function that will take $\\lambda$ and the number of random draws as inputs and return a $(N,)$ numpy array containing random number following the Poisson distribution. \n",
    "\n",
    "**Hint** Use scipy.special.factorial() for calculating $x!$ and use numpy.power() to calculate $\\lambda^x$. "
   ]
  },
  {
   "cell_type": "code",
   "execution_count": 53,
   "metadata": {},
   "outputs": [],
   "source": [
    "def PMF_poisson(x,l):\n",
    "    \"\"\"\n",
    "    Return the probabililty of x for random variable following a poisson distribution with the parameter l. \n",
    "    Inputs:\n",
    "        x: positive int, including 0. \n",
    "        l: positive int. The parameter in the poisson distribution. \n",
    "    Output:\n",
    "        p: probability of x. \n",
    "    \"\"\"\n",
    "    \n",
    "    return np.exp(-l)*np.power(l,x)/spsp.factorial(x)"
   ]
  },
  {
   "cell_type": "code",
   "execution_count": 59,
   "metadata": {},
   "outputs": [],
   "source": [
    "def CDF_poisson(x,l):\n",
    "    \"\"\"\n",
    "    Calculate the cumulative probability for a poisson distribution given l. \n",
    "    Inputs:\n",
    "        x: positive int, including 0. \n",
    "        l: positive int. The parameter in the poisson distribution. \n",
    "    Output:\n",
    "        y: The Poisson CDF from 0 to x. \n",
    "    \n",
    "    \"\"\"\n",
    "    sumset = [PMF_poisson(i,l) for i in np.arange(0,x+1,1)]\n",
    "    return sum(sumset)"
   ]
  },
  {
   "cell_type": "code",
   "execution_count": 96,
   "metadata": {},
   "outputs": [],
   "source": [
    "def __choose_x__(u,l):\n",
    "    \"\"\"\n",
    "    Decide the value of x to be returned given the uniform draw u and the Poisson parameter l. To be used with RV_poisson()\n",
    "    Inputs:\n",
    "        u: Random draw from a U(0,1) distribution.\n",
    "        l: The parameter of the Poisson Distribution. \n",
    "    Output:\n",
    "        x: int. Random draw from a poisson distribution. \n",
    "    \"\"\"\n",
    "    to_return = False\n",
    "    x = 0\n",
    "    while to_return is False:\n",
    "        cdf = CDF_poisson(x,l)\n",
    "        if u > cdf:\n",
    "            x = x+1\n",
    "        else:\n",
    "            to_return = True\n",
    "    return x\n",
    "\n",
    "def RV_poisson(N,l):\n",
    "    \"\"\"\n",
    "    Simulate a set of N random draws based on the Poisson distribution with parameter l using the Inversion method. \n",
    "    Inputs:\n",
    "        N: Positive int. The numebr of draws. \n",
    "        l: Positive int. The parameter in the Poisson distribuion. \n",
    "    Output:\n",
    "        y: (N,) numpy array containing N random draws. \n",
    "    \n",
    "    \"\"\"\n",
    "    U = sps.uniform.rvs(0,1,size=N)\n",
    "    y = np.zeros(N)\n",
    "    for i,u in enumerate(U):\n",
    "        y[i] = __choose_x__(u,l)\n",
    "    return y"
   ]
  },
  {
   "cell_type": "code",
   "execution_count": 97,
   "metadata": {},
   "outputs": [],
   "source": [
    "N = 500\n",
    "l = 1\n",
    "test = RV_poisson(N,l)"
   ]
  },
  {
   "cell_type": "code",
   "execution_count": 100,
   "metadata": {},
   "outputs": [
    {
     "data": {
      "text/plain": [
       "(array([184., 200.,   0.,  92.,   0.,  14.,   7.,   0.,   2.,   1.]),\n",
       " array([0. , 0.6, 1.2, 1.8, 2.4, 3. , 3.6, 4.2, 4.8, 5.4, 6. ]),\n",
       " <a list of 10 Patch objects>)"
      ]
     },
     "execution_count": 100,
     "metadata": {},
     "output_type": "execute_result"
    },
    {
     "data": {
      "image/png": "[encoded data removed]",
      "text/plain": [
       "<matplotlib.figure.Figure at 0x10f6a2e48>"
      ]
     },
     "metadata": {},
     "output_type": "display_data"
    }
   ],
   "source": [
    "plt.hist(test)"
   ]
  },
  {
   "cell_type": "code",
   "execution_count": null,
   "metadata": {},
   "outputs": [],
   "source": []
  }
 ],
 "metadata": {
  "kernelspec": {
   "display_name": "Python 3",
   "language": "python",
   "name": "python3"
  },
  "language_info": {
   "codemirror_mode": {
    "name": "ipython",
    "version": 3
   },
   "file_extension": ".py",
   "mimetype": "text/x-python",
   "name": "python",
   "nbconvert_exporter": "python",
   "pygments_lexer": "ipython3",
   "version": "3.5.5"
  },
  "toc": {
   "nav_menu": {},
   "number_sections": true,
   "sideBar": true,
   "skip_h1_title": false,
   "title_cell": "Table of Contents",
   "title_sidebar": "Contents",
   "toc_cell": false,
   "toc_position": {},
   "toc_section_display": true,
   "toc_window_display": false
  }
 },
 "nbformat": 4,
 "nbformat_minor": 2
}
