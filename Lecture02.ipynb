{
 "cells": [
  {
   "cell_type": "code",
   "execution_count": 11,
   "metadata": {
    "slideshow": {
     "slide_type": "skip"
    }
   },
   "outputs": [],
   "source": [
    "import numpy as np\n",
    "import scipy as sp\n",
    "import matplotlib.pyplot as plt\n",
    "import rpy2 as rpy2"
   ]
  },
  {
   "cell_type": "code",
   "execution_count": 44,
   "metadata": {
    "slideshow": {
     "slide_type": "skip"
    }
   },
   "outputs": [
    {
     "name": "stdout",
     "output_type": "stream",
     "text": [
      "The rpy2.ipython extension is already loaded. To reload it, use:\n",
      "  %reload_ext rpy2.ipython\n"
     ]
    }
   ],
   "source": [
    "%matplotlib inline\n",
    "%load_ext rpy2.ipython\n",
    "plt.rcParams['figure.figsize'] = [9,6]"
   ]
  },
  {
   "cell_type": "markdown",
   "metadata": {
    "slideshow": {
     "slide_type": "slide"
    }
   },
   "source": [
    "## Computer Simulations STAT2005\n",
    "\n",
    "### Lecture 2 - Random Number Generator and Discrete Random Variables "
   ]
  },
  {
   "cell_type": "markdown",
   "metadata": {
    "slideshow": {
     "slide_type": "slide"
    }
   },
   "source": [
    "### Motivation\n",
    "\n",
    "- Need to be able to simulate randomness.\n",
    "- Computer algorithms are inherently deterministics. \n",
    "- Need to mimick random behaviour that follows certin probabitlity distribution. \n",
    "- How? \n",
    "- Create algorithm to generate a sequence of numbers that \"look\" random.\n",
    "- It is possible, recall the logistic map. \n",
    "- Pseudo Number Generator."
   ]
  },
  {
   "cell_type": "markdown",
   "metadata": {
    "slideshow": {
     "slide_type": "slide"
    }
   },
   "source": [
    "### How? \n",
    "\n",
    "- The most basic and common type of pseudo number generator is the **Linear Congruential Generator** (LCG).\n",
    "- We need to introduce a basic concept called *modular arithmatic*.\n",
    "- Put it simply, it is the arithmatic of the remainder. \n",
    "\n"
   ]
  },
  {
   "cell_type": "markdown",
   "metadata": {
    "slideshow": {
     "slide_type": "slide"
    }
   },
   "source": [
    "### Modular Arithmetic \n",
    "\n",
    "Let $a,b,n \\in \\mathbb{Z}$ then $a$ and $b$ are congurent modulo $n$ written as \n",
    "\n",
    "$$ a \\equiv b \\quad (\\text{mod } n)$$\n",
    "\n",
    "if \n",
    "\n",
    "$$ a=nk + b$$ \n",
    "\n",
    "\n",
    "for some $k\\in \\mathbb{Z}$. "
   ]
  },
  {
   "cell_type": "markdown",
   "metadata": {
    "slideshow": {
     "slide_type": "slide"
    }
   },
   "source": [
    "We can look at this definition in a few different ways:\n",
    "\n",
    "1. The difference between $a$ and $b$ is divisible by $n$. \n",
    "2. If $b<n$, then $b$ is the remainder of $a$ divided by $n$. \n",
    "3. $a$ and $b$ has a common remainder after dividing by $n$. \n",
    "\n",
    "Some Examples:\n",
    "\n",
    "- $0 \\equiv 6$ $(\\text{mod } 3)$\n",
    "- $4 \\equiv 24$ $(\\text{mod } 5)$\n",
    "- $-11 \\equiv 145$ $(\\text{mod } 12)$"
   ]
  },
  {
   "cell_type": "markdown",
   "metadata": {
    "slideshow": {
     "slide_type": "slide"
    }
   },
   "source": [
    "### Lineare Congruential Generator\n",
    "\n",
    "Consider the following difference equation:\n",
    "\n",
    "$$ y_{t+1} = (Ay_t + B) \\quad (\\text{mod } m)$$\n",
    "\n",
    "where $0<A<m$, $0\\leq B < m$ and $m$ are fixed integers. $A$, $B$ and $m$ are often called the multiplier, increment and modulus, respectively. When $B=0$, this is called the multiplicative congruential generator. \n",
    "\n",
    "To start the process, we need an initial value, $y_0 \\in [0,m-1]$. Consider the case where $A=127$, $B=7$, $m=511$ and $y_0=1$."
   ]
  },
  {
   "cell_type": "code",
   "execution_count": 28,
   "metadata": {
    "slideshow": {
     "slide_type": "slide"
    }
   },
   "outputs": [],
   "source": [
    "def LCG(N, A, B, m, y0):\n",
    "    \"\"\"\n",
    "    An implementation of the linear congruential generator. \n",
    "    Inputs:\n",
    "        N: int. The number of pseudo number generator. \n",
    "        A: int. The multipler.\n",
    "        B: int. The increment.\n",
    "        m: int. Modulus. \n",
    "        y0: int in [0, m-1]. The initial value. \n",
    "    Output:\n",
    "        y: (N,) numpy array. \n",
    "    \"\"\"\n",
    "    \n",
    "    if (y0 <0)|(y0>=m):\n",
    "        print(\"The initial value cannot be negative or greater than the modulus.\") \n",
    "    elif (A>=m)|(A<0):\n",
    "        print(\"The multiplier cannot be negative or greater than the modulus.\")\n",
    "    elif (B>=m)|(B<0):\n",
    "        print(\"The increment cannot be negative or greater than the modulus.\")\n",
    "    else:\n",
    "        y = np.zeros(N+1)\n",
    "        y[0] = y0\n",
    "        for t in np.arange(N):\n",
    "            y[t+1] = (A*y[t]+B)%m\n",
    "    return y[1:N+1]/m"
   ]
  },
  {
   "cell_type": "code",
   "execution_count": 45,
   "metadata": {
    "slideshow": {
     "slide_type": "subslide"
    }
   },
   "outputs": [
    {
     "data": {
      "text/plain": [
       "<matplotlib.collections.PathCollection at 0x10ead7908>"
      ]
     },
     "execution_count": 45,
     "metadata": {},
     "output_type": "execute_result"
    },
    {
     "data": {
      "image/png": "[encoded data removed]",
      "text/plain": [
       "<matplotlib.figure.Figure at 0x10f19a1d0>"
      ]
     },
     "metadata": {},
     "output_type": "display_data"
    }
   ],
   "source": [
    "N,A,B,m,y0 = 50,127,7,511,0\n",
    "y = LCG(N, A, B, m, y0)\n",
    "xrange = np.arange(N)\n",
    "plt.scatter(xrange,y)"
   ]
  },
  {
   "cell_type": "markdown",
   "metadata": {
    "slideshow": {
     "slide_type": "slide"
    }
   },
   "source": [
    "So that looks promising. What if we generate 500 rather 50 numbers? "
   ]
  },
  {
   "cell_type": "code",
   "execution_count": 46,
   "metadata": {
    "slideshow": {
     "slide_type": "fragment"
    }
   },
   "outputs": [
    {
     "data": {
      "text/plain": [
       "<matplotlib.collections.PathCollection at 0x10f363ac8>"
      ]
     },
     "execution_count": 46,
     "metadata": {},
     "output_type": "execute_result"
    },
    {
     "data": {
      "image/png": "[encoded data removed]",
      "text/plain": [
       "<matplotlib.figure.Figure at 0x10ec54438>"
      ]
     },
     "metadata": {},
     "output_type": "display_data"
    }
   ],
   "source": [
    "N = 500\n",
    "y1 = LCG(N, A, B, m, y0)\n",
    "xrange = np.arange(N)\n",
    "plt.scatter(xrange, y1)"
   ]
  },
  {
   "cell_type": "markdown",
   "metadata": {
    "slideshow": {
     "slide_type": "slide"
    }
   },
   "source": [
    "Oops.... pattern repeated. What is happening? \n",
    "Let's try a differnt modulus. $m=2^{128}$"
   ]
  },
  {
   "cell_type": "code",
   "execution_count": 47,
   "metadata": {
    "slideshow": {
     "slide_type": "slide"
    }
   },
   "outputs": [
    {
     "data": {
      "text/plain": [
       "<matplotlib.collections.PathCollection at 0x10f522550>"
      ]
     },
     "execution_count": 47,
     "metadata": {},
     "output_type": "execute_result"
    },
    {
     "data": {
      "image/png": "[encoded data removed]",
      "text/plain": [
       "<matplotlib.figure.Figure at 0x10dd5cc50>"
      ]
     },
     "metadata": {},
     "output_type": "display_data"
    }
   ],
   "source": [
    "m = int(2**128)\n",
    "y2 = LCG(N,A,B,m,y0)\n",
    "plt.scatter(xrange, y2)"
   ]
  },
  {
   "cell_type": "code",
   "execution_count": null,
   "metadata": {},
   "outputs": [],
   "source": []
  }
 ],
 "metadata": {
  "celltoolbar": "Slideshow",
  "kernelspec": {
   "display_name": "Python 3",
   "language": "python",
   "name": "python3"
  },
  "language_info": {
   "codemirror_mode": {
    "name": "ipython",
    "version": 3
   },
   "file_extension": ".py",
   "mimetype": "text/x-python",
   "name": "python",
   "nbconvert_exporter": "python",
   "pygments_lexer": "ipython3",
   "version": "3.5.4"
  }
 },
 "nbformat": 4,
 "nbformat_minor": 2
}
