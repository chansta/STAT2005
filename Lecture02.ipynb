{
 "cells": [
  {
   "cell_type": "markdown",
   "metadata": {
    "slideshow": {
     "slide_type": "skip"
    },
    "toc": true
   },
   "source": [
    "<h1>Table of Contents<span class=\"tocSkip\"></span></h1>\n",
    "<div class=\"toc\"><ul class=\"toc-item\"><li><span><a href=\"#Lecture-2---Random-Number-Generator-and-Discrete-Random-Variables\" data-toc-modified-id=\"Lecture-2---Random-Number-Generator-and-Discrete-Random-Variables-1\"><span class=\"toc-item-num\">1&nbsp;&nbsp;</span>Lecture 2 - Random Number Generator and Discrete Random Variables</a></span><ul class=\"toc-item\"><li><span><a href=\"#Motivation\" data-toc-modified-id=\"Motivation-1.1\"><span class=\"toc-item-num\">1.1&nbsp;&nbsp;</span>Motivation</a></span></li><li><span><a href=\"#Motivation\" data-toc-modified-id=\"Motivation-1.2\"><span class=\"toc-item-num\">1.2&nbsp;&nbsp;</span>Motivation</a></span></li><li><span><a href=\"#How?\" data-toc-modified-id=\"How?-1.3\"><span class=\"toc-item-num\">1.3&nbsp;&nbsp;</span>How?</a></span></li><li><span><a href=\"#Modular-Arithmetic\" data-toc-modified-id=\"Modular-Arithmetic-1.4\"><span class=\"toc-item-num\">1.4&nbsp;&nbsp;</span>Modular Arithmetic</a></span></li><li><span><a href=\"#Lineare-Congruential-Generator\" data-toc-modified-id=\"Lineare-Congruential-Generator-1.5\"><span class=\"toc-item-num\">1.5&nbsp;&nbsp;</span>Lineare Congruential Generator</a></span></li><li><span><a href=\"#LCG-Weakness\" data-toc-modified-id=\"LCG-Weakness-1.6\"><span class=\"toc-item-num\">1.6&nbsp;&nbsp;</span>LCG Weakness</a></span></li><li><span><a href=\"#Other-generators\" data-toc-modified-id=\"Other-generators-1.7\"><span class=\"toc-item-num\">1.7&nbsp;&nbsp;</span>Other generators</a></span></li><li><span><a href=\"#Simulating-other-distributions\" data-toc-modified-id=\"Simulating-other-distributions-1.8\"><span class=\"toc-item-num\">1.8&nbsp;&nbsp;</span>Simulating other distributions</a></span></li><li><span><a href=\"#More-efficient-algorithm\" data-toc-modified-id=\"More-efficient-algorithm-1.9\"><span class=\"toc-item-num\">1.9&nbsp;&nbsp;</span>More efficient algorithm</a></span></li><li><span><a href=\"#Discrete-Uniform-Distribution\" data-toc-modified-id=\"Discrete-Uniform-Distribution-1.10\"><span class=\"toc-item-num\">1.10&nbsp;&nbsp;</span>Discrete Uniform Distribution</a></span></li><li><span><a href=\"#Generating-a-random-permutation\" data-toc-modified-id=\"Generating-a-random-permutation-1.11\"><span class=\"toc-item-num\">1.11&nbsp;&nbsp;</span>Generating a random permutation</a></span></li><li><span><a href=\"#Random-Permutation-Algorithm\" data-toc-modified-id=\"Random-Permutation-Algorithm-1.12\"><span class=\"toc-item-num\">1.12&nbsp;&nbsp;</span>Random Permutation Algorithm</a></span></li></ul></li><li><span><a href=\"#Random-Generator-for-Other-Discrete-Distribution\" data-toc-modified-id=\"Random-Generator-for-Other-Discrete-Distribution-2\"><span class=\"toc-item-num\">2&nbsp;&nbsp;</span>Random Generator for Other Discrete Distribution</a></span><ul class=\"toc-item\"><li><span><a href=\"#Inversion-Method-for-Discrete-Random-Variables\" data-toc-modified-id=\"Inversion-Method-for-Discrete-Random-Variables-2.1\"><span class=\"toc-item-num\">2.1&nbsp;&nbsp;</span>Inversion Method for Discrete Random Variables</a></span></li><li><span><a href=\"#Binomial-Distribution\" data-toc-modified-id=\"Binomial-Distribution-2.2\"><span class=\"toc-item-num\">2.2&nbsp;&nbsp;</span>Binomial Distribution</a></span></li></ul></li><li><span><a href=\"#Conclusion\" data-toc-modified-id=\"Conclusion-3\"><span class=\"toc-item-num\">3&nbsp;&nbsp;</span>Conclusion</a></span></li></ul></div>"
   ]
  },
  {
   "cell_type": "code",
   "execution_count": 1,
   "metadata": {
    "slideshow": {
     "slide_type": "skip"
    }
   },
   "outputs": [],
   "source": [
    "import numpy as np\n",
    "import scipy as sp\n",
    "import scipy.stats as sps\n",
    "import scipy.special as spsp\n",
    "import matplotlib.pyplot as plt\n",
    "import rpy2 as rpy2\n",
    "import copy as copy"
   ]
  },
  {
   "cell_type": "code",
   "execution_count": 2,
   "metadata": {
    "slideshow": {
     "slide_type": "skip"
    }
   },
   "outputs": [],
   "source": [
    "%matplotlib inline\n",
    "%load_ext rpy2.ipython\n",
    "plt.rcParams['figure.figsize'] = [9,6]"
   ]
  },
  {
   "cell_type": "markdown",
   "metadata": {
    "slideshow": {
     "slide_type": "slide"
    }
   },
   "source": [
    "# Computer Simulation STAT2005\n",
    "## Lecture 2 - Random Number Generator and Discrete Random Variables \n",
    "\n",
    "**Felix Chan, School of Economics and Finance**"
   ]
  },
  {
   "cell_type": "markdown",
   "metadata": {
    "slideshow": {
     "slide_type": "slide"
    }
   },
   "source": [
    "### Motivation \n",
    "\n",
    "- We will cover two topics today. Pseudo random generator and simuation of discrete random variables. \n",
    "- Most of what we will discuss today have already been implemented in Python and/or R. \n",
    "- Use the documentations to find them! \n",
    "- Understand how these built-in funtions work allows you to create your own. \n",
    "- This is important because built-in functions do not (and cannot) cover all situations."
   ]
  },
  {
   "cell_type": "markdown",
   "metadata": {
    "slideshow": {
     "slide_type": "slide"
    }
   },
   "source": [
    "### Motivation\n",
    "\n",
    "- Need to be able to simulate randomness.\n",
    "- Computer algorithms are inherently deterministics. \n",
    "- Need to mimick random behaviour that follows a particular probabitlity distribution. \n",
    "- How? \n"
   ]
  },
  {
   "cell_type": "markdown",
   "metadata": {
    "slideshow": {
     "slide_type": "fragment"
    }
   },
   "source": [
    "- Create algorithm to generate a sequence of numbers that \"looks\" random.\n",
    "- It is possible, recall the logistic map. \n",
    "- Pseudo Number Generator."
   ]
  },
  {
   "cell_type": "markdown",
   "metadata": {
    "slideshow": {
     "slide_type": "slide"
    }
   },
   "source": [
    "### How? \n",
    "\n",
    "- The most basic and common type (not anymore) of pseudo number generator is the **Linear Congruential Generator** (LCG).\n",
    "- We need to introduce a basic concept called *modular arithmatic*.\n",
    "- Put it simply, it is the arithmatic of the remainder. \n",
    "\n"
   ]
  },
  {
   "cell_type": "markdown",
   "metadata": {
    "slideshow": {
     "slide_type": "slide"
    }
   },
   "source": [
    "### Modular Arithmetic \n",
    "<div style=\"background:rgb(240,212,211)\">\n",
    "Let $a,b \\in \\mathbb{Z}$ and $n\\in \\mathbb{Z}^+$ then $a$ and $b$ are congurent modulo $n$ written as \n",
    "\n",
    "$$ a \\equiv b \\quad (\\text{mod } n)$$\n",
    "\n",
    "if \n",
    "\n",
    "$$ a=nk + b$$ \n",
    "\n",
    "\n",
    "for some $k\\in \\mathbb{Z}$. </div>"
   ]
  },
  {
   "cell_type": "markdown",
   "metadata": {
    "slideshow": {
     "slide_type": "slide"
    }
   },
   "source": [
    "We can look at this definition in a few different ways:\n",
    "\n",
    "1. The difference between $a$ and $b$ is divisible by $n$. \n",
    "2. If $0<b<n$, then $b$ is the remainder of $a$ divided by $n$ (Note that remainder is by definition positive). \n",
    "3. $a$ and $b$ has a common remainder after dividing by $n$. \n",
    "\n",
    "$$ a = pn + r $$\n",
    "$$ b = qn + r $$\n",
    "where $0 \\leq r < n$. Note that $a-b = cn$ where $c=p-q$. \n",
    "\n",
    "Some Examples:\n",
    "\n",
    "- $0 \\equiv 6$ $(\\text{mod } 3)$\n",
    "- $4 \\equiv 24$ $(\\text{mod } 5)$\n",
    "- $-11 \\equiv 145$ $(\\text{mod } 12)$"
   ]
  },
  {
   "cell_type": "markdown",
   "metadata": {
    "slideshow": {
     "slide_type": "slide"
    }
   },
   "source": [
    "In Python '%' represents the modulo operator. $A\\%B$ gives the remainder of $A/B$. We can use that to test the examples above. "
   ]
  },
  {
   "cell_type": "code",
   "execution_count": 7,
   "metadata": {
    "slideshow": {
     "slide_type": "fragment"
    }
   },
   "outputs": [
    {
     "data": {
      "text/plain": [
       "(True, True, True)"
      ]
     },
     "execution_count": 7,
     "metadata": {},
     "output_type": "execute_result"
    }
   ],
   "source": [
    "0%3 == 6%3, 4%5==24%5, -11%12==145%12"
   ]
  },
  {
   "cell_type": "markdown",
   "metadata": {
    "slideshow": {
     "slide_type": "fragment"
    }
   },
   "source": [
    "In R, the modulo operator is $\\%\\%$. In other words, $A\\%\\%B$ gives the remainder of $A/B$. "
   ]
  },
  {
   "cell_type": "code",
   "execution_count": 17,
   "metadata": {
    "slideshow": {
     "slide_type": "fragment"
    }
   },
   "outputs": [
    {
     "data": {
      "text/plain": [
       "[1] TRUE TRUE TRUE\n"
      ]
     },
     "metadata": {},
     "output_type": "display_data"
    }
   ],
   "source": [
    "%%R\n",
    "c(0%%3==6%%3, 4%%5==24%%5, -11%%12==145%%12)"
   ]
  },
  {
   "cell_type": "markdown",
   "metadata": {
    "slideshow": {
     "slide_type": "slide"
    }
   },
   "source": [
    "### Lineare Congruential Generator\n",
    "\n",
    "A Linear Congruential Generator (LCG) is a sequence of numbers generated by the following difference equation: \n",
    "    \n",
    "$$ y_{t+1} = (Ay_t + B) \\quad (\\text{mod } m)$$\n",
    "\n",
    "where $ 0<A<m $, $ 0\\leq B<m $ and $m$ are fixed integers.\n",
    "\n",
    "$A$, $B$ and $m$ are often called the multiplier, increment and modulus, respectively. When $B=0$, this is called the **multiplicative congruential generator**. \n",
    "\n",
    "To start the process, we need an initial value, $y_0 \\in [0,m-1]$. Consider the case where $A=127$, $B=7$, $m=511$ and $y_0=1$."
   ]
  },
  {
   "cell_type": "code",
   "execution_count": 3,
   "metadata": {
    "slideshow": {
     "slide_type": "slide"
    }
   },
   "outputs": [],
   "source": [
    "def LCG(N, A, B, m, y0):\n",
    "    \"\"\"\n",
    "    An implementation of the linear congruential generator. \n",
    "    Inputs:\n",
    "        N: int. The number of pseudo number generator. \n",
    "        A: int. The multipler.\n",
    "        B: int. The increment.\n",
    "        m: int. Modulus. \n",
    "        y0: int in [0, m-1]. The initial value. \n",
    "    Output:\n",
    "        y: (N,) numpy array. \n",
    "    \"\"\"\n",
    "    \n",
    "    if (y0 <0)|(y0>=m):\n",
    "        print(\"The initial value cannot be negative or greater than the modulus.\") \n",
    "    elif (A>=m)|(A<0):\n",
    "        print(\"The multiplier cannot be negative or greater than the modulus.\")\n",
    "    elif (B>=m)|(B<0):\n",
    "        print(\"The increment cannot be negative or greater than the modulus.\")\n",
    "    else:\n",
    "        y = np.zeros(N+1)\n",
    "        y[0] = y0\n",
    "        for t in np.arange(N):\n",
    "            y[t+1] = (A*y[t]+B)%m\n",
    "    return y[1:N+1]/m"
   ]
  },
  {
   "cell_type": "code",
   "execution_count": 50,
   "metadata": {
    "slideshow": {
     "slide_type": "subslide"
    }
   },
   "outputs": [
    {
     "data": {
      "text/plain": [
       "<matplotlib.collections.PathCollection at 0x112778cc0>"
      ]
     },
     "execution_count": 50,
     "metadata": {},
     "output_type": "execute_result"
    },
    {
     "data": {
      "image/png": "[encoded data removed]",
      "text/plain": [
       "<matplotlib.figure.Figure at 0x113cb2ba8>"
      ]
     },
     "metadata": {},
     "output_type": "display_data"
    }
   ],
   "source": [
    "N,A,B,m,y0 = 50,127,7,511,0\n",
    "y = LCG(N, A, B, m, y0)\n",
    "xrange = np.arange(N)\n",
    "plt.scatter(xrange,y)"
   ]
  },
  {
   "cell_type": "markdown",
   "metadata": {
    "slideshow": {
     "slide_type": "slide"
    }
   },
   "source": [
    "So that looks promising. What if we generate 500 rather 50 numbers? "
   ]
  },
  {
   "cell_type": "code",
   "execution_count": 51,
   "metadata": {
    "slideshow": {
     "slide_type": "fragment"
    }
   },
   "outputs": [
    {
     "data": {
      "text/plain": [
       "<matplotlib.collections.PathCollection at 0x1129dd4e0>"
      ]
     },
     "execution_count": 51,
     "metadata": {},
     "output_type": "execute_result"
    },
    {
     "data": {
      "image/png": "[encoded data removed]",
      "text/plain": [
       "<matplotlib.figure.Figure at 0x113da4588>"
      ]
     },
     "metadata": {},
     "output_type": "display_data"
    }
   ],
   "source": [
    "N = 500\n",
    "y1 = LCG(N, A, B, m, y0)\n",
    "xrange = np.arange(N)\n",
    "plt.scatter(xrange, y1)"
   ]
  },
  {
   "cell_type": "markdown",
   "metadata": {
    "slideshow": {
     "slide_type": "slide"
    }
   },
   "source": [
    "Oops.... pattern repeated. What is happening? \n",
    "Let's try a differnt modulus. $m=2^{16}$"
   ]
  },
  {
   "cell_type": "code",
   "execution_count": 52,
   "metadata": {
    "slideshow": {
     "slide_type": "slide"
    }
   },
   "outputs": [
    {
     "data": {
      "text/plain": [
       "<matplotlib.collections.PathCollection at 0x113fbcac8>"
      ]
     },
     "execution_count": 52,
     "metadata": {},
     "output_type": "execute_result"
    },
    {
     "data": {
      "image/png": "[encoded data removed]",
      "text/plain": [
       "<matplotlib.figure.Figure at 0x113eabcf8>"
      ]
     },
     "metadata": {},
     "output_type": "display_data"
    }
   ],
   "source": [
    "N=500\n",
    "m,xrange = int(2**16), np.arange(N)\n",
    "y2 = LCG(N,A,B,m,y0)\n",
    "plt.scatter(xrange, y2)"
   ]
  },
  {
   "cell_type": "markdown",
   "metadata": {
    "slideshow": {
     "slide_type": "slide"
    }
   },
   "source": [
    "This is worse?! How about $m=2^{24}$?"
   ]
  },
  {
   "cell_type": "code",
   "execution_count": 53,
   "metadata": {
    "slideshow": {
     "slide_type": "fragment"
    }
   },
   "outputs": [
    {
     "data": {
      "text/plain": [
       "<matplotlib.collections.PathCollection at 0x1140ba588>"
      ]
     },
     "execution_count": 53,
     "metadata": {},
     "output_type": "execute_result"
    },
    {
     "data": {
      "image/png": "[encoded data removed]",
      "text/plain": [
       "<matplotlib.figure.Figure at 0x1132d5048>"
      ]
     },
     "metadata": {},
     "output_type": "display_data"
    }
   ],
   "source": [
    "m = int(2**24)\n",
    "y2 = LCG(N,A,B,m,y0)\n",
    "plt.scatter(xrange, y2)"
   ]
  },
  {
   "cell_type": "code",
   "execution_count": 54,
   "metadata": {
    "slideshow": {
     "slide_type": "slide"
    }
   },
   "outputs": [
    {
     "data": {
      "text/plain": [
       "<matplotlib.collections.PathCollection at 0x1141b0f28>"
      ]
     },
     "execution_count": 54,
     "metadata": {},
     "output_type": "execute_result"
    },
    {
     "data": {
      "image/png": "[encoded data removed]",
      "text/plain": [
       "<matplotlib.figure.Figure at 0x1140a94e0>"
      ]
     },
     "metadata": {},
     "output_type": "display_data"
    }
   ],
   "source": [
    "N =1500\n",
    "xrange = np.arange(N)\n",
    "y3 = LCG(N,A,B,m,y0)\n",
    "plt.scatter(xrange, y3)"
   ]
  },
  {
   "cell_type": "markdown",
   "metadata": {
    "slideshow": {
     "slide_type": "slide"
    }
   },
   "source": [
    "### LCG Weakness\n",
    "\n",
    "- So what is happening? "
   ]
  },
  {
   "cell_type": "markdown",
   "metadata": {
    "slideshow": {
     "slide_type": "fragment"
    }
   },
   "source": [
    "- The nature of modulo arithmetic means the sequence will eventually repeat itself. \n",
    "- The maximum period is clearly $m$ but may be less. \n",
    "- It also means that for small $m$ only very few numbers in $[0,1]$ can be generated. In other words, not all numbers in the interval can occur with equal probability. \n",
    "- This creates a lot of problem in the 50's as it was the most popular algoirthm to generate pseudo random number, especially with $B=0$ (MCG). \n",
    "- People starting to notice problems in the mid 60 which led to a new literature on this. \n",
    "- This remains to be an active area of research. \n",
    "- A classic example of connection between statistics, probability, abstract algebra and number theory. "
   ]
  },
  {
   "cell_type": "markdown",
   "metadata": {
    "slideshow": {
     "slide_type": "slide"
    }
   },
   "source": [
    "### Other generators\n",
    "\n",
    "- 64-bit Xorshift. \n",
    "    - Marsaglia (2003) ([See Paper here](http://www.jstatsoft.org/v08/i14/paper)). \n",
    "\n",
    "- Mersenne Twister (MT). \n",
    "    - Matsumoto and Nishimura (1998) (See Reading list for the original paper). \n",
    "    - Used by both Python/Numpy/Scipy and R.\n",
    "\n",
    "- Useful review. *Numerical Recipes: The art of scientific computing* Third Edition, chapter 7 section 7.1.\n",
    "\n"
   ]
  },
  {
   "cell_type": "markdown",
   "metadata": {
    "slideshow": {
     "slide_type": "slide"
    }
   },
   "source": [
    "### Simulating other distributions\n",
    "\n",
    "- You may wonder why the literature spent so much efforts in simulating the uniform distribution. \n",
    "- It turns out once we got that correct, we can simulate almost any other distributions. \n",
    "- Consider a random variables $X$ which takes on vlaues $\\{0,1,2,3\\}$ with probability $(0.2,0.15,0.25,0.4)$. \n",
    "- How do we simulate $X$? \n"
   ]
  },
  {
   "cell_type": "markdown",
   "metadata": {
    "slideshow": {
     "slide_type": "fragment"
    }
   },
   "source": [
    "- We can simulate a random variable, $U\\in [0,1]$, that follows an uniform distribution using methods above. \n",
    "    1. If $U<0.2$ then set $X=0$, else if \n",
    "    2. $U<0.35$ then set $X=1$, else if\n",
    "    3. $U<0.6$ then set $X=2$, else $X=3$. "
   ]
  },
  {
   "cell_type": "code",
   "execution_count": 50,
   "metadata": {
    "slideshow": {
     "slide_type": "slide"
    }
   },
   "outputs": [],
   "source": [
    "def discrete_example(N,pvector):\n",
    "    \"\"\"\n",
    "    Simulate a N vector of random draws given the probability vector p. \n",
    "    Inputs:\n",
    "        N: positive int. The number of random draws. \n",
    "        pvector: k-list, containing the probabilities of all k outcomes. \n",
    "    Output:\n",
    "        y: (N,) numpy array. N random draw of X following the probability vector p. \n",
    "    \n",
    "    \"\"\"\n",
    "\n",
    "    U = sps.uniform.rvs(size=N)\n",
    "    y = np.zeros(N)\n",
    "    cp = np.cumsum(pvector)\n",
    "    for i,p in enumerate(cp):\n",
    "        if i > 0:\n",
    "            y[(U<p)&(U>cp[i-1])] = i\n",
    "    return y\n",
    "    "
   ]
  },
  {
   "cell_type": "code",
   "execution_count": 75,
   "metadata": {
    "slideshow": {
     "slide_type": "slide"
    }
   },
   "outputs": [],
   "source": [
    "N,p = 5000, [0.2,0.15,0.25,0.4] \n",
    "y = discrete_example(N,p)"
   ]
  },
  {
   "cell_type": "code",
   "execution_count": 76,
   "metadata": {
    "slideshow": {
     "slide_type": "fragment"
    }
   },
   "outputs": [
    {
     "data": {
      "text/plain": [
       "(array([0.1936, 0.1486, 0.2552, 0.4026]),\n",
       " array([0, 1, 2, 3, 4]),\n",
       " <a list of 4 Patch objects>)"
      ]
     },
     "execution_count": 76,
     "metadata": {},
     "output_type": "execute_result"
    },
    {
     "data": {
      "image/png": "[encoded data removed]",
      "text/plain": [
       "<matplotlib.figure.Figure at 0x1154aba58>"
      ]
     },
     "metadata": {},
     "output_type": "display_data"
    }
   ],
   "source": [
    "plt.hist(y, bins=np.arange(5), normed=1)"
   ]
  },
  {
   "cell_type": "markdown",
   "metadata": {
    "slideshow": {
     "slide_type": "slide"
    }
   },
   "source": [
    "### More efficient algorithm \n",
    "\n",
    "- Note that the code above is not restricted to just four outcomes. \n",
    "- The algorithm works in principle for any number of outcomes. \n",
    "- As the number of outcomes increases, this may not be the most efficient. Why?  "
   ]
  },
  {
   "cell_type": "markdown",
   "metadata": {
    "slideshow": {
     "slide_type": "fragment"
    }
   },
   "source": [
    "- becuse as the number of conditional statement increases. So the number of evaluation increases on average. \n",
    "- We can improve this by simply re-ordering the conditional statement in decending order of probabilties. \n",
    "- Since the outcome with the highest probability comes first, on average, any $U$ that satisfies the first condition will not need to go to the second. Similar, any $U$ that fails the first condition but satisfies the second will not need to go to the third condition. \n",
    "- So this minimises the number of evaluation. "
   ]
  },
  {
   "cell_type": "markdown",
   "metadata": {
    "slideshow": {
     "slide_type": "fragment"
    }
   },
   "source": [
    "- However this may not be relevant to the code above (why?)  "
   ]
  },
  {
   "cell_type": "markdown",
   "metadata": {
    "slideshow": {
     "slide_type": "slide"
    }
   },
   "source": [
    "### Discrete Uniform Distribution\n",
    "\n",
    "- This is a special case of the above where the probability vector is the $\\displaystyle \\frac{\\mathit{i}_n}{n}$ where $\\mathit{i}_n$ is a $n\\times 1$ vector of ones and $n$ is the number of possible outcomes. \n",
    "- In this case \n",
    "    $$X=j-1 \\quad\\text{ if }\\quad \\frac{j-1}{n} \\leq U \\leq \\frac{j}{n}$$\n",
    "where $U$ is a random draw from $U[0,1]$. \n",
    "\n",
    "- This works becasue all outcomes share the same probability, so all we need to do is to divide the $[0,1]$ interval equally. \n",
    "\n",
    "- Note that the value of the RV allows us to write $X=int(nU)$ where $int(x)$ is the integer part of the numer $x$. "
   ]
  },
  {
   "cell_type": "code",
   "execution_count": 69,
   "metadata": {
    "slideshow": {
     "slide_type": "slide"
    }
   },
   "outputs": [],
   "source": [
    "def rv_discrete_uniform(N,n):\n",
    "    \"\"\"\n",
    "    Simulate discrete uniform distribution with n outcomes. \n",
    "    Inputs:\n",
    "        N: positive int. The number of observations to simulate. \n",
    "        n: positive int. The number of possible outcomes. \n",
    "    Output:\n",
    "        y: (N,) numpy array. \n",
    "    \"\"\"\n",
    "    \n",
    "    U = sps.uniform.rvs(0,1,size=N)\n",
    "    X = [int(n*i) for i in U]\n",
    "    return np.array(X)"
   ]
  },
  {
   "cell_type": "code",
   "execution_count": 73,
   "metadata": {
    "slideshow": {
     "slide_type": "subslide"
    }
   },
   "outputs": [
    {
     "data": {
      "text/plain": [
       "(array([0.2526, 0.2518, 0.2564, 0.2392]),\n",
       " array([0, 1, 2, 3, 4]),\n",
       " <a list of 4 Patch objects>)"
      ]
     },
     "execution_count": 73,
     "metadata": {},
     "output_type": "execute_result"
    },
    {
     "data": {
      "image/png": "[encoded data removed]",
      "text/plain": [
       "<matplotlib.figure.Figure at 0x1151ce978>"
      ]
     },
     "metadata": {},
     "output_type": "display_data"
    }
   ],
   "source": [
    "N = 5000\n",
    "n = 4\n",
    "y_discrete = rv_discrete_uniform(N,n)\n",
    "plt.hist(y_discrete, bins=np.arange(n+1), normed=1)"
   ]
  },
  {
   "cell_type": "markdown",
   "metadata": {
    "slideshow": {
     "slide_type": "slide"
    }
   },
   "source": [
    "### Generating a random permutation \n",
    "\n",
    "- Let consider a set with $N$ elements $\\{x_1, \\ldots, x_n \\}$. How do we generate a random permuation of the set, assuming all $n!$ permutation are equally likely? "
   ]
  },
  {
   "cell_type": "markdown",
   "metadata": {
    "slideshow": {
     "slide_type": "fragment"
    }
   },
   "source": [
    "- A key to this question is the fact that we are essentially looking for a different permutation of the index. \n",
    "- In other words, we are looking to generate a different permutation of $\\{0,\\ldots,n-1\\}$ and create the map $\\{0,\\ldots, n-1\\} \\rightarrow \\{z_0,\\ldots,z_{n-1}\\}$ where $z_i$ is an element of $\\{0,\\ldots, n-1\\}$ and $z_i \\neq z_j$. \n",
    "- Since all permutations are equally likely, this is essentially a discrete random variable with $n!$ outcomes. \n",
    "- So we can utilise the algorithm above. "
   ]
  },
  {
   "cell_type": "markdown",
   "metadata": {
    "slideshow": {
     "slide_type": "slide"
    }
   },
   "source": [
    "### Random Permutation Algorithm \n",
    "\n",
    "<div style=\"background:rgb(200,200,255)\">\n",
    "    <ol>\n",
    "        <li> Let $\\{p_1,\\ldots, p_n\\}$ be any permutation of $\\{1, \\ldots, n\\}$. E.g. $p_i = i$ for $i=1,\\ldots,n$. </li>\n",
    "        <li> Set $k=n$ </li>\n",
    "        <li> Draw from $U(0,1)$ and let $m=int(kU)+1$. </li>\n",
    "        <li> Interchange the values of $p_k$ and $p_m$. </li>\n",
    "        <li> Set $k=k-1$ and if $k>0$ go to Step 3 else stop. </li>\n",
    "    </ol>\n",
    "</div>        "
   ]
  },
  {
   "cell_type": "code",
   "execution_count": 75,
   "metadata": {
    "slideshow": {
     "slide_type": "slide"
    }
   },
   "outputs": [],
   "source": [
    "def random_permutation(x):\n",
    "    \"\"\"\n",
    "    Generate random permutation of the list x. \n",
    "    Input:\n",
    "        x: list. \n",
    "    Output:\n",
    "        y: list. Contains the same elements as x but in different order. \n",
    "    \"\"\"\n",
    "    \n",
    "    n = len(x)   \n",
    "    y = copy.copy(x)\n",
    "    for i in np.arange(n-1,-1,-1):\n",
    "        u = sps.uniform.rvs(size=1)\n",
    "        p = int(i*u)\n",
    "        temp = y[p]\n",
    "        y[p] = y[i]\n",
    "        y[i] = temp\n",
    "    return y"
   ]
  },
  {
   "cell_type": "code",
   "execution_count": 78,
   "metadata": {
    "slideshow": {
     "slide_type": "subslide"
    }
   },
   "outputs": [
    {
     "data": {
      "text/plain": [
       "(['kirk', 'picard', 'janeway', 'sisko'],\n",
       " ['picard', 'janeway', 'sisko', 'kirk'])"
      ]
     },
     "execution_count": 78,
     "metadata": {},
     "output_type": "execute_result"
    }
   ],
   "source": [
    "f = [\"kirk\", \"picard\", \"janeway\", \"sisko\"]\n",
    "fswap = random_permutation(f)\n",
    "f, fswap"
   ]
  },
  {
   "cell_type": "markdown",
   "metadata": {
    "slideshow": {
     "slide_type": "fragment"
    }
   },
   "source": [
    "- note that the algorithm above can be used to generate random subset. \n",
    "- All that is required is to specify how many elements are there in the subset. "
   ]
  },
  {
   "cell_type": "code",
   "execution_count": 94,
   "metadata": {
    "slideshow": {
     "slide_type": "slide"
    }
   },
   "outputs": [],
   "source": [
    "def random_permutation_subset(x, subset=\"All\"):\n",
    "    \"\"\"\n",
    "    Generate random permutation of the list x. \n",
    "    Input:\n",
    "        x: list. \n",
    "    Output:\n",
    "        y: list. Contains the same elements as x but in different order. \n",
    "    \"\"\"\n",
    "    \n",
    "    n = len(x)\n",
    "    if subset == \"All\":\n",
    "        sn = n \n",
    "    else:\n",
    "        sn = subset\n",
    "    if sn>n:\n",
    "        print(\"The size of the subset cannot exceed the size of the list.\")\n",
    "    else:\n",
    "        y = copy.copy(x)\n",
    "        for i in np.arange(n-1,n-sn-1,-1):\n",
    "            u = sps.uniform.rvs(size=1)\n",
    "            p = int(i*u)\n",
    "            temp = y[p]\n",
    "            y[p] = y[i]\n",
    "            y[i] = temp\n",
    "        return y[n-sn:n]"
   ]
  },
  {
   "cell_type": "code",
   "execution_count": 98,
   "metadata": {
    "slideshow": {
     "slide_type": "fragment"
    }
   },
   "outputs": [
    {
     "data": {
      "text/plain": [
       "(['kirk', 'picard', 'janeway', 'sisko'], ['kirk', 'sisko', 'picard'])"
      ]
     },
     "execution_count": 98,
     "metadata": {},
     "output_type": "execute_result"
    }
   ],
   "source": [
    "fswap_sub = random_permutation_subset(f,3)\n",
    "f,fswap_sub"
   ]
  },
  {
   "cell_type": "markdown",
   "metadata": {
    "slideshow": {
     "slide_type": "slide"
    }
   },
   "source": [
    "## Random Generator for Other Discrete Distribution\n",
    "\n",
    "- So we now know how to generate (pseudo) random draws from a uniform distribution as well as generating random permutations. \n",
    "- What about other distributions? \n"
   ]
  },
  {
   "cell_type": "markdown",
   "metadata": {
    "slideshow": {
     "slide_type": "fragment"
    }
   },
   "source": [
    "- In most cases, it turns out that once we can generate random draws from a $U(0,1)$, we can generate random draws from other distributions. \n",
    "- One of the methods is called the **inversion method**. \n",
    "- In fact, all the algorithms we have discussed so far are special cases of this method. "
   ]
  },
  {
   "cell_type": "markdown",
   "metadata": {
    "slideshow": {
     "slide_type": "slide"
    }
   },
   "source": [
    "### Inversion Method for Discrete Random Variables\n",
    "\n",
    "The method works like this, let $F(x)$ denotes the cumulative distribution of a discrete random variable $X$ which takes on values from $\\{0,1,2,3,\\ldots\\}$ then \n",
    "\n",
    "1. Generate a random number, $u$, from $U(0,1)$.\n",
    "2. Set $x=0$.\n",
    "3. If $u\\leq F(x)$ then return $x$. \n",
    "4. If $u>F(x)$ then set $x=x+1$ and return to Step 3. "
   ]
  },
  {
   "cell_type": "markdown",
   "metadata": {
    "slideshow": {
     "slide_type": "slide"
    }
   },
   "source": [
    "To see why this algorithm works, consider \n",
    "\n",
    "$$\\begin{align} \n",
    "    \\text{Pr} (X=x) =& \\text{Pr} \\left [ u \\in \\left ( F(x-1), F(x) \\right ) \\right ] \\\\\n",
    "                    =& F(x)-F(x-1) \\\\\n",
    "                    =& p(x)\n",
    "   \\end{align} $$\n",
    "\n",
    "![inverse](./pics/inverse.png)"
   ]
  },
  {
   "cell_type": "markdown",
   "metadata": {
    "slideshow": {
     "slide_type": "slide"
    }
   },
   "source": [
    "### Binomial Distribution \n",
    "Recall the PMF of a binomial distribution is \n",
    "\n",
    "$$ b(x;n,p) = \\begin{pmatrix} n \\\\ x \\end{pmatrix} p^x(1-p)^{n-x} $$\n",
    "\n",
    "We can construct a function that returns a set of $N$ random draws following the binomial distribution using the algorithm above. "
   ]
  },
  {
   "cell_type": "code",
   "execution_count": 77,
   "metadata": {
    "slideshow": {
     "slide_type": "slide"
    }
   },
   "outputs": [],
   "source": [
    "def PMF_binomial(x, n, p):\n",
    "    \"\"\"\n",
    "    PMF of a Binomial distribution given n and p. \n",
    "    Inputs:\n",
    "        n: positive int. The upper bound of the RV. \n",
    "        p: probability of success. \n",
    "        x: [0,n]. \n",
    "    Output:\n",
    "        b: the probability of x. \n",
    "    \"\"\"\n",
    "    if (x>n)|(x<0):\n",
    "        print(\"x cannot be negative or larger than n\")\n",
    "    elif (p<0)|(p>1):\n",
    "        print('Probability cannot be negative or greater than 1')\n",
    "    else:\n",
    "        return spsp.comb(n,x)*np.power(p,x)*np.power(1-p,n-x)\n",
    "\n"
   ]
  },
  {
   "cell_type": "code",
   "execution_count": 78,
   "metadata": {
    "slideshow": {
     "slide_type": "subslide"
    }
   },
   "outputs": [],
   "source": [
    "def CDF_binomial(x, n, p):\n",
    "    \"\"\"\n",
    "    CDF of the Binomial distribution. \n",
    "     Inputs:\n",
    "        n: positive int. The upper bound of the RV. \n",
    "        p: probability of success. \n",
    "        x: [0,n]. \n",
    "    Output:\n",
    "        b: the cumulative probability up to x. \n",
    "    \"\"\"\n",
    "    \n",
    "    sumset = [PMF_binomial(i,n,p) for i in np.arange(0,x+1,1)]\n",
    "    return sum(sumset)"
   ]
  },
  {
   "cell_type": "code",
   "execution_count": 79,
   "metadata": {
    "slideshow": {
     "slide_type": "subslide"
    }
   },
   "outputs": [],
   "source": [
    "def __choose_x__(u,n,p):\n",
    "    \"\"\"\n",
    "    Decide the value of x to be returned given the uniform draw u and the Poisson parameter l. To be used with RV_poisson()\n",
    "    Inputs:\n",
    "        u: Random draw from a U(0,1) distribution.\n",
    "        n: positive int. The upper bound of the RV. \n",
    "        p: probability of success.  \n",
    "    Output:\n",
    "        x: int. Random draw from a poisson distribution. \n",
    "    \"\"\"\n",
    "    to_return = False\n",
    "    x = 0\n",
    "    while to_return is False:\n",
    "        cdf = CDF_binomial(x,n,p)\n",
    "        if u > cdf:\n",
    "            x = x+1\n",
    "        else:\n",
    "            to_return = True\n",
    "    return x\n",
    "\n"
   ]
  },
  {
   "cell_type": "code",
   "execution_count": 80,
   "metadata": {
    "slideshow": {
     "slide_type": "subslide"
    }
   },
   "outputs": [],
   "source": [
    "def RV_binomial(N,n,p):\n",
    "    \"\"\"\n",
    "    Simulate a set of N random draws based on the Poisson distribution with parameter l using the Inversion method. \n",
    "    Inputs:\n",
    "        N: Positive int. The numebr of draws. \n",
    "        n: positive int. The upper bound of the RV. \n",
    "        p: probability of success.  \n",
    "    Output:\n",
    "        y: (N,) numpy array containing N random draws. \n",
    "    \n",
    "    \"\"\"\n",
    "    U = sps.uniform.rvs(0,1,size=N)\n",
    "    y = np.zeros(N)\n",
    "    for i,u in enumerate(U):\n",
    "        y[i] = __choose_x__(u,n,p)\n",
    "    return y"
   ]
  },
  {
   "cell_type": "code",
   "execution_count": 82,
   "metadata": {
    "slideshow": {
     "slide_type": "subslide"
    }
   },
   "outputs": [
    {
     "data": {
      "text/plain": [
       "(array([0.    , 0.0028, 0.0084, 0.0284, 0.0698, 0.1022, 0.1516, 0.1672,\n",
       "        0.159 , 0.1218, 0.0876, 0.05  , 0.0278, 0.013 , 0.0084, 0.0014,\n",
       "        0.0006, 0.    , 0.    , 0.    , 0.    , 0.    , 0.    , 0.    ,\n",
       "        0.    , 0.    , 0.    , 0.    , 0.    , 0.    ]),\n",
       " array([ 0,  1,  2,  3,  4,  5,  6,  7,  8,  9, 10, 11, 12, 13, 14, 15, 16,\n",
       "        17, 18, 19, 20, 21, 22, 23, 24, 25, 26, 27, 28, 29, 30]),\n",
       " <a list of 30 Patch objects>)"
      ]
     },
     "execution_count": 82,
     "metadata": {},
     "output_type": "execute_result"
    },
    {
     "data": {
      "image/png": "[encoded data removed]",
      "text/plain": [
       "<matplotlib.figure.Figure at 0x1156ea240>"
      ]
     },
     "metadata": {},
     "output_type": "display_data"
    }
   ],
   "source": [
    "N,n,p = 5000,30,0.25\n",
    "B = RV_binomial(N,n,p)\n",
    "plt.hist(B, bins=np.arange(n+1), normed=1)"
   ]
  },
  {
   "cell_type": "markdown",
   "metadata": {
    "slideshow": {
     "slide_type": "slide"
    }
   },
   "source": [
    "**But we can do better **\n",
    "- While this is a straight implementation of the algorithm, it is not the most efficent. \n",
    "- Efficiency can be easily improved. \n",
    "- How? Have a think before the workshop... "
   ]
  },
  {
   "cell_type": "markdown",
   "metadata": {
    "slideshow": {
     "slide_type": "slide"
    }
   },
   "source": [
    "## Conclusion\n",
    "\n",
    "- Pseudo random generator via LCG and MCG.\n",
    "- Importance on the quality of Pseudo Random Generator. \n",
    "- Simulating Discrete Random Variables via the Inversion Method. "
   ]
  }
 ],
 "metadata": {
  "celltoolbar": "Slideshow",
  "kernelspec": {
   "display_name": "Python 3",
   "language": "python",
   "name": "python3"
  },
  "language_info": {
   "codemirror_mode": {
    "name": "ipython",
    "version": 3
   },
   "file_extension": ".py",
   "mimetype": "text/x-python",
   "name": "python",
   "nbconvert_exporter": "python",
   "pygments_lexer": "ipython3",
   "version": "3.5.5"
  },
  "toc": {
   "nav_menu": {},
   "number_sections": true,
   "sideBar": true,
   "skip_h1_title": true,
   "title_cell": "Table of Contents",
   "title_sidebar": "Contents",
   "toc_cell": true,
   "toc_position": {},
   "toc_section_display": true,
   "toc_window_display": false
  }
 },
 "nbformat": 4,
 "nbformat_minor": 2
}
