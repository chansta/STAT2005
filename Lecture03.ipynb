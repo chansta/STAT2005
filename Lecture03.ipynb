{
 "cells": [
  {
   "cell_type": "markdown",
   "metadata": {
    "slideshow": {
     "slide_type": "slide"
    }
   },
   "source": [
    "# STAT2005 Computer Simulation \n",
    "\n",
    "## Lecture 3 - Continuous Random Variables \n",
    "\n",
    "**Felix Chan, School of Economics and Finance**"
   ]
  },
  {
   "cell_type": "code",
   "execution_count": 1,
   "metadata": {
    "slideshow": {
     "slide_type": "skip"
    }
   },
   "outputs": [],
   "source": [
    "import numpy as np\n",
    "import scipy.stats as sps\n",
    "import scipy.special as spsp\n",
    "import matplotlib.pyplot as plt\n",
    "from matplotlib import animation "
   ]
  },
  {
   "cell_type": "code",
   "execution_count": 35,
   "metadata": {
    "slideshow": {
     "slide_type": "skip"
    }
   },
   "outputs": [],
   "source": [
    "%matplotlib inline\n",
    "plt.rcParams['figure.figsize'] = [9,6]\n",
    "plt.rcParams['animation.html'] = 'html5'"
   ]
  },
  {
   "cell_type": "markdown",
   "metadata": {
    "slideshow": {
     "slide_type": "slide"
    }
   },
   "source": [
    "### Story so far\n",
    "\n",
    "- We discussed pseudo random number generators: LCG and MCG. \n",
    "- We discussed how to simulate random permutations. \n",
    "- We discussed how to simulate a discrete random variables based on its PMF. \n",
    "- This week we focus on continuous random variables. "
   ]
  },
  {
   "cell_type": "markdown",
   "metadata": {
    "slideshow": {
     "slide_type": "slide"
    }
   },
   "source": [
    "## Inversion Method\n",
    "\n",
    "- Recall the method we used to simulate discrete random variables is based on the inversion method. \n",
    "- The basic idea is to note that if $F(x)$ is the CDF of a discrete random variable $X$ that takes on values $\\{1,2,3...\\}$, and if $u$ is a random draw from $U(0,1)$ then $Pr \\left [ F(x-1) < u < F(x) \\right ] = F(x)-F(x-1) = \\Pr (X=x)$. \n",
    "- The same idea can apply to continuous random variables. "
   ]
  },
  {
   "cell_type": "markdown",
   "metadata": {
    "slideshow": {
     "slide_type": "slide"
    }
   },
   "source": [
    "- Consider a continuous random variable, $X$ which takes on values from $\\mathbb{R}$. Let $F(x)$ be its cumulative distribution function \n",
    "- Note that the range of $F(x)$ is $[0,1]$, so if the inverse of $F(x)$ exists then $x = F^{-1} (p_x)$ with $p_x\\in [0,1]$, the cumulative probability of $X$ at $x$. \n",
    "- Let $u$ be a random draw from $U(0,1)$, we can then simulate $X$ by setting $x= F^{-1}(u)$. \n",
    "\n",
    "    ![inversion](./pics/lecture03_inversion.png)"
   ]
  },
  {
   "cell_type": "markdown",
   "metadata": {
    "slideshow": {
     "slide_type": "slide"
    }
   },
   "source": [
    "The proof for this is exactly the same as in the discrete case. \n",
    "$$\\begin{align} \\Pr \\left [ u \\in (F(a), F(b)) \\right ] =& F(b) - F(a) \\\\ =&\\Pr (a\\leq X \\leq b) \\end{align}$$"
   ]
  },
  {
   "cell_type": "markdown",
   "metadata": {
    "slideshow": {
     "slide_type": "slide"
    }
   },
   "source": [
    "### Exponential distribution \n",
    "\n",
    "Recall the PDF of an exponential distribution is \n",
    "\n",
    "$$ f(x;\\lambda) = \\lambda \\exp \\left ( -\\lambda x \\right ). $$\n",
    "The corresponding CDF is \n",
    "$$\\begin{align} F(x; \\lambda ) =& \\int^x_0 \\lambda \\exp \\left ( - \\lambda s \\right ) ds \\\\ \n",
    "    =& 1-\\exp \\left (-\\lambda x \\right ) \\end{align}.$$\n",
    "This means the inverse of the CDF is \n",
    "$$ F^{-1} (u) = -\\frac{\\log (1-u)}{\\lambda}. $$\n",
    "This means we can simulate an exponentially distributed random variable by taking a random draw from $U(0,1)$ and set \n",
    "$$x = -\\frac{\\log (1-u)}{\\lambda}.$$"
   ]
  },
  {
   "cell_type": "code",
   "execution_count": 10,
   "metadata": {
    "slideshow": {
     "slide_type": "slide"
    }
   },
   "outputs": [],
   "source": [
    "def RV_exponential(N,l):\n",
    "    \"\"\"\n",
    "    Function to generate N random draws from an exponential distribution based on the parameter l. \n",
    "    Inputs:\n",
    "        N: positive int. The number of random draws. \n",
    "        l: positive scalar. The parameter in the exponential function. \n",
    "    Output:\n",
    "        x: (N,) numpy array. N random draws of Exp(l). \n",
    "    \n",
    "    \"\"\"\n",
    "    \n",
    "    if l <= 0:\n",
    "        print('The parameter must be positive.')\n",
    "    elif (type(N) != int)|(N < 0):\n",
    "        print('The number of draws must be a positive interger.')\n",
    "    else:\n",
    "        u = sps.uniform.rvs(size=N)\n",
    "        x = - np.log(1-u)/l\n",
    "    return x"
   ]
  },
  {
   "cell_type": "code",
   "execution_count": 63,
   "metadata": {
    "slideshow": {
     "slide_type": "slide"
    }
   },
   "outputs": [],
   "source": [
    "N,l = 1000,1\n",
    "x = RV_exponential(N,l)"
   ]
  },
  {
   "cell_type": "code",
   "execution_count": 64,
   "metadata": {
    "slideshow": {
     "slide_type": "skip"
    }
   },
   "outputs": [],
   "source": [
    "plt.rcParams['figure.figsize'] = [9,6]"
   ]
  },
  {
   "cell_type": "code",
   "execution_count": 65,
   "metadata": {
    "slideshow": {
     "slide_type": "fragment"
    }
   },
   "outputs": [
    {
     "data": {
      "text/plain": [
       "<matplotlib.legend.Legend at 0x109e13400>"
      ]
     },
     "execution_count": 65,
     "metadata": {},
     "output_type": "execute_result"
    },
    {
     "data": {
      "image/png": "[encoded data removed]",
      "text/plain": [
       "<matplotlib.figure.Figure at 0x109ddc9e8>"
      ]
     },
     "metadata": {},
     "output_type": "display_data"
    }
   ],
   "source": [
    "xset = plt.hist(x, bins=50, normed=1)\n",
    "plt.plot(xset[1], l*np.exp(-l*xset[1]), color='red')\n",
    "plt.legend(['Exponential PDF', 'Random Draws'])"
   ]
  },
  {
   "cell_type": "markdown",
   "metadata": {
    "slideshow": {
     "slide_type": "slide"
    }
   },
   "source": [
    "### Limitation\n",
    "\n",
    "- One problem with the inversion method for continuous random variables is that we need to know the inverse of the CDF. \n",
    "- Or at least we need to know how to compute the inverse of the CDF numerically. \n",
    "- An example is the normal distribution. \n",
    "- The CDF of normal distribution does not have an analytical form but we can compute the CDF and its inverse for any given points (numerically). \n"
   ]
  },
  {
   "cell_type": "markdown",
   "metadata": {
    "slideshow": {
     "slide_type": "slide"
    }
   },
   "source": [
    "### Simulating normal random variable by inversion method \n",
    "\n",
    "- Recall the pdf of a normal distribution with a given mean $\\mu$ and standard deviation $\\sigma$ is \n",
    "$$ \\phi(x; \\mu, \\sigma) = \\frac{1}{\\sqrt{2\\pi\\sigma^2}} \\exp \\left [ - \\frac{\\left (x-\\mu\\right )^2}{2\\sigma^2} \\right ]$$\n",
    "and the CDF is \n",
    "$$ \\Phi ( x; \\mu, \\sigma ) = \\int_{-\\infty}^x \\phi(s; \\mu, \\sigma) ds. $$\n",
    "\n",
    "- We can therefore generate $N$ random draws from a normal distribution by \n",
    "    1. Generate $N$ random draws from $U(0,1)$, i.e. $(u_1,\\ldots, u_n)$. \n",
    "    2. Set $x_i = \\Phi^{-1} (u_i; \\mu, \\sigma)$. \n",
    "    3. The vector $(x_1,\\ldots,x_N)$ gives the desired random draws from the normal distribution. "
   ]
  },
  {
   "cell_type": "code",
   "execution_count": 27,
   "metadata": {
    "slideshow": {
     "slide_type": "subslide"
    }
   },
   "outputs": [],
   "source": [
    "def RV_normal_inv(N,m,s):\n",
    "    \"\"\"\n",
    "    Generate N random draws of N(m,s) by the inversion method. \n",
    "    Inputs:\n",
    "        N: positive int. The number of random draws. \n",
    "        m: float. The mean of the normal random variable. \n",
    "        s: positive float. The standard deviation of the normal random variable. \n",
    "    Output:\n",
    "        x: (N,) numpy array. The N random draws of N(m,s) by the inversion method. \n",
    "    \"\"\"\n",
    "    \n",
    "    if (N<0)|(type(N)!=int):\n",
    "        print('The number of draws must be positive integer.')\n",
    "    elif s<=0:\n",
    "        print('The standard deivation must be positive.')\n",
    "    else:\n",
    "        u = sps.uniform.rvs(size=N)\n",
    "        x = sps.norm.isf(1-u,loc=m,scale=s)\n",
    "    return x"
   ]
  },
  {
   "cell_type": "code",
   "execution_count": 66,
   "metadata": {
    "slideshow": {
     "slide_type": "subslide"
    }
   },
   "outputs": [
    {
     "data": {
      "text/plain": [
       "<matplotlib.legend.Legend at 0x109e9e940>"
      ]
     },
     "execution_count": 66,
     "metadata": {},
     "output_type": "execute_result"
    },
    {
     "data": {
      "image/png": "[encoded data removed]",
      "text/plain": [
       "<matplotlib.figure.Figure at 0x109e66160>"
      ]
     },
     "metadata": {},
     "output_type": "display_data"
    }
   ],
   "source": [
    "N,m,s = 5000,0,1\n",
    "x = RV_normal_inv(N,m,s)\n",
    "xset = plt.hist(x,bins=50,normed=1)\n",
    "plt.plot(xset[1],sps.norm.pdf(xset[1],loc=m,scale=s),color='red')\n",
    "plt.legend(['Normal PDF', 'Random Draws'])"
   ]
  },
  {
   "cell_type": "markdown",
   "metadata": {
    "slideshow": {
     "slide_type": "slide"
    }
   },
   "source": [
    "### Accept-Reject\n",
    "\n",
    "- Sometimes the inverse of the CDF is difficult to compute. \n",
    "- Ideally we want a method that relies on ONLY the PDF (not even CDF). \n",
    "- Computationally PDF is often (if not always) easier to compute than CDF. \n",
    "- This is one of the advantages of the accept-reject method. \n",
    "- Basic idea (the layman version): \n",
    "    1. Imagine you plot the PDF on a piece of paper and draw a box around it. \n",
    "    2. Hang up that picture then pick up your paint-ball gun. \n",
    "    3. Randomly shooting at the picture $N$ times. \n",
    "    4. List the coordinates of all the shots that are under the PDF. \n",
    "    5. Use the $x$-coordinates of those shots as the random draws. "
   ]
  },
  {
   "cell_type": "code",
   "execution_count": 68,
   "metadata": {
    "slideshow": {
     "slide_type": "skip"
    }
   },
   "outputs": [],
   "source": [
    "k=1.2\n",
    "f = lambda x: 0.6-0.3*np.power(x,2)\n",
    "xset = np.arange(-1,1,0.01)\n",
    "g = k*0.5*np.ones(len(xset))\n",
    "fset = np.array([f(x) for x in xset])"
   ]
  },
  {
   "cell_type": "code",
   "execution_count": 69,
   "metadata": {
    "slideshow": {
     "slide_type": "skip"
    }
   },
   "outputs": [
    {
     "data": {
      "image/png": "[encoded data removed]",
      "text/plain": [
       "<matplotlib.figure.Figure at 0x10a1a9860>"
      ]
     },
     "metadata": {},
     "output_type": "display_data"
    }
   ],
   "source": [
    "N = 100\n",
    "n = 0\n",
    "aset = []\n",
    "accept =[]\n",
    "reject = []\n",
    "color_index = []\n",
    "while n<N:\n",
    "    x = sps.uniform.rvs(-1,2)\n",
    "    candidate = sps.uniform.rvs(0,k*0.5)\n",
    "    aset.append([x,candidate])\n",
    "    if f(x) > candidate:\n",
    "        accept.append([x,candidate])\n",
    "        color_index.append(1)\n",
    "        n = n + 1\n",
    "    else:\n",
    "        reject.append([x,candidate])\n",
    "        color_index.append(0)\n",
    "aset = np.array(aset)\n",
    "accept = np.array(accept)\n",
    "reject = np.array(reject)\n",
    "fig, ax = plt.subplots()\n",
    "ax.set_xlim(-1.1,1.1)\n",
    "ax.set_ylim(0,0.62)\n",
    "ax.plot(xset, fset)\n",
    "ax.plot(xset, g)\n",
    "\n",
    "def accept_reject(i):\n",
    "    if color_index[i] == 0:\n",
    "        ax.scatter(aset.transpose()[0][i], aset.transpose()[1][i], c='r')\n",
    "    else:\n",
    "        ax.scatter(aset.transpose()[0][i], aset.transpose()[1][i], c='b')"
   ]
  },
  {
   "cell_type": "code",
   "execution_count": 70,
   "metadata": {
    "slideshow": {
     "slide_type": "subslide"
    }
   },
   "outputs": [
    {
     "data": {
      "text/html": [
       "<video width=\"648\" height=\"432\" controls autoplay loop>\n",
       "  <source type=\"video/mp4\" src=\"data:video/mp4;base64,AAAAHGZ0eXBNNFYgAAACAGlzb21pc28yYXZjMQAAAAhmcmVlAAB3cm1kYXQAAAKgBgX//5zcRem9\n",
       "5tlIt5Ys2CDZI+7veDI2NCAtIGNvcmUgMTUyIC0gSC4yNjQvTVBFRy00IEFWQyBjb2RlYyAtIENv\n",
       "cHlsZWZ0IDIwMDMtMjAxNyAtIGh0dHA6Ly93d3cudmlkZW9sYW4ub3JnL3gyNjQuaHRtbCAtIG9w\n",
       "dGlvbnM6IGNhYmFjPTEgcmVmPTMgZGVibG9jaz0xOjA6MCBhbmFseXNlPTB4MzoweDExMyBtZT1o\n",
       "ZXggc3VibWU9NyBwc3k9MSBwc3lfcmQ9MS4wMDowLjAwIG1peGVkX3JlZj0xIG1lX3JhbmdlPTE2\n",
       "IGNocm9tYV9tZT0xIHRyZWxsaXM9MSA4eDhkY3Q9MSBjcW09MCBkZWFkem9uZT0yMSwxMSBmYXN0\n",
       "X3Bza2lwPTEgY2hyb21hX3FwX29mZnNldD0tMiB0aHJlYWRzPTEyIGxvb2thaGVhZF90aHJlYWRz\n",
       "PTIgc2xpY2VkX3RocmVhZHM9MCBucj0wIGRlY2ltYXRlPTEgaW50ZXJsYWNlZD0wIGJsdXJheV9j\n",
       "b21wYXQ9MCBjb25zdHJhaW5lZF9pbnRyYT0wIGJmcmFtZXM9MyBiX3B5cmFtaWQ9MiBiX2FkYXB0\n",
       "PTEgYl9iaWFzPTAgZGlyZWN0PTEgd2VpZ2h0Yj0xIG9wZW5fZ29wPTAgd2VpZ2h0cD0yIGtleWlu\n",
       "dD0yNTAga2V5aW50X21pbj01IHNjZW5lY3V0PTQwIGludHJhX3JlZnJlc2g9MCByY19sb29rYWhl\n",
       "YWQ9NDAgcmM9Y3JmIG1idHJlZT0xIGNyZj0yMy4wIHFjb21wPTAuNjAgcXBtaW49MCBxcG1heD02\n",
       "OSBxcHN0ZXA9NCBpcF9yYXRpbz0xLjQwIGFxPTE6MS4wMACAAAAd+mWIhAAU//73x0/Apuj5Zsud\n",
       "RT0hMIrY+kgovVjs0DJ1AAADAAADAAADAIJPrpOvr2aCMqwAAAMBNAAsRuf8KYT+ABp5QVT/D/Cl\n",
       "RX+Yb1F47krle7fV5Redjg4RtgpOGWrKwI4/1TAkmxT4FWVZJ2+A9VzVknDId85/sPU7y5eaP/wF\n",
       "Jt5rqW3NkIRxxyJPX/nA8RfLZl2cT3OWY8q/8qyJfRzcLqkSYB3ByBVn6nel2YzORmtp9NhiedOy\n",
       "9eMyo0QXxv5LbpzVwRQB5syTOAyCTMNSAc/z4jrSMR8Eo9KtRTyzCLHeIKKFv/cfyun6OimerujD\n",
       "zCvNvO2gTfwtfvPBC7sSTNo1fzc0FAku87DVKeSDw6yTpmZPdxvpHIhN78dfQlMjFJi7czmf8sbs\n",
       "tmNV1rPeA95Wg7Dv8E+POFsAL6+IH9ChpEfbOf0dcL7XkLj1qVdd7rtECXcTY1Ayg0nXeAUKDg8H\n",
       "wBcsc2FnLpO7zl5pQtiMtP8U+Bebeht9ICKXzDZLjA6lFVctjiuh55NK+4v2+GKtffkAn4IHJ6A6\n",
       "xRuVUyzH/4QI5Rw/0eSN3TY3DY8/SZk1tAPk9JlibPq1bo55Vp5h1Cff1muN1lOPzcgxpOOz0TLB\n",
       "JpHusPoLKzBD0N1l5Sywl7cAJH7lBBba4Jes8xZ4/zpMQJUd60PuPbcXHsfLH2CjCQ5ocyg+9yVc\n",
       "Awd+sO0h/ruZWhOOx2mwZpj4lyhp5QOV+Iz5z51pqasIRHAOpBeZ18be2K7NleCumjJ/XKjoTLKA\n",
       "LvA+5DE3pM1H/PIw4DVdqTW9arRBpnFg7/KJDSJDoz/lEq/PHwBPhXj/RbCpA2VKO7m3nIV4b66q\n",
       "B8UrcBqHoN3iERSzcW8/g3FauRRzrtvv/E2PIRn1VuwR4W3G1vdvLcRVsGrKACFEnjqjnIkVvcM1\n",
       "DTl16YHY8mfqlO8vc6flE4Ay1bf74056FRhAnv71CrDBTq0X9SR0xMXkj99NyJBY2b5eImnDlTcI\n",
       "XzV8bbChySZ4R8KHo2TFWtwLJk6vULD8K2huDyAHT6lBaHOrB8mnvdeTwpefNW1W3TPnrs81gQF0\n",
       "6eaO0zp9toiFHY/RxS8YHPPAO5GZHHocJGZswAWi1BuuWK5FcalA+iQS1Y0K3fIx7US3DWCf9hMO\n",
       "yC+RkO03MuFNrIWPrGdyrD31vdbwm7k3XyypFxTXR2J5et421z3/WsEoGj0k7k7os3ghFWW03Yxk\n",
       "5KiSC8HD3YcF3JTTeKeTivI/ZZQ5sJZRo4p42SsUnmBvXozsco9PDFy9dovDkNk+k6TooehF7AK8\n",
       "JCJZ7P68GM89upZUvGHtB8hK6nl9unDUfZk/9iPIE3xlBXvtjYPDpUIwlqznefrRKQuJ0vNjKZNb\n",
       "t7GHLYMMTa7PS+avwxfG0WhusZfQVvycj/xsG2/J1NNO5lFY2sE04LkrOEyZBxATM75nNgQazwhz\n",
       "Aiz7MMs0bkMsgMT0tGxGpu8WGZ3+Mk71BWuPfGf1l5nkSzg89YfQLaYPsUjn7mO80XSjFBCM6DgE\n",
       "7qR66BccfQrm9uSzfrdYj9LWAGMo2vGHt484qOAKRvmuzdj/wOa2WVZvSgNa2kkkdiej+dtyQc47\n",
       "MotTmNCiEs2rAn1hqMuCT0NrV3C/cH+xGIy06tKbJqCPwsG7hPuqgu31rGPJMLMpI7Cka/lELR20\n",
       "7HRDle9Gl0v0kuMUW/pggP3XFKMMSA4umb6jzM10Ps9WqXcRFQbxYdbfjGSLS1kTcWgaOsbuJCHI\n",
       "derhwRCPnJNrY7t/oc2aNE986tTe9qrIGXzwxc0UMUfiQ7G60kqaerprpzacQGvZtAHx6Un2xJgd\n",
       "fJOVtMcev9N7VgW+rWs2eLNn+R1rrintN4hZ8NN3vWWa5Ypd+e0uAzUQZCr/ZQD4Zu+eKmEs95Eu\n",
       "840C3BvzGW4rs9OQMUSLNd/HnRVN93dSC+FlGDwwGJI5Cg3bkBtnuIxsMm7DQ57ALShUnxppZZDh\n",
       "OuCpJslBENMpYewQY7EvK/TA0HODrdPHw5qTI6Ly/U9avHO7tzh3cwyRUVUhG0MAPm4pBmM5NIKK\n",
       "uANJRHvQ3kac+ZSYKGiOV1GCDX94kBtv16T8733TaOjtPc9h03X8+LFA6RcTvJHzjdBRNE1H1Y1c\n",
       "iBEqo5wNxkNErQOMJmKcVlS+eChAOCnI/sk2GRLMzXNampQGhMWYsB/Jk7WgUnjxYrUenUZqfi9u\n",
       "ZTXBedpQg+FLakGpowym/8o1UrOiY4aC+DOsvAMIRAck/tWBKUYejwVIgk0MqwQR5zjZB3IS31Me\n",
       "zgQbVu14HmPolrlUYiQs0Esh0mixWc/oARDKdHsHr7UgxNLi9lTd2Np6AHsu9jOVaSGrza3Fh42D\n",
       "EuEiSxgQMcboFTHG6jJulRMWHJIi6zUCY+jzrPs8+gRAruau5jQM1YgXMcwpx4OODmifHU7VSysQ\n",
       "YtOOcwpE16XpeM85gj0654rt8kfrhWO+1+NypiyEhMOuQe5sUXL+6Lxn9shxrj5Ia5RzfMdn889r\n",
       "hRKNksvms1sNcA+N5VcJwsn1SfWMu67MZK81r2gLBhsIxGZb4JPoDrKcmv90R+u1ZfpbM7hRnZwd\n",
       "YMKVRMnMap5yBfbZ4k7ikk8g3/lMtnecvEWrDHCVtMQrUUhBNTaPdfqJa6lvvmfl7H/Ifqpv13hM\n",
       "mCqwb/Fdpy9IUoYWoMoBB5pvZ5HNt0AtSoTORWqso7TxhMvQarx/RrexU26kb4PWrCvATnrmAN4b\n",
       "NJs4CW9mAnrm6fFk3E1cJ/rXuFE9tBWjZzmlgn2o5XXJ/5aJdCvY9SU4Z2gOxHpgw7t6Js5DD2Ib\n",
       "op3objQ9Tk0SqturiogYuIanZNnCjCivUMZ8884QBKaqZG7SJ5eMdLnH7QuUcYxEC7olIGePir5t\n",
       "vynIlxx8QuuypxdSKfcsWUWOLJXIxwnTKX1JW5nBCxDFtD/s6Uc5jajHZOvjVQRhL2ZpcBw29wso\n",
       "gFp58EX60QSo3v9IHMZczPz9oXuDnkK6QqwqUvr7ZSVmje+y0NOC+zUKvWkBrnHucIfA2Q0XdwFn\n",
       "9pfiVXtVXesS8aNUFnivgM4mz1kTkLSGyGtzF0lR8OdBSbYYg3yBTHcwyZ9vzHdMaWF8W25vHA9b\n",
       "fqg+43MFcC9GbLdBF5E3DZLm2yJTrO/7HwP9o4w3Ao6lPynv+BB82XkaJe61jugjC/KRVteKq727\n",
       "gvpgr1LInrePHqEjXB8w70lqKWJIHPMc8NtNUGYH1lF6UeBAar/wir8knkwCzIos615ZoOZJOCe8\n",
       "lyl5JV8nGWPHEXpWxvnRhkcYL/sjwuk6IYf+hVgY4N5Xv7+XE5sD3EbV9tH4vkWH2/mQDpCOWYXc\n",
       "G3tvX7aMJ+B//YKJ1K5eVCGmV4hxJxsIuSHoA1SajgaoMjy57QVEAWFkOvSM5BG9kFAy+IRwI6ip\n",
       "HtSqtBX90GYKuc2TVIe2pwxWLx81DFL/pqGlh85vz5nReu8iQ3td+EgapU0Pe6QVlkV+XHn4twup\n",
       "M2qqmJlrk9EILK7sQeFmfyJPB3wfZJolnfyfM4/Keot2pHVXJFOr4r0zN/QP5SMVbWSXwTnC7c03\n",
       "Ti+R/7ZZbAsPQ4OgIirqIhI3W7ZhQtnxbM54Ntmh8o2y23zM5SuMzeR8CqcqqPiUqCAKduKf49TE\n",
       "+iJkc6SMYHFroyTbm5m7aMs4+Q2uFw+Nx5YCQRFqTjQl+g/LlZDA6YNhbyVcO9L9xr+5M7BXNrqP\n",
       "+PHZUGfI9OUcse6Cp+c3AvEbmzPEXO2RLep2LCDX0Xn5mW5KH0shwJfrAwmc22RbjRhGU/z2wwNZ\n",
       "lh2WfIfxM8kdY4VCXUCSZVuUVIWJD0LJeOTwqfBg4zKs6hJGt9Jo3LyDdkcS//853KagDIFKoDx1\n",
       "tCisyPIl/RBKQI00HZKtEA+91K/Q26VLQJqo+PKqBnFbh74V3TFD+1W+HuXdhg5SNJDFMKa+jdKh\n",
       "XEOECYm5infk0u3mWfFSpcl+sFdVny5JgSdr8wvJS8/pwyUkZzThHqDCm3ry3e7LrMUfcRLhlTLs\n",
       "t3Bg/uVglOgtnBL/usx1ys7A+bAYSzZBS58iSv2j+7mPH9KQ/pJD+TLCEQi6AYBlM+MWfhrTbLsn\n",
       "A8OicXwc7BDcYS92eIwWvVCJLv/ZdA9Xtwev8oP/imASIYUk1Unvj7FaH1w00/zzkVd3j3t70CTN\n",
       "OvaeZJOR9l60sS4Plo6UZf6H1/wg/I2VDEx4ZmkjgRJzvFfpFwUp868Q+prl//THZzw88rc3j2Y2\n",
       "L0WMOtZngpXYdlNHhqBuCe1/Xk8xX0ZHJMOtmd94Cr547KdtjWxKWGH3gHozkB823gg/71ZA4LeX\n",
       "1ktn5ec/VPkOWRypSmoU6o8vCCjR6Eec2ABeLybQBZykWpsL+Jw/Bl7WqPw1GWL/T94nEMloAcLi\n",
       "Di1HIorGm0uC0MKZv4rxENybN1kFaoX8OXOChBi1h8tkyuWXadLVEI439mdwBT2l77/7SBChn8W5\n",
       "iPCnJ1PZdKl8p+pWIUS4phPrcJPlG7QLiF+ZgboABjd1E2/GY2327S4qUdthRAP179VJZ33RvVQj\n",
       "nuE8rn50MFSqJ9ksuBLIOwS/zZvDo5uKMEqy2vVVmzFUmlxCPbZawWw0BVdKs43w+Oz2MbZDHFwo\n",
       "H7YPDpv6QXZHK9ff9954JJclgMubHnZzPgT1Y6lAzMT1xuZijCBcKSV/GLoDIwvkdPN86bFk6hZo\n",
       "//JJkhnzJf8l2dhVMjCUyWzmqKgSeQmf/CNtTFLfnFWubFi/Ozt04pkjp3/lRt8kDs4hf7IEEqLm\n",
       "BapReq/AZdM39vurYrzlzB/1vJeeEsPxvsIbIBAcgPTvmyUQDuiH3+fTTZeGRp8bthe3HLqOBUoA\n",
       "gMkJPf79Zvzpxh0d35Ix6AndunqIJXSIQhe3ze95C9fJoMkBWP8RI4/OmXH3X2Kd8QkueBVFOsTH\n",
       "KiZRgBH489u1n0cAXiShaoG4YTSqbvvTNo6HIXEdjC/1upccVwNtvBi2VAsZRCGk0l81IAHfF5a7\n",
       "+9PWGYkgg9zdU6tpdHQB0ScsWbVp8bkeD/ezxkKP5oopp09e3uA7L9KT6cpQKHXtaeaUYsV1OOBl\n",
       "Uei11R8Gifu354K5jIhR3fn+WdZHVlu2soaSRR6s2id0dRuXAG/kaGtzKYgK448A7yjG+Wt7n31Y\n",
       "36reL3BkFOYGfYxzfnkFg/Ji3cQKvKhe9gCJtpwYUoWTux1s8pnA408tYtSIiwzBQXcC8amMp/1X\n",
       "/wgrlw7/XlEReS0FMxV1qZTyIumgAQimoy7BZsAx6raTdgvO8dwEJe9dyDtFBBlV2lham8xH1AJv\n",
       "OCA/fEqnDPFczUb2SacefYHNN6/oc+58dDeNmn+kGd18dJq7gRjnZprPNCiiHnxyvlxcTuX/4mPU\n",
       "FVD6azKEiNyi4rx6ZRzOZWznKSDVXOMNdU50ATpn/IhoEmgdXPbytw5aSH5vUFrBlsIl6fyPT+ou\n",
       "4i4nAgyCho7UWlV8bUfDSs9hRiAKwKJrNY63kL4MVdERWt0SYNTkB6pHWhkvNqyXZhxDCzmZ799O\n",
       "xdWqB/08SMuFaYXvnO3spsRv4WlYni3jYPHoXKR/SOpNCiUdDHldKySU5WYIoMAF1jyEEByLKP2H\n",
       "ZvIVuEMWWCbOSfnGqvCvrYdhfDhTJrDUQmC+xMzA+SSiRldwqMQc0Dc6o3SNhpwhTjSa4t11XEg8\n",
       "ex/etk7JtumwH0m5qpdwwcxrCayRGnXX11sw2C/1RNjDAh6t7zMSwgw/5av2mXIxkYwaGtcKGUcQ\n",
       "LiHuVKQ4CPOmsJjjWRDSFnGlxRwSz1xiwktO+RwD1i9C+I7QSY58KET32t8mK1cSZKNRQpjoaf1j\n",
       "JTfCu+9wqOn5m5D6Mz0p6UCGw6dXq2UW4KGa0pw3RMooPg3FUnCb789IwrNMxCNcyDtRiLQTjQhk\n",
       "J/iVv1Pf/ZlckYfC66CN85SqK3dgEjuBGaHDWZ8MnS9jfQPcEihSQZaeBbZrFQJpRKA9nkuL6Qnz\n",
       "J+BP/NoqusELgpBmMlsQFEiU3LFhIaqfvCjsmXeGZfjEynaXFq7bQfHVdEBT3uosMBvstRlrbnst\n",
       "JE6/ZPvV2CZADFM2aOznTCYz5DNBx7Anru3iEVhBO1RxjZ1akEPxGSM2MGgQvy7TnAaPdyLakwv2\n",
       "fFOogvKEP8QaCewm+wnbAl8+kvb+PG9q8pXf6GbMDq2xI+ykPjWpERP9234sewlzneUbVrOmLHVs\n",
       "ReqRGg5/LSLwhrRYGLMXNU8yfjsMW9G9nD+9Mtmvvf/cTTkwNfo24fpTT/f+L1wBfKU2TamJt/4X\n",
       "uDy2sbxgx7R3xOiqB29Ds7I2umnke17h0brCrynnvjY3OS6jWVbDgnM0zrO+pQrS53WzNKUEChV6\n",
       "EBpA/wglxEJcXeHHp9DyZKH4NaPLT06cvhUHn43re8pl/IKDcLMz7lz8Wpa1VPl6WaIVID+t/EWe\n",
       "P6F2uXqTgnRzw4BBeH+ocY88A830BUo0m2FWyOJorfEaOjzY5cRqdBjt6VhhXoIINyUAAAMAAVU5\n",
       "0aF4+S+fjWR4cG9oNgzmO/rER9J7rYtvQNOl2N1ChzwYhD5etcdKuIalgqgml2f1xrWJ3TOU71Zg\n",
       "8IbyUAJRw23BFZmNfv2ayIZ9W9ggcZo0/5tBkr3bJTNhuG/PSASsJ6Z6zvnAnjiwrdCHrYmHMBSA\n",
       "3+65Dm/3lUZR9uz7RTaYe5kmKiFztI+QX59GldzfTOrRF/eLU1D931zN8tF32QESBQTTu8PwydWg\n",
       "MOUyNqqFtVK/XTLE6W6DKFHHMRiT+/cqmmAAAAMACvBFDRkaEdEqUBKItGZTS6ijcJfkLZ7quLPm\n",
       "o25eiz6qzFjwcjtq3rlyT5dfdULhAzYcWIJ7As4XtXCPTM/RLUpcv8QHtTVnFvwP/rzHSgGpmZ1r\n",
       "1YFzLfRGcmE64NhOzDzN1GNTPfYS8wMIhe5lzkqxGtGTeq1XID/FXyPL5qCqUNocWbpyizL+5Bk5\n",
       "MkkHKudPItqMvIhQAAADAAOSjo6liJSfspeaQE0NpeZNQ7HdQfIE5479igBEerrIWP/K19KCQ8/6\n",
       "zSUQFvwdntxSeylPKFEA8XwoO+IMGSYOvCj9EO3qGdOTn6nQLSlFZ6GXWsYfqktpIG/QoKM4MReU\n",
       "bZ9jgJOKFITUz5J0PNaK3qDeM+kYiQdjDGmuD4PtmlGIr62vt3ioGvnE5JbZh5hERcfYe44RFH9I\n",
       "Gv9DX5ILUzMYXu+FtHEa5Ztuf221sdFqtDTNhCOBFoybTewZBq4bR4gJD1eF++MQl3NB0AT6ARVd\n",
       "cMEkior1jTNPeN7ikoqIkKfe34s3wI/1qZ8h6kdwHcA2QCeejy5jUPUeEuON0oKtxlcCEbhx8w6b\n",
       "S1Iv5d3R9Y/IxH5ZbzVUk//bSSDvWdWDAsb8gADZHpQQhryHBxdfF9L3+q/1PF9/s8XZ4eafPElQ\n",
       "KyDP66WCusnYe+37k6Smri+MhauITuPurllBlzYEuKGzesPN4M4FXyp7uAbIBPPR5aEA8JC7pQVb\n",
       "jK4EI3P1u1/ipCZneCTEBFyFDKDajRIKMkNUtq9h/xpLstC9TKJ//+ALEdKTNrkqKVJoMJmEUi8V\n",
       "Kbs19/s8X3XpOxpRapMIG/FSkssg2UypImtUiwBnv6cEq+0hnQLoq1PDuC5CM2DWDxfrnpmQ+4bs\n",
       "m4a08lRSr0wZwNzYuQofV01ZfqwP8zCN76NzsZo4d8aegb1NYFjW4SOLPwPo25+0AJCViLOosDoY\n",
       "XtFuLjn3XqynndBWPzaXV6ovJhyFgcd6LAUxeIohmG0jKeOECnW+8h5KsFMBx3FrZ+UC6v3JvefH\n",
       "fMkB2R1IKtObYvRL/5KM5ppbHTdjuAwpM6fh385ShXfBm5sddaXg0efputfXPhXdKguxAzK/flvp\n",
       "Mkkh1mr+GVeZy2xLvSnKSDSxQ5AT7aG6FvQYFTc54DcRnjpvISTAYXZvAxFYz6wph//2dr5CVMQp\n",
       "h+Yg87BEqWRQhScQn6nbCgSVgmvpOn/vdHf65sXeJxfyRD5ygubRLsgNQ4enSi4Mkrfkka6nnZiU\n",
       "gavT5629bOW46B/oxvXKYnWTq4zhxlKlAmtV3L0kEMTQCDVaC+DtjxywPYWN7SqWr1ysVNVCO3+F\n",
       "yxEjLN9ZeZvQ9qT5+5t26gjPMJlB6ITtpMEgZkoUpyVz3kTeZAm0GuRGUaG32zPiXaRtZIFz0Bju\n",
       "Y8fr8zewvhxPRXuXutg1XGwfV7gNzaiFBpBhbf6x/i0PhzyhkBl4DxBAS6Wt0rGrWkUPowBNHxBw\n",
       "PBwPVhmsPs5pIWsGzf8Ep1cVWkxL16MNzpe8vUmHb5p605LagafPAMzQZdnIDccGqSJWWO+T8y/w\n",
       "rm+Ku9D77YzsYhRLYverwbtQCZ8DuWyGWx6flRV+/sQB6XR8eXt7I9E6/gfpaQTb2MuR6q0AI4p/\n",
       "YTu/yBA8W1ALy/ti2WvggZB2QAz4IameXmKGTft8RWB46tdMM7lmoR4WctfN0yuTgbGMGS2ciKxe\n",
       "kuhgFN7r3q/I+NthRsbbi/jV+6/iPGOmLUQm8Ii5Y5IyFdZZqgpkBlHkBJwJnCJyEordkuzdkzip\n",
       "KXIOrjWp61uFLcAMmnz5/DeEw/wi9ACAaCO2Q4l5akKsC4uWH3LpQ69oJaBMRp230da05iplF1G/\n",
       "uPdIUUJVZPz2SQmjJ1I7z6m4nm0INiZHBIboStUZTaCEoJkAOGyK2+g4xzUwzqb9nTp5vlTfjOqD\n",
       "J/CW6dlHuUi5QYJXpUkuTLIiHDe9+pvCDdOwWgPSzDlHz+FhyJ+pjVAphCVrCZjJcy8Ui5LPKqfD\n",
       "Nto3rFCzN0ABtPUHh0rPgRvMJLgk/Ci5NxBmIAvSoYjRDMduxfKJaKzKhoDpi8egVkXPIsh9zrOy\n",
       "1PYZXNzSkHCJ6wiMO5RRzGktMzVEq2OrWONmST9s//Pejy+RoICHbWtLzgPIPUrb53qeYvsCheNx\n",
       "81xBHQgOMWQRPrb46vMeodzU/GTVja9soyzZVrakYuIGJwvSxyaqqxg/wFNSaCDO72T25+QF51bM\n",
       "Hc+eSIME4utX90fIX4zo+qcJ1kH0t6RcFjMoRlqMCzBq1q/A/eS3IOJJU5rLnEDA/ol1W/vfZAci\n",
       "+g8bDbikU/mh/yQvgAgQDwc4NIQf1+k17vl+21LFTnFm4v6A1L8jKLSv0T7fDaGJ5i/If7dod+BM\n",
       "bKXgW6K0hep9iOgKcHBqiyk+MpTDPRhv1WAUWPobw6WKcumb7Z6oY+NJ2psMe/SfiPgjPFEZmm+F\n",
       "eR3bNj/k3Gcz9kctY4ax6+U1twoWxryxhH9MI7I74XZwm7VdfnmJwFshJ8ImoTCO0h7Uf42staTu\n",
       "yiEIb/Fk5B75dMP5p2Zp8fxt01yXNxnfE+tDoXm5tc1gyiL5rbLVkRf12NJ4pbs9e7OWty2RHY8B\n",
       "6XSEXz88j0SPG7MAJ4XFKMcqRIhaelLCBd+s3dQbO6UfkE0d5qva1nXyB+nEyCFYjOZInVL7zV6X\n",
       "y3/0Da3+cUMrlDKp0scdDSYCnd7q4JWua57RfqKms2BNOpPBt7G2vp5HgmOwB7AEpMmt3nCKarqd\n",
       "m63sOZZKAX/Cd9IVnlrcyc/iJRpLfSJW+5wX59+nBVXKLBiVtVl7wOrt2NPXVUtRH4oICPvGA251\n",
       "xVMeHC9M+ZbCvho7lb/aWTg60uXMDskZNpcSW9uIygNLtSRhpnECYgY90Kbd+OjOzgOTFL8A3edY\n",
       "xt52zqZU9lSoXC7GzVV5X4M3Vmi6III5GFX/k3O2rrsMJDRy5YXi7vPcujjNz6aShltjZvG86xT5\n",
       "uwNSzbcQpaZrSgSQTNqdMr0msfvlCDTKOM6hLbEAxGKH1ykKWRVS8+XwWfbxe0qB66TYbAV68zJw\n",
       "832QCfSRUkJRjq5OV8p7S8kKVnWfLxu7NHdeuFu5LKtP9S7Csnf5/+ShWv0rizemA1ppxhv9EtYI\n",
       "g6pz9k/h+gL2f+u96uw+lkmYPwHh3JpUnxWBHDbBp64L90qU4SPs/QXNWxiKb9CTdRabgxkUywWT\n",
       "Fldefp9zPwAMTVJWccwSO+spY4RTmVUeoZcEEekV/ouhWi+2ZDs1A3yct2VRUQ8FuajbZvjruBAe\n",
       "jn36/QHCYh16ISChEGV68wO0zNwGx9CLJfro2Dqo21wu7V85iwi5KGCN919szPMINUJIlJC6Pykp\n",
       "MP8psj/rukurEAAACh+AAAAeUQAAAnlBmiRsQU/+1oywAAO6/sgBGW+/SmB+HlZoVD0EbKQ1z2tP\n",
       "z790nKB0etDL1BDEC+bTmHhqI/d/GurMR9bCtfDedzvVEEXQuT40nPK/i2d3qxquhkexWYWoYLWH\n",
       "ypVjcZtptrLy/eo/y0wNJdxkMv5JT6BUVox/or+iLeaZxq0noK0CVDD7c+cM2FNHXI/7WKavrTpd\n",
       "W0bQSBWSwiDf/pBlDd9t7R9Bv3FUKgFwwh0aQO8h7yf8WE/ZWIptSJNgJmDNu4jS4PjU9WU3hNm/\n",
       "b8jpvxd1fllAfoQaKbaG1jRIUt624YFSfjw/5sKGfWH/qKI5X+/g2q3NyQCAEn5+gfoxjSLXkemF\n",
       "LOmHmU8jjkO6IjbS+wtYuBJgat9IszlM4ABjon+2hlfy9M5jhm3aM09L2M2CZf6W8exuKQimWu5v\n",
       "UGelJgPUO5uvu5t8H6R6ARhZ+GZMIkVXqhCWCs+TGRjelGJxRx7GChDvrbX2lXFaE3/snvUP2gSA\n",
       "nWbMkeGN5QnMOYjojKyk+Lr4BiMUTvc9iOM8tj7p9yAi0p3nY/dRh296XFWVsbukJBpEWacrmECA\n",
       "wTAHkhwPTS49kXPr3iU0AsSWjcHk+GqEhCaBv6i85bfpwJBE1Cib6NywpfZBD4+U7M7E1x5Epc5/\n",
       "3+wB19SIiD07mDwhGuct3PMDfih5u/n7VGoWXCFrbYmC3jT8eyddDK+4wDiXirMZaUpGyst37nHI\n",
       "Mnb1GOVwmbmx4241KWzGveEN+U+111RfoBq3FhtZtdrEDWpwkCMMsDdjhMr2UL2R4vAMqFQy+nnp\n",
       "yU1DG+6myrfoXH9e1yljEsZzfYzPTUx5M+AgK2AAAAAkQZ5CeIIfAAASVkvH5hMyUk/2I9vuJPUG\n",
       "oZHT7cCLGIR4QDThAAAAHgGeYXRD/wAAAwEtjM0EDqo0CKlTkylPtJYgjWVP8AAAABcBnmNqQ/8A\n",
       "ACjk6TibUGHznRDUbqSBxwAAAopBmmhJqEFomUwIKf/+1oywAAnPP/jLhkTSQAcffg0Hv5+f9tlf\n",
       "ZKRrHowMOFz2D0U7zwdAjQGcr09dyCsFN+UbjAtBg41lyVqWb3Mber7BvcPtl4dT8pPtlhkixF7Y\n",
       "XuYiH05TxAfUsy0aS4mrNDy36oSoHq5S/r/RYB/hK+1oPdZsdStaWDQT3YGrZ68x6Xm1BnYpu2JD\n",
       "g86V47D1v7lrtq5s+2sy5ko+Ojtjx/eJd8xznpihNI3RKCNCZMkuijTJbKmv8BGbKQSV1X+ScRxY\n",
       "4+oetcQQjeFcGvdaF3HXljb9DEcyX5WzXV3dDB/EcdDU7RFofhet2X+AZu3hHwffKkjUR8oCJVC6\n",
       "HcMogaO+RhijR0rR38+dwlm7s6Vaf7+OPfoij/IBKnYKZHE+/Lx8NC/Hn2UXLNOo6RAAEfwuqbRv\n",
       "keht3dTh4I98n7kheBNNaHoKOiuypsMHD8v9IBmiMy9MQhCLErfCnXxQ5RbX+ONAa8AxOcjymkWi\n",
       "oipfd8yxfVGgUrwvC6HzWgLbFVo2BbPNcn7MYMDR7EiYhHNAyQ1LU4OcE8qG1WehcHyZnmhxQnnH\n",
       "FHu5CAWYXOxtRx0BZEh7ZozVbtccnuLITzIX3QqftWzx3TLJ47Yxzu0IZbn35DjYdOAu6MwVhfb/\n",
       "FVeco+N7/gilML7+j+D+uX1AZXWyRE+aLXm8hY5zJHatQQHkR9oi4XjdRRAADIjLN/08Wf91B542\n",
       "9bAuYvCXnqre2t63jUMc+RXrqYDQ/0E9AZOqvulxd9mQ/dOHKlteGRXSIFHEkwJfEqU+MOT/zID8\n",
       "XTmhRlS91Ww3dAZmY2eJ/ipG4ogcWVNQZ1T8oOA21PN/ixY9wz3wFzCZgQAAAClBnoZFESwQ/wAA\n",
       "L7TXAABEHsY8Gv7httQWQcviubl2znoNrbYdNRgh4QAAABgBnqV0Q/8AAGl/50wTTK9Vf3Xjx8QA\n",
       "BQUAAAAdAZ6nakP/AABpfHP6KmbR6kwr1r9zm9pSeQ06omAAAAKZQZqsSahBbJlMCCn//taMsABj\n",
       "N5f8K8XgD2YQl21UI7dONu8uGSjZg/PD01ItOVGFQ9/7D47yr1udx4gVw1AGIaB64yUAEx/xqITe\n",
       "fRDbl7+7jphZS/GLCHxc5c30LFu0aDyhPgVNf4aBT8ANBDXOLHDWk7o1QM4/EJtjDAMpgk4RDvMo\n",
       "FarUR5QhZWdJ73hviEST23QmNvzst/nCwTcLynEp1fGd3XAcuw6D3ABUgfu9Sd/C5daBd0/Cdxun\n",
       "qwF8icNhw6fSe0pYwpmjBiwwQkx8WvSCIufBIAthGs1pMI1WWm5ob3+4T8yxHCRUXmviXOBWg7gM\n",
       "acbJki+sYh+W2iLKL/jqrrm2a8cNyDTCAkyUVCqk9B/VwvT2kFBA9yOIwAqA4eGjQxrG2d8ygABH\n",
       "GwjkxAwtDd/2akeQZNmfIVXXmmvN9JoIg4fhl9840L/wEKfyUfhx/1BwyZTxGDzwHwQah+Mxll71\n",
       "GM18NQFZrSQHD9GBLL7yV5QQgGMO81yLVo7d52KABIN3CVpju0KSvwGKnhE5ZkfASHBfAZKDkJej\n",
       "ZwIpXyLXr/uHm9vnsbc1eAvEDL9VSEcl08AeQO1N710VNEwcIOF0buQwooQsAyLGKiDDqDA5ZG2M\n",
       "MIVhy3dmtyr2PkMDtAv05K1g6G+2Z7Hx46drFWDT/4HOgV/O8z/LW/CB7pcvOxrw/6JoBCmEZCxP\n",
       "DJ9ourJBvLPNEJ3j+Pf1aps0n5V4EQcduxjN+l75EJg0fNB01yE2ZTAI50RJO0Pfjhu0CdU+8cI6\n",
       "P8GG0xeAzkSRtNW4APqcZ0IqvkZcsreuV6LVSHakaa5sk2FevuEe1mjSmbE+h89gNrJzerZzQD7g\n",
       "0aaS+bgVCLSO5GKW19V3lcvAGZAAAAAoQZ7KRRUsEP8AAdq/rGrmlOAS5bbmfa8wXh3TMXuYzsGm\n",
       "ygS0dEAXkQAAABsBnul0Q/8AAGlujCEJzcSoIAZ1lc7D40f2CHgAAAAlAZ7rakP/AAQWDW5vd+lB\n",
       "GkqIzNcgmLqWrD+kcpVrR3+r0gB4QAAAAitBmvBJqEFsmUwIKf/+1oywAAYzeX3F8E0CAL85fOGB\n",
       "s66FN3lU8IoF9YLOJ+UrzdGZF37IWkP/dLiDDrXW/IBVFw4+ACne4RvbutPh/au6fo2w79pP4e2q\n",
       "HRQW16ujvAZVlVrxCUlweGWFvNtijvuO9rxSzlbaZ/xZrWIE4atLSdV4R9pkPlLlzcAd3LLT8o0J\n",
       "HRh+DGcBh0PGrQjY5RRwbbSxnMigDIBda8Pjjlb5cu69i8fORkIKt4knALsmgzidWfdujPH4teJ1\n",
       "ZX5j+/mV6VfDGWbwe8xjmulKHOWLmp9C2M+7SFLcnDkTHSTc37OWzsV7DbpL+sOPkg4fCwTSwWV5\n",
       "2VH1njPOpmXIG7WOccN65AV59qZWKlMvgF9i0dNfLkqKKmI2iG46glunfC3SRQwv5OE1N5ig5zFb\n",
       "s3as/AeCZQ6YdhWhYkMqPxj97gpsHDWPu5LEMM8v8SbtLvgkEo4zlczYxJTL8m9J/FosoO98Ru1q\n",
       "qt5VQNacvLieGKeJ53N7Xcbay1c9X9Lx8cSu9Bf5EtgfYNpDBx3gYxAVT+U1q54LfG5DIV53MtKs\n",
       "3nby9W6lz9WXynRCACuUQmNltqyApGuxgNC+Uy8FLnrLdPbA16yScg1r/HnVh5ndbr1CTYwfkEAT\n",
       "9KjMpvwgIPw9lUK8MX2k6ZzcSDcLgESGXG2TfHvRN4eS3HgqokhaAs4xad+Azgpe1j0Tmr7dQXNd\n",
       "KEKlco3RpmnG0ZUAAAAoQZ8ORRUsEP8AAKgWmjaEKvHs0jOUnAUT7IldAOei+QmkAPgDMAAYsQAA\n",
       "AB4Bny10Q/8AAXQW/2KAIKWc4brwX6tnLXs+fJrwAb8AAAAeAZ8vakP/AAF0R994Rr8czlg3GuAK\n",
       "wgl8NSGaEAEvAAACHkGbNEmoQWyZTAgp//7WjLAACY8//8Nz9wA24ZE4rS/IkJduLP4DMe1X8ZME\n",
       "A1avPRpnGj9Ur2iLtVAdz5BYKeARoSXcY68PmcLuDGVQRCMuleiCMlHBpIuotTtwkwSs23SVX7ah\n",
       "wPBJRMlBK1JCgRYlJtPOqNtym8VjImQi+oMh93PDavBy0NlSR8CCj9rgTvPUosFY65VID/BhO1bb\n",
       "j03Q5kd/b/UGPpaG9ixFKbeyKsaPielhVUvqTW9FecvJRufzjd057emUOlKRnEvA5k3AfhyJ0iin\n",
       "t3JlKMDL7xTA/Tk65SQax/2/W30zK6Yz7QaLQcJcKSm5lYGTXwyHZC8LNBVDogQdU9Sdp048w6Nd\n",
       "+533saDwrejdgEkGM7xfeL0vQlkKjNGWekw+yzYmJLZqRMz/MUCCiJYs+XDC8EuTdc+NKAsjO/sO\n",
       "2jR3RfTuhpH75pvLKtwFIIrSnx8z2bWjeA7QeM7Q4X9dOHMl2APjdXIrdD8ezACZgb/xF9zv3Dfx\n",
       "F+O7dMJH4WQehV86rRT9FiOnrkFO/02KikcHJlGP2/VaHhf0VRr03/GHEfSzgG1v4aVD9j/JU0H8\n",
       "L6bEJb6XyzZT1fdgtNjLPOOSBufJy4yCb2RAM2Gj8fT+aTYJpL/HenAV9r60YR5zUoEWLrUw8+2W\n",
       "UlQRQq9prTCoIpUGh8WfHbI6jhzJ4r6lQ0kYWvuaZrx46qNOxu+01F4cAAAAL0GfUkUVLBD/AACo\n",
       "Fpo2fN7jXiCpIhLJWKTsE4ze6mF4IX4hyGJjJz8yXJKegh5BAAAAIAGfcXRD/wABdBb/Yn+dNc/u\n",
       "fHRbwzFp0JMC1m79eAccAAAAJQGfc2pD/wABdEfe+PwlMIaERzdbseRrzIBL5pzPp/iejAvAmakA\n",
       "AAJtQZt4SahBbJlMCCn//taMsAAy39zH0HY0jpX67rsRtTjsMyG5//B91x/7r5wvV9o3ybI89u5Z\n",
       "Glr4hI7CygmnZYGbjwxAaUJ+EJeqxXtjbpaTDrrXDS1FnWwgGKHh9xDp1/S1Egvm2mME7nA/hJRv\n",
       "t/4LNj4lkIwOjcHcwiBl6IJMXM3k5mTbI+lYj7+X02LHVN/LDhYcuqlTSYEpaf6IkV8x+tZaUYOq\n",
       "aPp9eJK53ievZGCHK7bVye4QBqY/7EZM8H58+1jXvC/i7yn9CLuRTJnewixBb9c6xV7aND/nj9sT\n",
       "bhsA74Xpz/aK7FsHcnyb9SrlB4uuVk8P86qjmdR2aheRAM3ZjBvsnRTr7nMLEgBjon/xF9zv3Dfx\n",
       "F+O7dMJH4WQehV86rRT9FiOnrkFO/02KikcHJlGP2/VaHhf0VRr039qOoWnJkR5aWzMSUZHymBlY\n",
       "VZeVZVGvFigWyc3GQgCe0dv7oGvx/M6NGYjr+7bicedqu1+09KQKlRJBeynduIOEPeRClsDZeaBh\n",
       "k5SdmsgoWzMoehfOebqm8H/5w688MJJWfcdqlv+xXM6TzuWzTtW4KEObvZ9AkTHEs719Wyox7TKz\n",
       "V2CPs744MToVqgfwOAfuS88AuP57HZlDexYzv1tokp748Q+RBCz/17LVSrfcP2wHFGBF22q+sRHc\n",
       "6a6CKB/Cw5FsQWdCKU22pmDyj60qUKAUVIA+htuOvCb1cACh+FOfR2HwZBroPiuUOWsXrno6+IBh\n",
       "NMAi3nmQt+rW9ujU7+yBjubt1ZMbUxTAoOpKbFzJ6AbRNwEWqqH7Js/U1iAcPibn9Lj5L+ThAAAA\n",
       "LkGflkUVLBD/AACoFpomnJVkJSTclBNzoWV4Gd8Q259zogDIxwcBl2kqE+zdIeAAAAAfAZ+1dEP/\n",
       "AAF0Fv64QLx6UtFq5mf2tNFh7zhcxJwHTQAAACEBn7dqQ/8AAXRH3vj8JTCGtyACtG9FpWu7Xlbd\n",
       "ga1QA0cAAAKjQZu8SahBbJlMCCn//taMsABS+Qf+HoqgAhB2DQe/nnq5mW/nVgV+8nkA9kEA9FJd\n",
       "XciwMtI+AMv0XsBhgArLgne7CXmSglKmnds33IwFkVRtq63oNYeC9Siis7LWxg4nV2pADN3CbIN6\n",
       "xF9s9/BPycnaLvDrRoGNlXSIws3AjbZr8X9NFu0YQKPnf71khMDOQJX1Qs4w5AW7SNn+4H8ymlzA\n",
       "rDbLP21xaBxH9lbwF0OOPbx+bDbr7sjywY3snZyZJK44vAA6ABJdaKZfZ2SuhiEGMS0Z3tKMw4J3\n",
       "AtCUfCNrscBsU1rSf/tU17qKVevN8sis989McOWbRrA6p0zjTggE2Ph1uwORaq91JEn4zAWbk+6H\n",
       "mH+qgsqUVAckm/CY7k21X6CUfQeknJm+5BaWKNU96Vx6Ev0ulgRnAjSV69e+cpbWviI729Pq/g+d\n",
       "pxPV23SobXRHWeRyzGOh7kbv6OzGZOMJ8MXh/f8JM/qtmFDYCSwYb3QqaNs3L5YNCSorOmlBSYZa\n",
       "Oe38ZtTEZF6uBNQajk/+SIxxDfB5pVxrjYWzvbz1tV8h0XnSb5Vi1aBRDWtumzeYV6LQWWEEvPnP\n",
       "vRArY+rLHpOavr2bs7FTa22T8wrFH/AKhXhr+uCWNUFLF74rUWtr399XI5phkNqU78TmVMUxQBEi\n",
       "W7+S/jX6A3dopVW53SNO8nZo3WLUxnKfad8VwdJEZVpKb2e0oG8L9iGC4jFjpaEGff6KmIxMCso1\n",
       "rcaNm8s/p0esvgbP7/dONw0fuFZwmOewOKvsKm2KUWbfZYOWE/FRMRXTgiTLRWheEDePihHe9DUe\n",
       "NhKz6+7WjlntCmLGuympJhbc1xpRD3yUU2UOTSUpqG6ZONT+NU9N8uK4V+sMakdoavXcve4jcHmA\n",
       "AAAANUGf2kUVLBD/AAGRodM5pQc5ugDhAUD+qJ1w9wTRXb8l3lEsDnZBoAE5bzsHChVKEBIkm87p\n",
       "AAAAJQGf+XRD/wADc/86YUy/rs94BGVy5VBN9gXKNxiWWYBD7OWAMCAAAAAqAZ/7akP/AAF0R974\n",
       "/CUwhq/82qxvfB0jzYB+E7/roZpQAbVWUbcF2EPBAAACkEGb4EmoQWyZTAgp//7WjLAANBl//9Kb\n",
       "HgEJUyJxZrH4HGnuB14qXX/5VRau+uKK5oxl7JdXogWK7a85C6A/ErE5noXKXTBDygrVZT0dpEAo\n",
       "rshLDaUD/BS2V7bx1MM0lI1KykV+VEzGgik/cboLytrvsaSdcqqChVvqaeIvIHrgAEo0QY+mWYE7\n",
       "dU6VkXVQMmv+wxLS0hB1DbvBUFPhKnU8/SPYblKBNgjDxs1aReXNy//FUJX7SqkaNBl6RaBvhYaM\n",
       "JIEz0/+mE9nG4oSS0ot8SSwCd38+mGY4PRR4pF5D9r/vRD7dkVySZ7UwplOlouEuSBK/3egHTcQi\n",
       "8A5XIUnoB5mIOGBr007WO4/8NhAoZb3KYr9KrYPyuIV4OINvAbOoV2puI4ZWsUxaoCjv5etWmv0H\n",
       "fncnJkyZigO1F1VQ6AfIrmr0r7tKwE6BMoKWvr3b6IY8QXH7SCevUmiHqcJSD02jYWzASFLufCxm\n",
       "mUmlX7gfJEOtcbphfpouW+HfTjdDsDE4ezpLkrooygVYDXevyBlxDJ2o4X5n+Gn9uHXHL1ujEeTs\n",
       "z21Lga4NBW+FZzs+RYEiqRwQAhSXAWjQq9rnrFAYKSqMjfZYRCWYiwX+J10YcHuNgZxwU1//6z69\n",
       "YdYe9FGVfuZtQXGiEndc74j916jbozc8gOu9knGjS6l8m1pCxFq1EZwSyowIWGO50B/GoSsQBvFg\n",
       "7mKODrIcTRron8nBi48Cc4luNgU5RqZMe0LN2a6Rciy0UM5VJhsWNZCbXSlRy9A6k872kCdbXL54\n",
       "ThujXE3k0XyXbkn1HV0HGTom5rCQtpleRyXGMfTw8GEoOQxfkI/fJw5qlVWkGpmWimzbZPOuMzyU\n",
       "ojqtMDETAAAAO0GeHkUVLBD/AAD4X9Y1/sHcSFuz9ceL5LKJxkJCYvLs5QCigtNOdgAWU7vlXB4o\n",
       "Yh0SCXdA58HTkWf4AAAAIgGePXRD/wABdBcXA0UlIzKbXs/7B7ZOQ09yjY5LAXVELOAAAAAiAZ4/\n",
       "akP/AAIq0aRiVqll14MOCKdcaW5N14musBG9FdSDgQAAAoNBmiRJqEFsmUwIKf/+1oywAAADATHn\n",
       "/Hp9oP0CAG4RE4pzH7wTxBWdtFBAIlSt2H9GbpdgKZ9dedd9ICmsXAtqXQ7gge5FO7SlKoIukw8b\n",
       "DAt1lcyvt8fOX8E65ZoE1n8TplagQTr/gFuwa4z9fRPhdYY/vbi2B6ZLuPDSbJFSRO0fOVvuig3L\n",
       "DLtGdw/PTs6WOUiTeGD6QFV6LuV7X4KGOm2GnvQ11uVxUd4/xpZy1dgzjxOzOPgBxDTBZNCD9Ma5\n",
       "7PzmqKuti1MB7tp3EhsywYPR4dAM0i791Udld3IWuO10aL3nx0CSCBBofTXNMZbrgKjPmMGpBi0V\n",
       "OQ1h0cKC5W9ZtCh0vXVU5CABOrgZ+8d+qnZ4l81u+HWOgW5sFSbbBKhfhKYK6UZ/ikzS39sgBt/9\n",
       "KuD26zCoHHHzwodJsDdmcfmZi8VG2GhtIHFq6zcLjxrCKYg+aki/IPsdQMD2m76W6v1uHgSSJo8w\n",
       "lWm73bMfU45FSHVKcJYyb4AMlSkzmCmnjAWq7JBtS6NyH+5kCeueaKdP2i1Br/86p1qH0zV6rLyi\n",
       "YhmwRMzMiLUTz1gSj3sAMnZuexUxUPPcZmFURboATRERbFHoQ6O2gsEkEiqWselv9R1jYIPGbLH1\n",
       "T7hcseKT0Cuh4UwGs4DLu0DBwCuRt6R1qi051WoD9kK/0RJ/Ylr8u2mMEZ/KQXsEDh7vs1daCpxn\n",
       "Z+gw/3w7R/N5VbFBb/3LWj7Qekwe6RfB5tBm4oIk1BJ+sRO6TF5bezyPQcUWyecQzCcbWAVDeFjK\n",
       "E3YixC+6u4sI+JqFPxQpPGxIygIYaRtq3c4oMPzHi79GfT2FXJETCvj/2iAc/YiMvnLiAAAALEGe\n",
       "QkUVLBD/AACoFpomnJVkJSS/4uFQej0tcH2f+H1PmbMhupNwY0/AAOmBAAAAIAGeYXRD/wABdBb+\n",
       "uEC8elLd8HVZvPQ23OhJCoHgAAi4AAAAIAGeY2pD/wABdEfe+PwlMIav/Nqqzoc8JggAvhWkAHBB\n",
       "AAACZkGaaEmoQWyZTAgp//7WjLAAAFv5B/5KKAgEJUyJxZ4Ce9QESXgdHO5XzPKyKh+tgQDX6hmu\n",
       "GRDBjF4rIsJD5y331MMnMXeFxkMz/mxHLKmyHkO9Og3c6+qNjtX5KziV2bOsX3fkbbt4OQ8/Q22V\n",
       "hF6Oc6VF+ibxuVrCFY7pN7enVLX8bv3FN4YcK4IBcUj0I/0n4/99d6WWLyfVIRgg0l/nWvPhuPjR\n",
       "IYpUe5KiFT7D49ZFdOmX3wC3oDNr4jJ3Kv3YsG7hEPSjg/GINW+F5xsynTAb+1IQg1tC3y5IGyh6\n",
       "9xCbGJ8nWAH2UxKZcskFrJYb5UeWyQwd4jV3DNtKN3sL+qQ41G6xhlwc9JX1YZM7jl3yJlW9ygpt\n",
       "D6/BMW8AD51sVbEZNW3WugVDZg8gr/2jG9E8dYa4cjSWPyZ15gBSrKC4Jzdv23EqfwGeVaBbycKQ\n",
       "j0BUIeCBm+Dm4oitZzUNeW4RdNBr48G+ggPeOSfolPlAXJm766E0HIqxNSoguwOCsm3gCAo6pmqX\n",
       "UZYex8vWh6GvtzA/H5iVqk1EsWBV+y4cpbUO8v6dUUbHkQSATJ36YL1Mo03T1nRjRTZt8xKVWdn7\n",
       "RplkbwqvhjetGCVvxu12RM6TnFJmlEekJ3c3DroypPUU3G+WUgKuy9FK7jV1zb7gtFWzF1d2rDL7\n",
       "AmIdS3CyO35aBwcd26kuflHp2LVOYW0o4T7irfhEbqybfut5o3L+O4UYJEL8IdC8JiDdYMzzTf/V\n",
       "6CVjdPOLoO9P+HsNhWLLbKjohokgEzP1ynOIqASbBnoH8v82uZjm+NHLQhsIht4fAAAALkGehkUV\n",
       "LBD/AACoFpomnJVkJSS/43P2odYGwPFALJ4oOzY9wFqJXQy8W/MvQ8EAAAAfAZ6ldEP/AAF0Fv64\n",
       "QLx6Ut3xBwbZbbqkMZCwoAAG9QAAACABnqdqQ/8AAXRH3vj8JTCGr/zaqri9ewYUDiSOnpgK+AAA\n",
       "AmxBmqxJqEFsmUwIKf/+1oywAAAiDjhhRvUwhkZy8rGinj4jKE8/+24Weboqh5F/kpQi5Mq16IFi\n",
       "Jnp4TmkOUt85dvxv96myWOqu62/kSZmFgGChYZo7RQD3sGtZnYWX0wM3Pn3YU+IUO+tJC6IW3A4y\n",
       "M1i3dw8xk0Qxny49YQgX0gIm9eU8J6mkD0A2JoKHESzzfQNUqr/fBtNdhb6DxqSg8iA/l3i/Yd1c\n",
       "AvDHcTbz9yt7jVJPUwbDqnwpmJgT8NAE16oae3Fp8RPcqgnsn8Sit9zdoAtbN9aj9FFH+zRZhWU4\n",
       "VX6q07I+jZkPvzB2s3oPZ7gYoGZhtAI8/HZCNcFfPppHrMUzgORr/wk5Nh75V0xNgnfbHr3XG3dr\n",
       "L777tAhQz0A353Tm3lltlTvkMlVpYE5MHaGS3uNJxemwmBxyvFpWaw9HFk5bxn2jQ2Vh5Gyspz+H\n",
       "7DH8k9Bz3BtLNi4z/DJQrzLCnCjY8PbiQrU1w/kLhaQH+uwaNCtOY6CTooIGsY2gYvUK0Qravnds\n",
       "ia+aBoaO7Y7sxOmKF7jLnOvSJdAIPdePQPftpcresPTaE1I1pDYd0hzUREpDGl6akWhUbt8um4pR\n",
       "KiHYoZuKvdDzLd/C0K2v5AaYp5GP8yz6qUm/EOAMSAXVSwz4+7MPo+90w+3b1g9eVND9Q95cSp9z\n",
       "Xa093IljtCohDT/WucwXmrbmZ2J40r5WPsHMijO7JLlaXZ8ysWBUdCoQmeBAiC+Ig+NHpWFwc4FY\n",
       "ttw8Kx6weCL1uhVXAjXcsJdGrXoSABAuKrhJu3e5+rt6LX67njQIs2FFk8huG5Qrh2zRJAAAADxB\n",
       "nspFFSwQ/wAAqBaaJpyVZCUkv+LhUdhGcAAlq4S0OEqIgg/RHSPjywIewNc/zh8cBISXi3M1fV73\n",
       "f4EAAAAkAZ7pdEP/AAF0Fv64QLx6Ut3wdVJjl+WaflKnaWP/hAAMAARcAAAALAGe62pD/wABdEfe\n",
       "+PwlMIav/NqndD/rfGyYialE6DGDjx3p8mT0LXD6IO6AAAACM0Ga8EmoQWyZTAgp//7WjLAANRuH\n",
       "V+B/U1RB0absRtTjsMkpWFxxoK4Mv5EYm393HOU0CICss8G0Pn4w80vLrfXJ3vkfw8mtTnq1k6kg\n",
       "kn3rgeRSu5fVa2dFD+Kz3yMcQ14b6nnwOWA4OoZL0+tXS+kC0SN/wFxD9xWncnKHXzJGSYyCpXgW\n",
       "kx8EMYy/TEqY2GlG8qze6GsMdYV21X/M1bY0F/hQmMtVzYVF1P+3a1pQbCXmifbrBj5sMH4ckzvu\n",
       "XC/vtIyHwq1WIOZ6yowKJpwFtDKGjBQJW+ecqqMuwi4v1zXHFQtNDLLAhT3hyRQBHbdvZXFvp8yt\n",
       "KweStj0qcqurTCV092/mKvBLxvPcPaYoPISWYBk1VPO6FDIjjmjoTpiuls1xJxNGNrp/K/YqlYAx\n",
       "arrq9t7C63feSrp5617NNAD8AlCxqwabcRJTIK+8LNN0pslhmq6cRfx8mFnRM19yjZ280kni/SGB\n",
       "71IxOFiNhuLQtjh+CT3FFIGeQQaojECF/pqYVPxs3v/IAL44Zax0pTr+d9M5x74KaiGMJ3AzfcOV\n",
       "uH6ft33/W/XBgwySEt3U+/zNthsZEKy6VDZo9SXk42BMZDoZnlJMvAARyVWK9IBYY0fqr5qkGRP1\n",
       "/dMOJWSdo7YBoPne1Nn9og+3z3AJm0AldGTk/LyKC/Jom+ywlHOiW6D8yePwcS4Juw9sbv/Zgv2I\n",
       "6zhk9+OvBhHV6Cg3VsjQAziSZOVsS6n3N3d5uC7hAAAAMkGfDkUVLBD/AACoFpomnJVkJSS/4uFR\n",
       "16IuvlSGoD7+AYjflWlTpYKzfPpZ2TfyYEHBAAAAJAGfLXRD/wABdBb+uEC8elLd8HVmutGIbelf\n",
       "RHIaY+nndgBswQAAACMBny9qQ/8AAXRH3vj8JTCGr/zar/rvCMhIq4CPPdo/yeAS8AAAAeNBmzRJ\n",
       "qEFsmUwIKf/+1oywAAqZhnACJt+E1mfv5ISGf2I4jxDgRa3S56qphCGg5KjV9NVaW0EtjUb/N15f\n",
       "fpx1FIGmrWJH4Q855WuFfNKgzNkVHVcxQ8rYD0mYA9p/v52sTUgJ04Ux/x8N93pobg4oA3ymCWDM\n",
       "9HpnL/5UGIO9qRxXMhJs5Bx6US/M3oO7fiqz9BtAaZSB5X6RaWyVw9Z/8OnAfI+kfNftLD2WhgKx\n",
       "k9yheNdLJxGzq6SRuUAABkBbwD4txuESLeqJIcjpKln9sZHMlgPV96xIyC0vvWdWOYdyv+9lKgZQ\n",
       "FSLX+wEAOOnPp1z9V7m05jOh5G/3vogYuz2SX+qaKq5vRLd8Y8nu2O0MFB/Pv9gHzfe9tPbaUQsh\n",
       "XUM1Ao2LgKKxGEVhwanBZW2HB9rEHzG2ODFNhdKAM0rEQdG4aTA0+1pbzb7AbIckIEhbdQL6J148\n",
       "rMh0u9ddeQMqpqHHhXpX25lJwkfCmOrcQL3DjuU1z5tiGhHbu5GomWwfNyZEBxmEnSSGfT/M2bGf\n",
       "ra2AjzJy4XC1aOE2vBQSo0G15mUsJ6MnXbk9JtXGJugL42nARAxBfto3XWofvpHWJxqC2UfL6keS\n",
       "kcQTpB9f5JnkqqpuePW2qYpJpyzLwYEAAAAxQZ9SRRUsEP8AAKgWmjsHVThG3qE7mY2SVbLjI9Py\n",
       "SnZfsQcFeDRB0trXU7X8T9HH+QAAACQBn3F0Q/8AAXQW/rhAvHpS3fB1ZjsZUgqNiWm4CaIOKb8Q\n",
       "AbUAAAAnAZ9zakP/AAF0R9+cRrnAhUxNowWjCEeq5FbtNeD4V1JhYjWnTipgAAACiUGbeEmoQWyZ\n",
       "TAgp//7WjLAAEh5/8Mm6MSvwAsSmROIIHigecOqZjJKrd7E44XCJHiFraz8W6B0fjFYnfn7oBwQ3\n",
       "cOWzmO2z2IYMEgZmK+TrpuE2N2ifQVKa6bSF7R4kpfR5q8PbWiInuO5A+rfaBs1uoBScSOk7r4MN\n",
       "wbyKNUMqJDQxS4dIOVndWFqhkADfOUZ46fpCjHSmSAWUtrNr6RPgTScYgEHBhAU0jMMjvsVvdgSk\n",
       "Zt5L9dSU2U20FIEBGur2sXBFfuP7edVe0LcNrdCRu3lhe8NqN36V18pkR7YAnf2CH/wXcGGRCu8I\n",
       "n4aJzpwGdf3itqD0lFJGzlZKLQs2O07U6Kb5RFFxR/rg9TslKgvCIK5Wssm/sxZ3Oqb+li98PVxi\n",
       "X2tPadcDCcEguJxsHnxyF1LWuOOIl6F7SsfBLUmFd2PWd5dPU/cjNNSYMpcleUmfPcOx0eCeuYS8\n",
       "HX0oROQol87Ot5SgwVf66veeE3gRnLdbJJ6QpbvmNQ0aMmrAyFg+iIQisGlJiSy6xF99gvefFu8Z\n",
       "eAOhCzNAKWZb2Yne3IF4lbReuDApzSj8CArl0SrOeIYDho4ee11q0wrPEGBmsDahl65cGsS9x6GQ\n",
       "TREBO9bIqoAlwIji/gf6yqzOiGRi3CEGnytLay769nTqAg56vQJDzepmMtE2+E48MzXDtOUGvTD/\n",
       "tQ4AEpLxjc7bQfeip/9g45SJ0Tnt4XfP1/Ex2LBUoEN8N58pt7xvLED5+mGWmI+0vfHR8yFw9DsJ\n",
       "iNhziCjg1qAk+UpV++U879xfgxsy6u8L/VOe0YmPlYadbUoBchMow8U/VDc6BE54Nm/WuhdbaVUR\n",
       "8N20338wPw7GJBwZ2mEAAAA2QZ+WRRUsEP8AAKgWmqgzX8OnveMWCNiu+yoC12WCeX5o+Xr9PAPQ\n",
       "WgIUJ4Yy0XwjnjZGnPmAAAAAKAGftXRD/wABdBcEqMH+Fwhp9pY2TVoHkdMAx0jfA1WmrZOY8d62\n",
       "PmEAAAAnAZ+3akP/AAF0R974/CUwhq/82q/671wjLC13QpqMxNWWT0qgCAF3AAACE0GbvEmoQWyZ\n",
       "TAgp//7WjLAAEgcmoABX9zNI+GnPhTMCck0v8Oj/X7HKn4823K7wZxkVqqmRJW/+X/huHKx3YVPk\n",
       "XSW0s/FCFCqdvC4yGZ637zmmcvhJEP6N21ifduV9kfJXKcs2mArRHjUR8Soh7SPdq20GQ9e+LVhq\n",
       "zvGZg1uS//L4QNbcPbJb17sU4ooICNfNiwiw1OE8SsG9boBYyZuUNILeAyZkIOb/fxZmJcd9EMp9\n",
       "H0qhOu2MKHNDIRq9efruY+GIQ0b7JRygIwJn0xN8XUhkAbWgj2ThjxL8F+23FqmPxWMu6yDGfKqB\n",
       "XsFxQQZGV/ppZZS7HwTnu0gJmBv/EX3O/cN/EX47t0wkfhZB6FXzqtFP0WI6euQU7/TYqKRwcmUY\n",
       "/b9VoeF/RVGvTf7Ij10BbnXqrWTS2xLBYljVb1P/xp5YDaYc0DF87VOvRMJuXpUev02fSN7QYdcY\n",
       "ldPyxHYTT5eyXqxOra4IHwDXhLWyfz4SI0XuTSXsHuoGP04uIyyhD1qECQXdi/24BZWh1qnuwyEa\n",
       "nq+iHyPoLfdZO73PUsIdxro5R7DyVreEXxtSBK4FVZjMSxt03VZPTGOAU38lBQ6SyoUBrDQqoZZa\n",
       "PqcZ0IqvkZcoxKTjC+bYpJSEFSCFiRiwFk1RIeOnaHaVLQaNnRKUaXtTYwS+PUXWmgzRzM3ynCWN\n",
       "Cwmy5mfXYaC7gAAAADNBn9pFFSwQ/wAAqBaaoGU8DzMOvGEWLsG6xhw9T2Aon9o8zjvCLA3yAhnh\n",
       "fFr5YSgAA7sAAAAmAZ/5dEP/AAF0Fv64QLx6Ut3wdWY7G4WiCQkwE53N21zTvXAAC7gAAAAoAZ/7\n",
       "akP/AAF0R974/CUwhq/9Hflo16hGyDAeZFpbIqHVWMQoAABUwQAAAoVBm+BJqEFsmUwIKf/+1oyw\n",
       "AAADAfOCIgAFYQmi+9S7JU2/f/DCur01AgfmErJ5PgLk3YVrUWrko8W7HJbvdVjnwGh0+DsZGY8L\n",
       "SsUMhme+85ijys+m5Oy2y9Zv4XPgurUlTg4rZVlVPo5pRujWK+2f/IhFj3iQxcubycbZ8vkXYQZF\n",
       "BaBU+JufbOMlPuq3QyMIK/NEbG0lMRKpoWIlhhqscEPbyzXC2sfm8VkuLyMMfLyUWw+aBshn1Isd\n",
       "iMz6+NsDnMo8OHHEWst1sms6si4HKFy7HiOTU+GUFzmm+AqERjTNWUYFW+Z8BsVM1igHANkb/l/2\n",
       "VgQ3CDSMWRLQjniAXWz2F8ZKKNZh1e9D/IJe1qbTWcjsnO8qiCdlNP9dARwAUQYG9AoTNFhMe1rZ\n",
       "teqxGjc56CyfKh/nksM7IqpVv1XaitnBIBSi5HBOLJo7G5F/hoRBbnNP75JBPDj+FWJwKM2G/9vi\n",
       "6ZTvekIuPyGBRP+xuNkhQfRTPBWZZQKHCjU763oTacIOwiWAe7AmuwxcMoVi+8motRsQwOCp/Keb\n",
       "F2KMTFGbvogit+4aWOkGpVIz1jXtYIugotob4cvVscav5rwxFlTkWvmNTQ7QsiN//YLvkCFE542h\n",
       "opU9g8KyCUU3umQAItLLgqQ9k5xGijfyoquOizNZV9wzXOr5U2aewB0Fg+ayQ4kQb5HA+ialwXQ8\n",
       "9VY69Hf2bTClVQ2aE0OTE0lSAzY0DnqY9XFU5vDTQxtCKbcR9kpA9/1ncPkT3lkDEnb9WEHXxpjg\n",
       "J0EOXI29+Y6az8u6MO0gtNLSCsJi+UmsUla6o6NjqIJS7IzaVXdiYtQC8MKsjbQ8fQslTWvkL9bi\n",
       "cZ8AAAA4QZ4eRRUsEP8AAKgWmqBlPBnD1ajHdPnycvHt5Ve7AMAAUha4v9tgxQyIzJ29xMfJmDit\n",
       "2+/NltAAAAAnAZ49dEP/AAF0Fv64QLx6Ut3wdWY7GGaO7qqaInwNVpoMOKvVKQu4AAAANAGeP2pD\n",
       "/wABdEfe+PwlMIav/Nqv+u8akZxIRwbkYPrG7BjPVfgBbj5VV8qCKXNxBoOAjYEAAAIUQZokSahB\n",
       "bJlMCCn//taMsABb+Qf+HM8AAtTl84XnrdDRCd0KJJcojzTo+h3NGraANCfUp3KWXk8f50hjxDg4\n",
       "7KaYJQnYA+t8q/hDkXJGmvCip/v3qt/xCMCwX7D27j99M0H2HMvEG9KCwLuVryYT1KO8ZOH69kL/\n",
       "VYMfv7gkSAFeFGivmUYYTmIcxCodrN87CADqBnnFx3SD9vpTzkJLyM7AorYcI97wPOBQxSD1cUJn\n",
       "rTvFyAo6T1/TIx05LnbaxqsgI8z+kKPiVqYNcKqYBi+epK5xFp/ffwxNYiEkYPi+WNtMW1ixN9aq\n",
       "Rq0W24WarU24s4EAajT2iU75d2BEORyyY6mZTg2+7x2cbPYaA2SV9148Vpeaj2AEVQSYb15gcpc0\n",
       "ykL3AWbZpvXRQ2PHUXWUzctKdQOP0MTFjUeLxLX/RqodK9QWpuKQLAygaGf6ulOEW3v03Bndiuua\n",
       "Pl1gG48LOL/gFnZKnu9HpFz4bUxMtBAcBaKLM4QhvAQlHriDlX3ze1y1HMoKhZ5zzG+vZHDEpyon\n",
       "9bXfjCQ/JELxE7dEqhWUlXrygSyacxJCebeDDpRlteARmfLKu1xHDufDDM++mkJT1/Wxa0Y1vuSF\n",
       "2xp2tY5bkkMOP89Pvd1FTR5Of89PAu51E1toynqI1IIbmT+BWlHvrdsjgSUdslFNiWyNAd/KENh3\n",
       "67m3XdtH5vBpFa3z/AAAADlBnkJFFSwQ/wABuaH9Rh8sJRpUlqJ+ckRx3LROXS7tJ7dn6iBgBVDO\n",
       "c1BETJCwj3kkO2whrAbdRf8AAAAqAZ5hdEP/AAPLXyKpJ8quZoPBzQ/IBAt9A3mu7ZE17vGt9qPA\n",
       "ikAy/gGzAAAAMwGeY2pD/wACKtIaksNx/Xj6Xc3uQkLMAbUoGohMjzr5X8RevBBzWW9sUbzAkID3\n",
       "xADLgQAAAihBmmhJqEFsmUwIKf/+1oywADVVSkqSYYAljvt1BIrCzNd8/9I1Fr95u+gwT1VXs2uM\n",
       "ROLOcb59D80Kjt3uZy2SyRDnD2DXZLrl2UE4wbx/rGanp+moc/kWyrQbvMpMhg2bW+DyqfrO8EWO\n",
       "XXO7bPtpyoC4AhteFDzXI0zjFk4KlV9qu9b9l4x8MNONZVpRP14tPv9eeAiub/kqTugnkt4vENQz\n",
       "ufhWcmh9jXuVxgJ/RGobcSWz7AaC5SziJ8fNYlObzeqCegJTXAUQqplE9/3oTrvD3cnIubJMFPh2\n",
       "dY1B5QjvyRJffZ4elttMqxBGjD+Btq3f7GSyMlkhvpP//EVNUJO6JwM2GbEkpHU37trQkvia8dOv\n",
       "AQJ/bzc0cqxm7jpJsHHa5MxGdFDX/rA8bD0lm9lRRrR69Opz+AkRfT52WMJ3A1eZPMRucl/QRSje\n",
       "MhHgGH48BFnQvUe0nrlwLTZeH1P6Qn8sAiksRAfmJNJKYVa6wYWLiyE3bbx2Wv+ZIMUA71ccCmVT\n",
       "1lDWEcwmXwjEoZMZ8VtSuc6fOK4cRTc9JPexxsLFJEsGeH4bVmSIoZP1oL6+CFuJMUxBA53OePZz\n",
       "Pg8/gZMtF2M303uin10OGs1Bie4ogaG2T3s0VfCOLxnyAu4YZQMrI2TyrdDBYZxOMD7/32iZo9D8\n",
       "O1N9DcEvCpo0DSFwVkwpureiBoHD5cItAiQFyWmCusbZUWR/F0d5NbcmgWUsfMEAAAA6QZ6GRRUs\n",
       "EP8AAP3PcJ6R4EjunFih0yJVpEMuEUsyFgLq1nckMIAaAwxdRmjXXTbrAIQQEjgH2JwS8QAAACcB\n",
       "nqV0Q/8AAjsZchko4elOkNscKvJ6esXVWF8EgLWloE3zAbefgj8AAAApAZ6nakP/AAF0R/Uv0gaQ\n",
       "/hiNLK/RR0Ng/P6dj0QjW5mmSYFUAjLbA3oAAAJxQZqsSahBbJlMCCn//taMsAAAbzcu8AOlvqA4\n",
       "RnPX7yDRIlYRitsoJQxagQoJSOPJife2AIF5Oh/64Wh8Vz3Ev2KvwBc7NFCVjvc07W7sY/q632RI\n",
       "yKNeysIfFWGqxK2/KFXqzOd/0KiOTpfUGOOUhcPFH5j5fxGVriu7cu2i/UNH01z8WBBrCRq6Hm7g\n",
       "98JpqVaYOWXk7TK9hHG/mmznM2gGerCHG0f7ZlUizX6a1OOGYLOUDwODV6SiwhjI7G4gDch8YarC\n",
       "h4WWInbsL6EmoGXhPEZNiuyVvyJ2VpRxRA4UBc1AOh7NNW41SedAdS/dB8K2cdS//swstQmL8XkX\n",
       "H+sy5JQc10yMWIF+BkpAPBQ+sacGYVjmMCRHtoGSZwf3Fuhiok/Z1AglmbqcshHPFS+LSIlIUvIJ\n",
       "l0qp6JIB+AqE7OB6740wT8ToaaqFWSDFPxvUh/Bja+y97w4BXTZWUPnv6y96nQ/GkDYvP0nDfW7N\n",
       "Plh+ZU+z++90Wjyy8+BN2K8AALDdCfwlIEhfeATbvfzBVnIvp3epfCDFRlc7L2u4Z/1sZMsuw5SU\n",
       "DsZDCxr9RJss6oCPLhRpxEefn6dBbINdERUDlF7J84UBVqI6XYSv31QXZ1ecm5MATIKgkFWdpvuv\n",
       "IkE8+siwG/wsW69XUBxcRY8ux5YlnnSgUcPOkMWmwivWhBDRlBNuRjwgTqNlQg5xQt6NHoXq8+Lm\n",
       "n0GPJeRX/Wsv72DeCW3ato2DQcBY0vnUhXpxReDbY1k/2LoK3Uk8l0y3o+Q9Pdvs3x/a5gfAtWli\n",
       "8Zb0UvmSikqF3TNH6aHMxqYnDqE9c13IAAChgAAAADxBnspFFSwQ/wAAqBaaoGU8OsPIkyYmejnl\n",
       "o2D7qC8a1epG26r6PQGUBL/6GBu1bj4BYF+JaSopQLCEAdMAAAApAZ7pdEP/AAF0Fv64QLx6Uubw\n",
       "DWL5PkaMITBPwNKpStcDPhbAMtmAg4AAAAAqAZ7rakP/AAF0R974/CUwhq/8/zgcpFe4rciC/hNk\n",
       "T6gegMYFLAs0XBEwAAACVkGa8EmoQWyZTAgp//7WjLAACI8//8lFAQEK34NKPkCgjZH44lHJ3uje\n",
       "cNQflv41UqyLINH3jCgo8udecgF9QIUEpHQc0jI+ZUOP9zr6us5STw0uzrwh+6+jPwN8y8quhlC4\n",
       "f0uL1byNkwcpomPvEJZfk3TIG+LYUCyPf1ULoOgLuL9NEBaH4C0PepR7upX3Jz9LO7da1mFD5c4H\n",
       "2nuvhtVyu1dttAcD/DtBluKaHUGMCbm/RWafwoFhNFPTDT/CtEXkTd9LnbRcSswG71Arpr2WTl1U\n",
       "r/sa0YRvtGfRhyDXLnQp9MOxczjFArAr3S8OO5lNSaKgUggFHDzGl6w9PQCkRptdt4Oj6O0Fi1gF\n",
       "1PpV09+zdjBsplLVY5O33yGhZraNgVyw4R5k0FgCLrD0QDXFiiwc800AKGxKR5E10fbGGTSdvmqV\n",
       "9ejjoQjDIVnHja8zs+rTVyHuSOtMbPK1nkfwlPAg0b2ZB/9sZUwP8SW62rkSa2EIAYbEjTUsiFzE\n",
       "GKLQAcdv3mvM6oCjFMvks/8Ifs9JqM41+QMZ6YJXfdjgoUu1kShJeqgdWEcoMs7jvSmr/EMBTvMU\n",
       "I9GGPeqFmd16I8ihIeOcT1gvdYE0UC22F1RA5J+nUz/rSNprVwCKcjW21wmpLSY+5Msfd/gT1IwX\n",
       "LA9RUQCmYuJ0tfxm+O7Rl5eppxvCdPLxBa2pxhdTDEgqm5oc6M9qo9ZYHnzvIviPFA+OZyeZTs1k\n",
       "Oqk8T102DY0cl0Ds9rYiJST58bfiWrlu5DHe3xZDUddYMsVMbfVgnUAANmEAAABJQZ8ORRUsEP8A\n",
       "AKgWmqBlPMMOmmUpTQRqxZD46653ZcPFJMMgAuqwv++r+xVKUUfZT4orsljB7gD1D5twoQaShl1O\n",
       "kpAQonA4IQAAADEBny10Q/8AAXQW/rhAvHpS3fDh12zTgvsAsIEqw+Sdj0E9zsAq1elF4R61Tqkw\n",
       "eXErAAAANgGfL2pD/wABdEffVXp9bpQwRyT67PgExLAVrmYxEQ1v9B4inKKIwgCG1Ugb+EOOW1S/\n",
       "Qtp3QAAAAgFBmzRJqEFsmUwIKf/+1oywAAvHIF2d9l9CABy3L5wwNnXQpu8qnhFAvrBZxPyleboz\n",
       "Iu/ZC0h/7pcQYda635AKouHHwAU73CN7d0bJ/yu9hQ0+nTOVlttqhwUFsC776fg3USgmhKS4PfFh\n",
       "bzbYo77jvbfMmcrbTP+LNaxAnDVpaTrJRH2mQ+UuXNwB3cstP6YNvvfy+MYX904ftKlbciQ1sUvQ\n",
       "du+eeMtkGPnZAyAeuMMlGds8HuZ6iVQzHzpVCHanh8e7AJaJS15A7PqDuVDviVkI4i+uEHg/W4A4\n",
       "dq1oA6lEIYTz1FoBsq+0SfcWslpE0GuJKAwwnA+efiE1+iIN8n+jF1sE7ZpvcE6vAeO6E63UAWqJ\n",
       "/toZX8kKwm216EyIyw7bnKNfKuSBtGcvas/rnOrVtLOOxCACsRHNT8X6p1CGGM15ATPdpm995y5L\n",
       "vAevF4IQHqiM3hU73l3G2+3ipbnS1ie216PFiHVVwv1EtgonN1213Ezpp8XQCc2Z9rQgLOwWCnjm\n",
       "FYoDWIDcfYJKXSGVKagssaYSshSHxeN3JEHxOxobwQiOyryBK89YuZQQD8miN1oEdcAxYRcW2aN0\n",
       "z19lrkOTmxrgGIYPefcjxLnD81bVAm8mI8ImSSUaAA2kmcJpgZFcfhOqrUYnb4iva+Uy7G3830Sp\n",
       "r8DmnOVwwIAAAAA7QZ9SRRUsEP8AAKgWmqBlPevn7CXJezcjTgkQ9F+e6Q6QNPBBDItx9K3BgQHB\n",
       "8t1WPCK2AejIfELxDKkAAAAnAZ9xdEP/AAF0Fv64QMH83MyyKzohlDV3VtH2tAArbJm5/AJSAK2A\n",
       "AAAAJAGfc2pD/wABdEffw/hKUOf3qOUTrLLC4vVWCi1R6hLYDujCVgAAAnBBm3hJqEFsmUwIKf/+\n",
       "1oywAAPnBEQADo/Wf04PodZsmuzWInFaWwx3QBmrJ5wSqfehANCrDEYCc9TJ8phj6Yyo/KFQvfOn\n",
       "G8x16qitVaui7E9BPVGVmvFwGbB5HmsOIQIysnbavjG9wESe3VwZEHWV47+Hnf/B6Po3gSRDgErT\n",
       "MPqOcPft4XGQ3/+tYmzp490zo93jKgt8hHoLXSsPUE8BsRuUFMoQg261VZXqnbvkh/X2BwALzis1\n",
       "Jxsv/6zWwwli3xPaUF+ekb7QrwbuaPgGtK86H9vRFLmoprJRqPrixdTiWYwRM9OnQtq//psAypjs\n",
       "/xU9nUhF4NAfL/RuojC+JSTQnA6qk5naTewPkhBQoH2jZiKmNvBj3gJmGyOJM2uKPq/PDj/kOPH4\n",
       "PqOmk3+zuaRo7/BOZy1fBBZ/iz6Ya3gjBDWI0NqejfaPouI1rrwkrKzg7318kqut+Gb4n1nHO3Fi\n",
       "ctN1ZaN2HmJ9AC29hR1tsGBPrYKF5w0NiaEr1PMC1OKpmfksI2/SJw8S9wREFvuVTemAANsAcJwl\n",
       "KHgtg2g9HGC27F/5WR6eR417xe7WKFk8XmShrWX9fEA0lkyPupOTwUi91o70wcxSIsXbUjqYn07s\n",
       "Pa/lqOp7PQ2yvFaVkK87A4MYa6bdDtHr8o+DacPKiTybDWHCEznMnJmvuJrma3euayU2iINqXSfo\n",
       "Q8vzsqGoiqCRNtfZvz5OPpuwnoFmgLDNSSAPup4mm0C0NOWGp2TzAOizEbb8LXsdMizSTywpB4PB\n",
       "TjBKuo5ZmCB8ClB0WoUATOAW7C1GfojxM10qGM+/5ZwuKe9m+5NnCXkAAAA+QZ+WRRUsEP8AAKgW\n",
       "mqBlPEXDLLoex2xYFpGnWd+qihaoLHv0Tk+gAdPObdUv2GVG4IMMQrM/Ehu9AxbY6YAAAAAmAZ+1\n",
       "dEP/AAF0Fv64QMH83MyyKziqtA89TAzRjDd8XJnoqRxAtoEAAAAnAZ+3akP/AAF0R974/Clc93n8\n",
       "nMzFOITEKxAaQO296RPewApYAM+BAAACW0GbvEmoQWyZTAgp//7WjLAAXjkH6auHElwAF+cvnC07\n",
       "H9qdEiw31ZAb35P0pwfuGXQ+f6DZ/phIEqZnMf1O2Tl/+CuJ+kmTL77PRHqN9fZRGgRBPH56JhAA\n",
       "x57ZrzUWzz7B0+88BijpiwxUSZqZ63TPlzyO27OAKFTIwwha9l+ZCTkCg3PJYrKZEBkG4Q8fB4EA\n",
       "VglLO506FLZxojNs//xp4K7Y2VuScwPk8Ex1MVYMtS/3GqDMYSbllmrhbKJ+TcotnFZiJVlXYjWS\n",
       "KeXtulOTQvlNhSDdiJAgwQ05gIVkSnqQrzdwN77MNhWkVSJMs80R6Bk2UM27+KgLylhHNo+z2Ne0\n",
       "v2SLtrSWrcAn5u4xZqxlMwV19lbDwmI41c3MQF3FcMFwTzby2V2qj+P/MNE976RU1dY+cVUWZ86N\n",
       "WgbUHqFubCToMmWJ+3xBx/W1YpED6zKueA7elgBrj0Ur1A2n+W8Dye2ZSXbPbewpuyw8eXsOyn48\n",
       "6UMcFEGmT4QBYXxN7tokwCBVoVyVuDlHJvy8SWPbFqcEUlL4UZI9mnfKcUw1Mv5nlLqQ8LFHWAT0\n",
       "Oz6uou363BAaURwAN3zpid7pngLOjSF3dm3TrBdL6mnh9XK3rHYcU2MDa/0faajH+9+BjS1rpSLi\n",
       "SQ6bq2Wn/pxZVyPdewAnzwTS+XZbpMULpOqicdDkUI1e8HeB8qY3myJZEh5WEUEEvpknMoAI6woZ\n",
       "G2tfVVemIWJwxgBJgscgpi5+EZMIZr9cIVb6fYtfjoH735SdpU0VALGy8Qey3JFSmNXSVdwzkqgB\n",
       "bQAAAD9Bn9pFFSwQ/wABxJ8YS1Vc3pBDdYjdXP2MCRjQl7hzkblWoAo7cB+QShPFrksDECQzGVmz\n",
       "GCvX6OAw5wa4AccAAAAnAZ/5dEP/AAPh+gFeroIFO+1HA8eik3RXZqxYcbBecmll2gA74AZ8AAAA\n",
       "KAGf+2pD/wACjo+R9FmA63DC5Ue52ADnhfZctmFIgN2+N6FQBeAAl4EAAALuQZvgSahBbJlMCCn/\n",
       "/taMsAA7qgdelhAFR3i8ZVz+vp3pBBf/r72cii8BOAZaTgCg/zD0gCqAiwKX7Ly30VgcMY9FLRSW\n",
       "zvYg6aF2/Jo2OFjoyXhsdk8Xjwln/nMhkYVc4uc2DsmqOAGBwVNSxIWIAosLXK97ICBD/rerJne7\n",
       "ejn8X54psiO7uld9AhbbcEiVQRSaRuTmt7WPxSeDd4njQu9wVbU1w08rYDWAhjGuBGQFmWz0QLt0\n",
       "krzXD4EndgA3y8QjAFNcQbJou+Sy6xOWbRxhtKaO02tIzgsQnQV4mHK/cKNx8GTixcydzGbMd4Yn\n",
       "Ja5eXRyoxq7PBRwUqVyzJhhM69oc69xsnl4JcK1xU9NL0ie+dhNsxZGMbU5EWWQgt6/SC+u2jnwo\n",
       "bETRlc/swQfUwD68bxO0rWxb9Z7nCvmRqb79ZyiYHFdHW+pQihiAWttxT/cRPMOd/064wrJlJMJq\n",
       "VD8+8ZqETaCTWYsKtlddjsfV2iMA343QHyTRUngmMXavLlyL1XRvqquUgIW4WDtKijv1hqgA+jw9\n",
       "DmKEhm45UcRYeCBSrPDIB+XINhkmX7h+Fjn5HZYbZqve/lKm4NRDxQVEE11+5NlrQ4a1dUOARO9+\n",
       "QeEQyrrpymZvML42yy0nciPKeZBz/hHfU63b4r4Ha/0w6uISAiwF8T3xvfY9wqSOXDBoHp1LvFan\n",
       "ugdH2vJhGl9Ao1nqpapICqJSYTkwGdtnn99+UaVhngdWZq43sTeTDKolmx+JdJvqauesCc5qkUYI\n",
       "NQjmTkMwX9gIPhgOGrIrGky+WZ+2z61rP3p2/3ya7l1r3dA8n5dwHFx69VqNQHpIJS2WgMVw82nC\n",
       "McLlwLS+60kOHlS6ch626SnCRjcVxcdoax1OwHZBQqsziggBUrnP8UFROimTcTktXfIpl45KPgFS\n",
       "PivNpgu2NqFShn0plFLUnPXXRTBrLzcXPQFgXi53JgyDI3IizYLJ47NB7PckpWPniY10i2RdAAAA\n",
       "QkGeHkUVLBD/AAElQ99IAH6vZ3XH12uBR5xjsX3atQxhYW3J69oHxLxgpaqcFc8ddixmUQ0hey31\n",
       "9IbQLfQSSYym9AAAACwBnj10Q/8AAo4uC96/swWT7j8Dj6OsGNiPh7NKJEXzOcWhfolIN5BgCQgB\n",
       "qQAAACcBnj9qQ/8AAXRH3vj8KVz3efyczk+5KANwqzEWoAJPCE77rO6SAlcAAAHrQZokSahBbJlM\n",
       "CCn//taMsABEHOYwBx43DU7PSbEj/BL3Z1p6VXEvAQR0Y8NVAafXx2BpbncmRrn1iag+XUjNC5fL\n",
       "8Z7/IIY1fcY/2qpOAVD2H9Ve9I2FCSiVuwzU/Ohwjs5z71s11art6BnVRJstMhj2/wPdXaW5Nj4/\n",
       "JNf4NThhHWj7h8d1I1nyb6BEoVXTP0Y+6zlq0tYENpatCZHQRVGOYicdWhNFLNfSYHt/YJkRWmxH\n",
       "qRaKvOq8O6nbhSfivNrzqYLfQsnoEA0Azy6TwdVIyGcsIYAB0eXfiwm3k7gV2yLnAhkxI/1DNU5+\n",
       "wKV8ztBM+g2xk0CHwn3y2fvyqJZ5Pj4u70clJDCx7qq4FzJJ+7O4PwdCM2tgWfyhT8ikASxHvwhU\n",
       "Exm2Z35lP9eBMo3Bsv0VO7Bqk3Yb7/qtjhD/CFf4OwvPDCcKGUwBqukeTEAILjZyN3NGNLVD4PLn\n",
       "aD22O+7R7FDGpd0BeH84N9asyusiq+g780dX3R+uK/pc/ij4wQmGCYSnDMjtV30f1u5KdWgOzcw7\n",
       "/ORfWutVCrZAUnlYOF718fjfGPdomwBW4DF2PG26/05FXfcu3kfOrbhDZuvuWfdJXHagqLB/Y+h9\n",
       "Kb5sFsClnNezo0zfGNZC+wQ9NYtiX90s4oAAAAA9QZ5CRRUsEP8AAU/50zqvp6e8IiczcourRTqN\n",
       "u4SOFF7gN8CUJZUhFMBPhaSYlARAnaPV4+oepCaiFnhAgQAAACYBnmF0Q/8AAugtujGAYzawVeM0\n",
       "Tw/wXhfqkVezU7fxrjB5A94BnwAAACYBnmNqQ/8AAXRH914LkqeD+JEDl6hTdFNQbExFur8IXH58\n",
       "DC7RgQAAAiZBmmhJqEFsmUwIKf/+1oywABGefY//9JtgcAItjcLxeCOOPb1KKGUM02sPA8Nv4A1D\n",
       "qsSeLdxHGQpkff2SkCNqn4NpsksQDwDxYAC7ni0aOLIShWoOZ3inlVm8PMdsMCKz7+ewvbmh0C5m\n",
       "nsF7LS9aEwShOCVhLxWZWcyS33WGZNYiaAGp+d6GKlIVAV254HCMnqCqSv3YV20ouAf90dz5/Z2f\n",
       "cGek611wxrTIA9WEN80Ax0T/bQyv5lcfCArPFDee2yE9ycmmA/qzTL1btqXHUtZV4zHwVjdjRDZd\n",
       "yfAQRu8xwD1woCnTE7TrK/82vUibtN5n0gbcQiOOeavgZDpJFPsM6yix6LJ0+myDc3pD1P83a2Ra\n",
       "+l3rtLoxN56yEtI7ctEu4ipSFCRJAuQZtr8wzBT5smmxti2ILXqVmi5fM5JpYuDPDU7iMkhi10Ir\n",
       "rI0FNSbBzS/xIn5OIwIBsivpU5YdX34Rb6R8qI9v93ZYfl95BRX8G3GXculBPLWSWCwtK0oPASdP\n",
       "m0wGJW3IOMAHXux449efXoVpz0I/hB3PWK6+8FHZlX9WwE6/0SzR9UoHQMS79QYEk02nViXJs3Iw\n",
       "q8i3/5/joJIqDOMw684HHDDhv7gacJAZLOCJFjyVT51GCBXJca4k9KgaRaRq8OVPmo0uKEsC2VG7\n",
       "6q/dAK5iKtFmRk/hcE7JNxJ283JoUEN3mvrn5AsOQ09Qr2abz9erPeaj7c+BAAAAPUGehkUVLBD/\n",
       "AACoFpqgZTxFwyy6HsdsWBaRpzaXLZN72e9h5PoB2xVxsCPFVZe1LJDQBXaiFa9tDVSNyLEAAAAp\n",
       "AZ6ldEP/AAF0Fv64QMH83Mz5PdW+5doUXt5xQncHukjD6ayXL1MYg4EAAAAqAZ6nakP/AAF0R+Lq\n",
       "bBOEQKTN4y3GSckjjQ1xe3ZR8xh2swn9qsiboIOAAAACG0GarEmoQWyZTAgn//61KoAAAwW4/ksO\n",
       "a+foAj0LM4gNURl0zw+5gzgyyYEZZp0JnvXI24+iO0tNhl0fruvLsDuxyz5xTzNeDu1YZyXo5RSj\n",
       "abgZ2v6XqUN2s/j5yYcAmclyMpM6lUa3f6axciPUvSqVRlfC0yhi+GdTYvsCoZzk3A7tPzwyegrx\n",
       "/yhkTAh/+oYN+rgPEId7lQlfoOfg8fO5+QCIc8OBo3tXnq5WDWAHUCx4KisVppXNxhXib90p4BWk\n",
       "nfwFiubhHnMfb3TqRANDQXbWsanOQs/VH4eNee2bmpimWgs2ruA/IeoYMsAK+NgTuE3einYFB1NS\n",
       "mbCB0CH7pS43MBg3+s2QpO8uCdRKAsf/Iz2790vB4faUwgTmCh6nzNY3XLxSffBbTtShJDH7joF/\n",
       "J9POXDBqk4FhVYEu38+68damXzpQN87+ecFh+twjK5AQJSzKWtJKHgklCK7ImaLeR/yfQvu06l+N\n",
       "voXSzv/pGnA1jRDLTBXK1yyL+k3ZJB/mLKjqLW3MlOyACErd+xCbPtiRQZHFjCql4KES6UcUZoPH\n",
       "pUVFnyuAhFpyyXwaqqhU+QuY9FJy8uIA3w44LLctEHmTFFOgp8986sY4KZVmwE0ze5sXELDjW1ac\n",
       "xd9GW/1DU4aM7EGMg2iUq8HgjY08cOOkepOmytH4cDDRuXcUBMEKhvD5RXHpAurddE0k4FGhc9fg\n",
       "+gwIAAAAQkGeykUVLBD/AACoFpoqrJOlTAxwaacsfXsj20QfC4AJ22+V6f15kyGvS1Dagmo5Me6X\n",
       "HJYAbPQVWiKVMUQd8koDuwAAAC4Bnul0Q/8AAXQW/rhAwfzczPk92gS9cWo1x2C1IvrFLbxs/+y2\n",
       "qNnjoLhtwmIOAAAALwGe62pD/wABdEfe+PwpXPd5/JzPX3DDxDywpKMritpOrHTsq7bgWteQS+KZ\n",
       "vBZQAAAB5EGa8EmoQWyZTAgn//61KoABEHH4iAIxcd4K4yI3CTEsuxKyx6o8reMsljcY/V8kB5Y+\n",
       "QlwRnvDgFO8zAmTgQbKTKiYtN7nJ2uxF96t3bBOlYq86RwVG/z3810/44m3bqW2wd3+8qXpoBF9p\n",
       "9F0mNLsU/CVb/T69CRPUbVjw7/JfpwhhimBvh5seB6ajNydioXOGeBgN6a8jFFRF+nnaR1QWZ6en\n",
       "5gS3Prf7YZhDWjWaldV+Z7VRLir8LF3kMkGKXF3nrWJA+51NUVh7Q8a7m3E6jOVQL6TxCuc4MPJE\n",
       "RUQTrcnFcRJtqwp4u1M89ClgLXNd35EX7hYakV1Hi4KVo/5rZ2lmEuzgqf0oHTLomiQzXAGQkN+4\n",
       "ehERiVC8BjSjaE3Zj+94UXrYPqWShmq0gzHAGHcKO5JKZKHSRLRWWqN2zAEuJxGA44wBGhrm1vaE\n",
       "E7RiQi2YwnHUpc1aZnhQoC4BAzYXWh3sfM2yoSezzdmtdPbhiFk04eRC8Lo3b7U3oUioHmYaVa7g\n",
       "Gn52dybOoD4POpGKmIensHmvNcQrCKZoLLf5IBdipMKg1RIBLy+E8ruF8eu5q57vkWNzXafvGttD\n",
       "yqFlqd3cCVqg7kC7N9S9O1fiqOVxWol8qapUeTBfLNidI80AAAA+QZ8ORRUsEP8AAVj5+w9Zx+0a\n",
       "YcbvCNOJ4dACfTgIGHwgDP22JzKXN8fJ8xepGvUP2w4JVZJ5ytBGpYAA44EAAAAlAZ8tdEP/AAL7\n",
       "dKS/X4ts2oQjNE8P8GuFenJPjM/R78lgAAAQcQAAACcBny9qQ/8AAXRH3vj8KVz3efyczk+5fZzw\n",
       "Jz6ht/Cddb0HrkAABcQAAAH3QZs0SahBbJlMCCf//rUqgAEAcfiIAXS47wP8vWjEKyggms1ejrJG\n",
       "ESH7Zugmys7HRZEz0Z0tMUjOW3N9f6jduCIeQ3pRyP6H/ytHgNLhZmr0avuvMQaSO3QFCLQte4sT\n",
       "8uiGuwDUVbyXCX//w14+evap6Wir7ucZUh4GWboX+3I06Ug8t8+QP31mjHNT1MM//FEau7WF52AS\n",
       "g8UdeemGWF/ycIjVp1o4PQm+SAw00ui4ZQ5s6o93/UWB3HoW7wGo6ENWngX2UIjCL8Z4V/1lB3Kc\n",
       "fkEvwcd+5obHuvcfkuLCvbvWduzjRLW4WN16rfWRoB7bvpdZLbgUbkmL8lZcrcIhfgMVmx9ImHaY\n",
       "31iETJdT0u3oxw6+7RT+YaggFB310btWlJ5hS1nuFCQK4y3m1Tzm+Qcu+z5lAm6Smp7SUw1QJTyK\n",
       "CxxAEJ+oqVE0rgHEPdP8ZJSP/M0qpHSD6Wzeo7nNGRmTbFsac3y2qLLmAYSuLEVVMc09AZ6xRBWT\n",
       "JFPGbj2lgABGUxBr2oVSBO4y4LUiTK/ny/yxkrVv7f7grkhpfQDMoALL/p3m0kln6dePWwk+4FCN\n",
       "BJ3MWxmb6hk4b57gV6n1vEbto4sEY6ExZOQZuZroF7ab3s5odCMphkjTdkok1QeFjOzXCIMnBmxx\n",
       "1mfPlckOeBAAAAA8QZ9SRRUsEP8AAUcXvdepz4vKEZZVzXfnzT02CxFuQDsEVK0b5F/ZqD/A370z\n",
       "njMe6YGmzY9QWkutyk45AAAAKQGfcXRD/wABdBb+uEDB/NzM+T3VvuXdMOXMOxGn5OpVnF1qEkSM\n",
       "AAFNAAAALAGfc2pD/wAC1o/F16x80erd9coW/Ny0N0k7MGOcp0XtvlCEM0AN0YUgqPaAAAABZEGb\n",
       "eEmoQWyZTAgl//61KoAAAAULoNcBBgA7dRKpu2RYk4ndWMEXoop/V9aiaVBeshDb6lCH4UezJ4TP\n",
       "JdYTn0iczltgKC6v0rd6Ghl/vvPjFbJCwOQxgSJ8ovocD6XHJBd049rTdaOh1xxk4TLUoE7Pd187\n",
       "Si9+Ty9HegN+eLEnsbFkHVF8Z97UsiFPSqeo5YN+mXr+hFgJEDCglcPvoP/C0V/RdhiffAwDnuTO\n",
       "71vGoYsW18RPE9883iHipQp3t2IMH1OnFUJ/+kuRaR4KIR7zE045tiY2itu9Rv57NS1dUss7hphV\n",
       "ViGsmvQ9moN5uLl1jsZRoOOMaeLDGZt6MKS+Zxh/ilTGN1PN8i8bktAVI2RENz/1Lchr8W5cl8oL\n",
       "9aY+iEP13mPgUweVTzfCLLX/G+ZtvESCWaxNMlQKiUlONWc6Rm3z6A8WF45EeKc5foPIpozc3bc5\n",
       "tcESWFm5qjPdNSLbAAAAOEGflkUVLBD/AACoFpoqrJOlTAxwaacsfXsj2yLmNwoBnmCcM8VIX9GI\n",
       "b45DiH8oBvBET7EkgHtAAAAAKAGftXRD/wABdBb+uEDB/NzM+T3VvuXc49BwuOU/6SObY0Cb7JrA\n",
       "AgcAAAAoAZ+3akP/AAF0R974/Clc93n8nM5PuShzfhw5eBXLUx7Y97Y4AADrgQAAAPxBm7tJqEFs\n",
       "mUwIf//+qZYAAAMDv7P4Xc7/NjACFPkSt5WtyHlDAvC+f6O/GG/w7AhfljjLN6sVEo3e81vD/JGS\n",
       "Wz3fyySghQdA7OoyJsfmEyplU4bjmbAdRZhItU7/Kms8OLOd2DJWkV0TqM8CgTS4/iFXywaEWtrG\n",
       "OINu2Bi5axkkAJZQQifqsySakNpILjvrIeurXHTkYbXjhrULQabPoTS/Wy+ChF3t63rpHpvSAiGI\n",
       "rAhWfSngEktQtBIz4Ka/OY02qhDfNavKMejLKfo1UYzqRqeGz63qnl1VPHQul6/QutP0bZ5MrbFl\n",
       "IQrpNNqQPEbo0H5VbqkuDmgAAAA2QZ/ZRRUsEP8AAKgWmiqsk6VMDHBppyx9eyPbIuY3G5875WWo\n",
       "MhYpD6kUH9fQYXqfMwwQACbhAAAAKAGf+mpD/wABdEfe+PwpXPd5/JzOT7kpE2t5ngDb7lSkb/UL\n",
       "0AAAXEAAAAj3bW9vdgAAAGxtdmhkAAAAAAAAAAAAAAAAAAAD6AAAYOAAAQAAAQAAAAAAAAAAAAAA\n",
       "AAEAAAAAAAAAAAAAAAAAAAABAAAAAAAAAAAAAAAAAABAAAAAAAAAAAAAAAAAAAAAAAAAAAAAAAAA\n",
       "AAAAAAAAAgAACCF0cmFrAAAAXHRraGQAAAADAAAAAAAAAAAAAAABAAAAAAAAYOAAAAAAAAAAAAAA\n",
       "AAAAAAAAAAEAAAAAAAAAAAAAAAAAAAABAAAAAAAAAAAAAAAAAABAAAAAAogAAAGwAAAAAAAkZWR0\n",
       "cwAAABxlbHN0AAAAAAAAAAEAAGDgAAAQAAABAAAAAAeZbWRpYQAAACBtZGhkAAAAAAAAAAAAAAAA\n",
       "AAAoAAAD4ABVxAAAAAAALWhkbHIAAAAAAAAAAHZpZGUAAAAAAAAAAAAAAABWaWRlb0hhbmRsZXIA\n",
       "AAAHRG1pbmYAAAAUdm1oZAAAAAEAAAAAAAAAAAAAACRkaW5mAAAAHGRyZWYAAAAAAAAAAQAAAAx1\n",
       "cmwgAAAAAQAABwRzdGJsAAAAtHN0c2QAAAAAAAAAAQAAAKRhdmMxAAAAAAAAAAEAAAAAAAAAAAAA\n",
       "AAAAAAAAAogBsABIAAAASAAAAAAAAAABAAAAAAAAAAAAAAAAAAAAAAAAAAAAAAAAAAAAAAAAAAAA\n",
       "GP//AAAAMmF2Y0MBZAAW/+EAGWdkABas2UCkN+XhAAADAAEAAAMACg8WLZYBAAZo6+PLIsAAAAAc\n",
       "dXVpZGtoQPJfJE/FujmlG88DI/MAAAAAAAAAGHN0dHMAAAAAAAAAAQAAAHwAAAgAAAAAFHN0c3MA\n",
       "AAAAAAAAAQAAAAEAAAPoY3R0cwAAAAAAAAB7AAAAAQAAEAAAAAABAAAoAAAAAAEAABAAAAAAAQAA\n",
       "AAAAAAABAAAIAAAAAAEAACgAAAAAAQAAEAAAAAABAAAAAAAAAAEAAAgAAAAAAQAAKAAAAAABAAAQ\n",
       "AAAAAAEAAAAAAAAAAQAACAAAAAABAAAoAAAAAAEAABAAAAAAAQAAAAAAAAABAAAIAAAAAAEAACgA\n",
       "AAAAAQAAEAAAAAABAAAAAAAAAAEAAAgAAAAAAQAAKAAAAAABAAAQAAAAAAEAAAAAAAAAAQAACAAA\n",
       "AAABAAAoAAAAAAEAABAAAAAAAQAAAAAAAAABAAAIAAAAAAEAACgAAAAAAQAAEAAAAAABAAAAAAAA\n",
       "AAEAAAgAAAAAAQAAKAAAAAABAAAQAAAAAAEAAAAAAAAAAQAACAAAAAABAAAoAAAAAAEAABAAAAAA\n",
       "AQAAAAAAAAABAAAIAAAAAAEAACgAAAAAAQAAEAAAAAABAAAAAAAAAAEAAAgAAAAAAQAAKAAAAAAB\n",
       "AAAQAAAAAAEAAAAAAAAAAQAACAAAAAABAAAoAAAAAAEAABAAAAAAAQAAAAAAAAABAAAIAAAAAAEA\n",
       "ACgAAAAAAQAAEAAAAAABAAAAAAAAAAEAAAgAAAAAAQAAKAAAAAABAAAQAAAAAAEAAAAAAAAAAQAA\n",
       "CAAAAAABAAAoAAAAAAEAABAAAAAAAQAAAAAAAAABAAAIAAAAAAEAACgAAAAAAQAAEAAAAAABAAAA\n",
       "AAAAAAEAAAgAAAAAAQAAKAAAAAABAAAQAAAAAAEAAAAAAAAAAQAACAAAAAABAAAoAAAAAAEAABAA\n",
       "AAAAAQAAAAAAAAABAAAIAAAAAAEAACgAAAAAAQAAEAAAAAABAAAAAAAAAAEAAAgAAAAAAQAAKAAA\n",
       "AAABAAAQAAAAAAEAAAAAAAAAAQAACAAAAAABAAAoAAAAAAEAABAAAAAAAQAAAAAAAAABAAAIAAAA\n",
       "AAEAACgAAAAAAQAAEAAAAAABAAAAAAAAAAEAAAgAAAAAAQAAKAAAAAABAAAQAAAAAAEAAAAAAAAA\n",
       "AQAACAAAAAABAAAoAAAAAAEAABAAAAAAAQAAAAAAAAABAAAIAAAAAAEAACgAAAAAAQAAEAAAAAAB\n",
       "AAAAAAAAAAEAAAgAAAAAAQAAKAAAAAABAAAQAAAAAAEAAAAAAAAAAQAACAAAAAABAAAoAAAAAAEA\n",
       "ABAAAAAAAQAAAAAAAAABAAAIAAAAAAEAACgAAAAAAQAAEAAAAAABAAAAAAAAAAEAAAgAAAAAAQAA\n",
       "KAAAAAABAAAQAAAAAAEAAAAAAAAAAQAACAAAAAABAAAgAAAAAAIAAAgAAAAAHHN0c2MAAAAAAAAA\n",
       "AQAAAAEAAAB8AAAAAQAAAgRzdHN6AAAAAAAAAAAAAAB8AAAgogAAAn0AAAAoAAAAIgAAABsAAAKO\n",
       "AAAALQAAABwAAAAhAAACnQAAACwAAAAfAAAAKQAAAi8AAAAsAAAAIgAAACIAAAIiAAAAMwAAACQA\n",
       "AAApAAACcQAAADIAAAAjAAAAJQAAAqcAAAA5AAAAKQAAAC4AAAKUAAAAPwAAACYAAAAmAAAChwAA\n",
       "ADAAAAAkAAAAJAAAAmoAAAAyAAAAIwAAACQAAAJwAAAAQAAAACgAAAAwAAACNwAAADYAAAAoAAAA\n",
       "JwAAAecAAAA1AAAAKAAAACsAAAKNAAAAOgAAACwAAAArAAACFwAAADcAAAAqAAAALAAAAokAAAA8\n",
       "AAAAKwAAADgAAAIYAAAAPQAAAC4AAAA3AAACLAAAAD4AAAArAAAALQAAAnUAAABAAAAALQAAAC4A\n",
       "AAJaAAAATQAAADUAAAA6AAACBQAAAD8AAAArAAAAKAAAAnQAAABCAAAAKgAAACsAAAJfAAAAQwAA\n",
       "ACsAAAAsAAAC8gAAAEYAAAAwAAAAKwAAAe8AAABBAAAAKgAAACoAAAIqAAAAQQAAAC0AAAAuAAAC\n",
       "HwAAAEYAAAAyAAAAMwAAAegAAABCAAAAKQAAACsAAAH7AAAAQAAAAC0AAAAwAAABaAAAADwAAAAs\n",
       "AAAALAAAAQAAAAA6AAAALAAAABRzdGNvAAAAAAAAAAEAAAAsAAAAYnVkdGEAAABabWV0YQAAAAAA\n",
       "AAAhaGRscgAAAAAAAAAAbWRpcmFwcGwAAAAAAAAAAAAAAAAtaWxzdAAAACWpdG9vAAAAHWRhdGEA\n",
       "AAABAAAAAExhdmY1Ny44My4xMDA=\n",
       "\">\n",
       "  Your browser does not support the video tag.\n",
       "</video>"
      ],
      "text/plain": [
       "<matplotlib.animation.FuncAnimation at 0x109fbe978>"
      ]
     },
     "execution_count": 70,
     "metadata": {},
     "output_type": "execute_result"
    }
   ],
   "source": [
    "ani = animation.FuncAnimation(fig,accept_reject,frames=np.arange(len(aset)))\n",
    "ani"
   ]
  },
  {
   "cell_type": "markdown",
   "metadata": {
    "slideshow": {
     "slide_type": "slide"
    }
   },
   "source": [
    "Here is what happened mathematically. Consider the following PDF:\n",
    "$$ f(x) = 0.6-0.3x^2$$\n",
    "over the interval $x\\in [-1,1]$. \n",
    "\n",
    "First to make sure this is a proper PDF:\n",
    "1. $f(x)>0$ for all $x\\in [-1,1]$. \n",
    "2. The area under the curve must be 1. \n",
    "$$ F(x) = \\int^1_{-1} f(x) dx = 1.$$"
   ]
  },
  {
   "cell_type": "markdown",
   "metadata": {
    "slideshow": {
     "slide_type": "subslide"
    }
   },
   "source": [
    "1. We define the \"box\". In this case, the entire PDF can be bounded by $[-1,1]\\times 0.6$. "
   ]
  },
  {
   "cell_type": "code",
   "execution_count": 71,
   "metadata": {
    "slideshow": {
     "slide_type": "fragment"
    }
   },
   "outputs": [
    {
     "data": {
      "text/plain": [
       "[<matplotlib.lines.Line2D at 0x10a1a9b38>]"
      ]
     },
     "execution_count": 71,
     "metadata": {},
     "output_type": "execute_result"
    },
    {
     "data": {
      "image/png": "[encoded data removed]",
      "text/plain": [
       "<matplotlib.figure.Figure at 0x109fb6438>"
      ]
     },
     "metadata": {},
     "output_type": "display_data"
    }
   ],
   "source": [
    "plt.plot(xset, fset)\n",
    "plt.plot(xset, g)"
   ]
  },
  {
   "cell_type": "markdown",
   "metadata": {
    "slideshow": {
     "slide_type": "subslide"
    }
   },
   "source": [
    "- We then \"shoot\" at this \"picture\" with our paint-ball gun. \n",
    "- This simply means we are generating a sequence of random points within the \"box\" we defined earlier. \n",
    "- How do we do that?"
   ]
  },
  {
   "cell_type": "markdown",
   "metadata": {
    "slideshow": {
     "slide_type": "fragment"
    }
   },
   "source": [
    "- a sequence of points is just a sequence of coordinates, $(x_i, y_i)$. \n",
    "- Note that the $x$-coordinate lies between $[-1,1]$ so we can generate the $x$-coordinate as $U[-1,1]$. \n",
    "- The $y$-coordinate lies between $[0,0.6]$, so we can generate the $y$-coordinate as $U[0,0.6]$. \n",
    "- For every draw of the $(x,y)$ coordinate from the two uniform distributions give us a candidate. \n",
    "- The decision rule is that if $y>f(x)$, that is, if the point is above the density, then we reject the candidate. If the $y<f(x)$, that is, if the point is below the density, then we accept. "
   ]
  },
  {
   "cell_type": "code",
   "execution_count": 72,
   "metadata": {
    "slideshow": {
     "slide_type": "skip"
    }
   },
   "outputs": [],
   "source": [
    "tempx_r, tempy_r = [], []\n",
    "for a in reject:\n",
    "    tempx_r.append(a[0])\n",
    "    tempy_r.append(a[1])\n",
    "tempx_a = []\n",
    "tempy_a = []\n",
    "for a in accept:\n",
    "    tempx_a.append(a[0])\n",
    "    tempy_a.append(a[1])"
   ]
  },
  {
   "cell_type": "code",
   "execution_count": 73,
   "metadata": {
    "slideshow": {
     "slide_type": "subslide"
    }
   },
   "outputs": [
    {
     "data": {
      "text/plain": [
       "<matplotlib.collections.PathCollection at 0x10a5015c0>"
      ]
     },
     "execution_count": 73,
     "metadata": {},
     "output_type": "execute_result"
    },
    {
     "data": {
      "image/png": "[encoded data removed]",
      "text/plain": [
       "<matplotlib.figure.Figure at 0x10a4ad518>"
      ]
     },
     "metadata": {},
     "output_type": "display_data"
    }
   ],
   "source": [
    "plt.plot(xset, fset)\n",
    "plt.plot(xset, g)\n",
    "plt.legend(['Density', 'Proposal'])\n",
    "plt.scatter(tempx_r,tempy_r,c='r')\n",
    "plt.scatter(tempx_a,tempy_a,c='b')"
   ]
  },
  {
   "cell_type": "markdown",
   "metadata": {
    "slideshow": {
     "slide_type": "slide"
    }
   },
   "source": [
    "### Generalizing the idea\n",
    "\n",
    "- Not all the density can be \"contained\" within a \"box\". \n",
    "- Turns out we don't need a \"box\" as such. This will work as long as there is another function that is bounded above the PDF for all $x$. \n",
    "- The only stipulation is that this function has to be proportional to a distribution which we do know how to simulate, i.e. $h(x) = cg(x)$ for some $c\\geq 1$ and $g(x)$ is a PDF of a random variable that we do know how to simulate. \n",
    "- The reason is that for each point we need two coordinates $(x_i,y_i)$ where both must come from a random draw. \n",
    "- $x_i$ is coming from a known (proposal) distribution, which has the PDF, $g(x)$, and we know how to simulate it. \n",
    "- Conditional on $x_i$, we need to be able to draw the $y$ coordinator (height). The draw must include the possibility that the point is above or below the desired density. \n",
    "- This means $y_i \\in [0, cg(x_i)]$ and if $y_i < f(x_i)$ then we return $x_i$ as the next draw, otherwise, we discard the draw and repeat the process. "
   ]
  },
  {
   "cell_type": "markdown",
   "metadata": {
    "slideshow": {
     "slide_type": "slide"
    }
   },
   "source": [
    "### Proof (Accept-reject algorithm)\n",
    "\n",
    "To proof this algorithm actually works, we need to show that \n",
    "$$ \\Pr \\left [ X< x | U < f(x) \\right ] = F(x)$$ \n",
    "where $U$ is an uniform random variable with distribution, $U[0, cg(x)]$, which can be expressed as $U = u c g(x)$ where $u$ is an $U(0,1)$ random variable. \n"
   ]
  },
  {
   "cell_type": "markdown",
   "metadata": {
    "slideshow": {
     "slide_type": "subslide"
    }
   },
   "source": [
    "By Bayes Theorem, we know that\n",
    "\n",
    "$$ \\Pr \\left [ X< x | U < f(x) \\right ] = \\Pr \\left [ U < f(x) | X< x \\right ] \\frac{ \\Pr ( X< x)}{ \\Pr( U< f(x) )} $$\n",
    "\n",
    "Note that $\\Pr ( X<x ) = G(x)$ where $G(x)$ is the cumulative distribution of the proposal distribution (the draw of the $x$ coordinate) and \n",
    "$$\\begin{align} \\Pr ( U < f(x) ) =& \\mathbb{E} \\left \\{ \\Pr [ u c g(x) < f(x) ] \\bigg | x \\right \\}\\\\\n",
    "                        =& \\mathbb{E} \\left \\{  \\Pr \\left [ u < \\frac{ f(x)}{cg(x)} \\right ] \\bigg | x \\right \\} \\\\\n",
    "                        =& \\int \\frac{ f(x)}{cg(x)} g(x) dx \\\\\n",
    "                        =& \\frac{1}{c} \\int f(x) dx \\\\\n",
    "                        =& \\frac{1}{c}. \n",
    "                        \\end{align}$$"
   ]
  },
  {
   "cell_type": "markdown",
   "metadata": {
    "slideshow": {
     "slide_type": "subslide"
    }
   },
   "source": [
    "Now, \n",
    "$$ \\begin{align} \\Pr \\left [ U < f(x) | X< x \\right ] =& \\frac{\\Pr \\left [ U < f(x) , X< x \\right ]}{\\Pr (X<x)} \\\\\n",
    "                                        =&  \\frac{\\Pr \\left [ U < f(x) , X< x \\right ]}{G(x)} \\\\\n",
    "                                        =& \\frac{1}{G(x)} \\int^x_{-\\infty} \\Pr \\left [ u < \\frac{f(s)}{cg(s)}\\bigg | X=s<x \\right ] g(s) ds \\\\\n",
    "                                        =& \\frac{1}{G(x)} \\int^x_{-\\infty} \\frac{f(s)}{cg(s)} g(s) ds \\\\\n",
    "                                        =& \\frac{F(x)}{cG(x)}. \n",
    "                                        \\end{align} $$\n",
    "                                        \n",
    "    "
   ]
  },
  {
   "cell_type": "markdown",
   "metadata": {
    "slideshow": {
     "slide_type": "subslide"
    }
   },
   "source": [
    "Putting these together:\n",
    "\n",
    "$$ \\begin{align} \\Pr \\left [ X< x | U < f(x) \\right ] =& \\Pr \\left [ U < f(x) | X< x \\right ] \\frac{ \\Pr ( X< x)}{ \\Pr( U< f(x) )} \\\\\n",
    "        =& \\frac{F(x)}{cG(x)} \\frac{G(x)}{1/c} \\\\\n",
    "        =& \\frac{F(x)}{cG(x)} cG(x) \\\\\n",
    "        =& F(x). \n",
    "        \\end{align} $$\n",
    "\n"
   ]
  },
  {
   "cell_type": "markdown",
   "metadata": {
    "slideshow": {
     "slide_type": "slide"
    }
   },
   "source": [
    "Note that $\\Pr [ U < f(x) ] = 1/c$ tells us that the probability of acceptance is $1/c$ on average. So if $c$ is large, then the accept-reject algorithm will end up with a large rejected sample. So for this method to be efficient, we need $c$ to be as close to 1 as possible. "
   ]
  },
  {
   "cell_type": "markdown",
   "metadata": {
    "slideshow": {
     "slide_type": "slide"
    }
   },
   "source": [
    "### Simulating $N(0,1)$ using Accept-reject algorithm\n",
    "\n",
    "Let $Y\\sim N(\\mu, \\sigma^2)$ and since $Y$ can be expressed as $Y = \\sigma X + \\mu$ where $X\\sim N(0,1)$, this means as long as we can simulate $N(0,1)$, we can simulate normal distribution with different mean and variance.\n",
    "\n",
    "Since $N(0,1)$ is symmetrical around $0$, this means we can express $X$ as $X=S|X|$ where $S$ denotes the sign. \n",
    "\n",
    "Note that the symmetry feature allows us to simulate $S$ as a random variable that takes on $\\{-1,1\\}$ each with $0.5$ probability. We know how to do that. \n",
    "\n",
    "We therefore need to simulate $|X|$ which is also known as the *half normal* distribution. Since the PDF of a standard normal is \n",
    "\n",
    "$$\\phi(x) = \\frac{1}{\\sqrt{2\\pi}} \\exp \\left ( -\\frac{x^2}{2} \\right )$$\n",
    "\n",
    "with $\\int \\exp (-x^2/2) = \\sqrt{2\\pi}$, the PDF of the half normal is therefore \n",
    "\n",
    "$$ |\\phi| (x) = \\frac{2}{\\sqrt{2\\pi}} \\exp \\left ( -\\frac{x^2}{2} \\right ). $$"
   ]
  },
  {
   "cell_type": "markdown",
   "metadata": {
    "slideshow": {
     "slide_type": "subslide"
    }
   },
   "source": [
    "To simulate the half normal, we first note that the exponential distribution $g(x) = \\exp (-x)$ can be used as the proposal. That is, we need to identify $c$ such that \n",
    "\n",
    "$$c\\exp(-x) \\geq  \\frac{2}{\\sqrt{2\\pi}} \\exp \\left ( -\\frac{x^2}{2} \\right )$$ \n",
    "\n",
    "for all $x > 0$.\n",
    "\n",
    "After some simple algebra: \n",
    "$$ \\begin{align} \n",
    "        c \\geq& \\frac{2}{\\sqrt{2\\pi}} \\exp \\left ( x - \\frac{x^2}{2} \\right ) \\\\\n",
    "        \\log c \\geq & \\log \\frac{2}{\\sqrt{2\\pi}} + x - \\frac{x^2}{2}. \n",
    "        \\end{align}\n",
    "$$\n",
    "Note that the quadratic function on the right hand side has a maximum at $x=1$. Thus \n",
    "$$ \\begin{align} \n",
    "            \\log c \\geq& \\log \\frac{2}{\\sqrt{2\\pi}} + \\frac{1}{2} \\\\\n",
    "            c \\geq& \\sqrt{ \\frac{2e}{\\pi} } \\\\\n",
    "            \\approx & 1.316\n",
    "            \\end{align} \n",
    "$$\n"
   ]
  },
  {
   "cell_type": "code",
   "execution_count": 9,
   "metadata": {
    "slideshow": {
     "slide_type": "subslide"
    }
   },
   "outputs": [],
   "source": [
    "def HN(x):\n",
    "    \"\"\"\n",
    "    PDF of a standard half normal. \n",
    "    Inputs:\n",
    "        x: positive float. \n",
    "    Output\n",
    "        y: The PDF of a half normal at x. \n",
    "    \"\"\"\n",
    "    return 2*np.exp(-np.power(x,2)/2)/np.power(2*np.pi, 0.5)\n",
    "\n",
    "def exp_envelop(x,c,l): \n",
    "    \"\"\"\n",
    "    Define an exponential distribution as an envelop for Accept-reject. \n",
    "    Inputs:\n",
    "        x: positive float. \n",
    "        c: float, c>1. The scalaring factor. \n",
    "        l: positive float. The parameter of the exponential distribution. \n",
    "    \"\"\"\n",
    "    \n",
    "    return c*l*np.exp(-l*x)\n",
    "\n",
    "c = 1.316\n",
    "xset = np.arange(0,10,0.01)\n",
    "fset = HN(xset)\n",
    "gset = exp_envelop(xset,c,1)"
   ]
  },
  {
   "cell_type": "code",
   "execution_count": 36,
   "metadata": {
    "slideshow": {
     "slide_type": "subslide"
    }
   },
   "outputs": [
    {
     "data": {
      "text/plain": [
       "<matplotlib.legend.Legend at 0x1100eeb00>"
      ]
     },
     "execution_count": 36,
     "metadata": {},
     "output_type": "execute_result"
    },
    {
     "data": {
      "image/png": "[encoded data removed]",
      "text/plain": [
       "<matplotlib.figure.Figure at 0x1100ee128>"
      ]
     },
     "metadata": {},
     "output_type": "display_data"
    }
   ],
   "source": [
    "plt.plot(xset, fset, 'b', xset, gset, 'r')\n",
    "plt.legend(['Half normal', 'Proposal'])"
   ]
  },
  {
   "cell_type": "code",
   "execution_count": 24,
   "metadata": {
    "slideshow": {
     "slide_type": "subslide"
    }
   },
   "outputs": [],
   "source": [
    "def Accept_reject(N,f,g,g_draw): \n",
    "    \"\"\"\n",
    "    General accept-reject algorithm based on the target distribution f and the proposal g. \n",
    "    Inputs:\n",
    "        N: Number of draws required. \n",
    "        f: function. The target distribution.\n",
    "        g: function. The proposal. \n",
    "        g_draw: function. Random number generator based on the proposal. \n",
    "    Output:\n",
    "        x: (N,) numpy array. \n",
    "    \"\"\"\n",
    "    \n",
    "    x = np.zeros(N)\n",
    "    filled = 0 \n",
    "    while filled < N: \n",
    "        candidate = g_draw(1)[0]\n",
    "        u = sps.uniform.rvs(size=1)\n",
    "        if u*g(candidate) < f(candidate):\n",
    "            x[filled] = candidate\n",
    "            filled = filled + 1\n",
    "    return x\n"
   ]
  },
  {
   "cell_type": "code",
   "execution_count": null,
   "metadata": {
    "slideshow": {
     "slide_type": "subslide"
    }
   },
   "outputs": [],
   "source": [
    "def gen_sign(N):\n",
    "    \"\"\"\n",
    "    Simulating a random variable which takes on values {-1,1} with equal probability. \n",
    "    Input:\n",
    "        N: positive int. The number of random draw. \n",
    "    Output:\n",
    "        s: (N,) numpy array, condtaining -1 or 1. \n",
    "    \n",
    "    \"\"\"\n",
    "    if (N<0)|(type(N) != int ):\n",
    "        print('The number of draw must be a positive integer.')\n",
    "    else:\n",
    "        s = np.ones(N)\n",
    "        U = sps.uniform.rvs(size=N)\n",
    "        s[U<0.5] = -1\n",
    "    return s\n",
    "    "
   ]
  },
  {
   "cell_type": "code",
   "execution_count": 27,
   "metadata": {
    "slideshow": {
     "slide_type": "subslide"
    }
   },
   "outputs": [],
   "source": [
    "N=5000\n",
    "g = lambda x: exp_envelop(x,1.32,1)\n",
    "g_draw = lambda N: sps.expon.rvs(size=N)\n",
    "RV_normal = gen_sign(N)*Accept_reject(N,HN,g,g_draw)"
   ]
  },
  {
   "cell_type": "code",
   "execution_count": 37,
   "metadata": {
    "slideshow": {
     "slide_type": "subslide"
    }
   },
   "outputs": [
    {
     "data": {
      "text/plain": [
       "<matplotlib.legend.Legend at 0x110e1bfd0>"
      ]
     },
     "execution_count": 37,
     "metadata": {},
     "output_type": "execute_result"
    },
    {
     "data": {
      "image/png": "[encoded data removed]",
      "text/plain": [
       "<matplotlib.figure.Figure at 0x110a54438>"
      ]
     },
     "metadata": {},
     "output_type": "display_data"
    }
   ],
   "source": [
    "hist = plt.hist(RV_normal,bins=100,normed=1)\n",
    "plt.plot(hist[1], sps.norm.pdf(hist[1]), color='red')\n",
    "plt.legend(['Normal PDF','Simulated normal'])"
   ]
  },
  {
   "cell_type": "code",
   "execution_count": null,
   "metadata": {},
   "outputs": [],
   "source": []
  }
 ],
 "metadata": {
  "celltoolbar": "Slideshow",
  "kernelspec": {
   "display_name": "Python 3",
   "language": "python",
   "name": "python3"
  },
  "language_info": {
   "codemirror_mode": {
    "name": "ipython",
    "version": 3
   },
   "file_extension": ".py",
   "mimetype": "text/x-python",
   "name": "python",
   "nbconvert_exporter": "python",
   "pygments_lexer": "ipython3",
   "version": "3.5.5"
  },
  "toc": {
   "nav_menu": {},
   "number_sections": true,
   "sideBar": true,
   "skip_h1_title": true,
   "title_cell": "Table of Contents",
   "title_sidebar": "Contents",
   "toc_cell": false,
   "toc_position": {},
   "toc_section_display": true,
   "toc_window_display": false
  }
 },
 "nbformat": 4,
 "nbformat_minor": 2
}
